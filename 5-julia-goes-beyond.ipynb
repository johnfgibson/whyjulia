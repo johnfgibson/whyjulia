{
 "cells": [
  {
   "cell_type": "markdown",
   "metadata": {},
   "source": [
    "# Julia goes beyond \n",
    "\n",
    "Julia does things you don't expect from a scientific language\n",
    "\n",
    "  * rational and arbitrary precision computations\n",
    "  * user-defined algebraic types and operators\n",
    "  * generic programming\n",
    "  * symbolic mathematics\n",
    "  * metaprogramming (code operating on code)\n",
    "  * internet-enabled\n"
   ]
  },
  {
   "cell_type": "markdown",
   "metadata": {},
   "source": [
    "## Rational and arbitrary-precision computations "
   ]
  },
  {
   "cell_type": "code",
   "execution_count": 1,
   "metadata": {
    "collapsed": false
   },
   "outputs": [
    {
     "data": {
      "text/plain": [
       "f (generic function with 1 method)"
      ]
     },
     "execution_count": 1,
     "metadata": {},
     "output_type": "execute_result"
    }
   ],
   "source": [
    "# define simple function\n",
    "f(x) = x^2 - 3"
   ]
  },
  {
   "cell_type": "code",
   "execution_count": 67,
   "metadata": {
    "collapsed": false
   },
   "outputs": [
    {
     "name": "stdout",
     "output_type": "stream",
     "text": [
      "f(2) = 1\n",
      "f(2 / 3) = -2.5555555555555554\n",
      "f(2 // 3) = -23//9\n",
      "f(2 + 3im) = -8 + 12im\n",
      "f(2.3 + 4.2im) = -15.350000000000001 + 19.32im\n",
      "f(2 // 3 + 4 // 5 * im) = -719//225 + 16//15*im\n",
      "f(BigFloat(2 // 3)) = -2.555555555555555555555555555555555555555555555555555555555555555555555555555548\n",
      "f(BigFloat(2 // 3) + BigFloat(4 // 5) * im) = -3.195555555555555555555555555555555555555555555555555555555555555555555555555556 + 1.066666666666666666666666666666666666666666666666666666666666666666666666666675im\n"
     ]
    }
   ],
   "source": [
    "# apply f(x) to different built-in numeric types\n",
    "\n",
    "@show f(2);                        # Int64\n",
    "@show f(2/3)                       # Float64\n",
    "@show f(2//3)                      # Rational\n",
    "@show f(2 + 3im)                   # Complex{Int64}\n",
    "@show f(2.3 + 4.2im)               # Complex{Float64}\n",
    "@show f(2//3 + (4//5)*im)          # Complex{Rational{Int64}}\n",
    "@show f(BigFloat(2//3))            # BigFloat\n",
    "@show f(BigFloat(2//3) + BigFloat(4//5)*im);  # Complex{BigFloat}"
   ]
  },
  {
   "cell_type": "code",
   "execution_count": 69,
   "metadata": {
    "collapsed": false
   },
   "outputs": [
    {
     "name": "stdout",
     "output_type": "stream",
     "text": [
      "typeof(f(2)) = Int64\n",
      "typeof(f(2 / 3)) = Float64\n",
      "typeof(f(2 // 3)) = Rational{Int64}\n",
      "typeof(f(2 + 3im)) = Complex{Int64}\n",
      "typeof(f(2.3 + 4.2im)) = Complex{Float64}\n",
      "typeof(f(2 // 3 + 4 // 5 * im)) = Complex{Rational{Int64}}\n",
      "typeof(f(BigFloat(2 // 3))) = BigFloat\n",
      "typeof(f(BigFloat(2 // 3) + BigFloat(4 // 5) * im)) = Complex{BigFloat}\n",
      "typeof(f(BigInt(2) // 3 + BigInt(4) // 5 * im)) = Complex{Rational{BigInt}}\n"
     ]
    }
   ],
   "source": [
    "# show type of f(x) \n",
    "@show typeof(f(2))                        # Int64 value\n",
    "@show typeof(f(2/3))                      # Float64\n",
    "@show typeof(f(2//3))                     # Rational\n",
    "@show typeof(f(2 + 3im))                  # Complex{Int64}\n",
    "@show typeof(f(2.3 + 4.2im))              # Complex{Float64}\n",
    "@show typeof(f(2//3 + (4//5)*im))         # Complex{Rational{Int64}}\n",
    "@show typeof(f(BigFloat(2//3)))           # BigFloat\n",
    "@show typeof(f(BigFloat(2//3) + BigFloat(4//5)*im))  # Complex{BigFloat}\n",
    "@show typeof(f(BigInt(2)//3 + BigInt(4)//5*im));     # Complex{Rational{BigInt}}"
   ]
  },
  {
   "cell_type": "code",
   "execution_count": 117,
   "metadata": {
    "collapsed": false
   },
   "outputs": [
    {
     "name": "stdout",
     "output_type": "stream",
     "text": [
      "X = (2, 0.6666666666666666, 2//3, 2 + 3im, 2.3 + 4.2im, 2//3 + 4//5*im, 6.666666666666666666666666666666666666666666666666666666666666666666666666666695e-01, 6.666666666666666666666666666666666666666666666666666666666666666666666666666695e-01 + 8.000000000000000000000000000000000000000000000000000000000000000000000000000017e-01im)\n",
      "\n",
      "typeof(X) = Tuple{Int64,Float64,Rational{Int64},Complex{Int64},Complex{Float64},Complex{Rational{Int64}},BigFloat,Complex{BigFloat}}\n",
      "\n",
      "x = 2\n",
      "f(x) = 1\n",
      "typeof(f(x)) = Int64\n",
      "\n",
      "x = 0.6666666666666666\n",
      "f(x) = -2.5555555555555554\n",
      "typeof(f(x)) = Float64\n",
      "\n",
      "x = 2//3\n",
      "f(x) = -23//9\n",
      "typeof(f(x)) = Rational{Int64}\n",
      "\n",
      "x = 2 + 3im\n",
      "f(x) = -8 + 12im\n",
      "typeof(f(x)) = Complex{Int64}\n",
      "\n",
      "x = 2.3 + 4.2im\n",
      "f(x) = -15.350000000000001 + 19.32im\n",
      "typeof(f(x)) = Complex{Float64}\n",
      "\n",
      "x = 2//3 + 4//5*im\n",
      "f(x) = -719//225 + 16//15*im\n",
      "typeof(f(x)) = Complex{Rational{Int64}}\n",
      "\n",
      "x = 6.666666666666666666666666666666666666666666666666666666666666666666666666666695e-01\n",
      "f(x) = -2.555555555555555555555555555555555555555555555555555555555555555555555555555548\n",
      "typeof(f(x)) = BigFloat\n",
      "\n",
      "x = 6.666666666666666666666666666666666666666666666666666666666666666666666666666695e-01 + 8.000000000000000000000000000000000000000000000000000000000000000000000000000017e-01im\n",
      "f(x) = -3.195555555555555555555555555555555555555555555555555555555555555555555555555556 + 1.066666666666666666666666666666666666666666666666666666666666666666666666666675im\n",
      "typeof(f(x)) = Complex{BigFloat}\n",
      "\n"
     ]
    }
   ],
   "source": [
    "# do the same thing programmatically\n",
    "\n",
    "# define a Tuple of numbers of various types\n",
    "X = (2, 2/3, 2//3, 2+3im, 2.3 + 4.2im, 2//3 + (4//5)im,\n",
    "    BigFloat(2//3), BigFloat(2//3) + BigFloat(4//5)*im)\n",
    "\n",
    "@show X; println()\n",
    "@show typeof(X); println()\n",
    "\n",
    "\n",
    "# loop over numbers in X, showing x, f(x), and type of each\n",
    "for x in X\n",
    "    @show x\n",
    "    @show f(x)\n",
    "    @show typeof(f(x))\n",
    "    println()\n",
    "end"
   ]
  },
  {
   "cell_type": "code",
   "execution_count": 21,
   "metadata": {
    "collapsed": false
   },
   "outputs": [
    {
     "name": "stdout",
     "output_type": "stream",
     "text": [
      "typeof(π) = Irrational{:π}\n"
     ]
    },
    {
     "data": {
      "text/plain": [
       "π = 3.1415926535897..."
      ]
     },
     "execution_count": 21,
     "metadata": {},
     "output_type": "execute_result"
    }
   ],
   "source": [
    "# Irrationals\n",
    "\n",
    "@show typeof(π)\n",
    "π"
   ]
  },
  {
   "cell_type": "code",
   "execution_count": 121,
   "metadata": {
    "collapsed": false
   },
   "outputs": [
    {
     "data": {
      "text/plain": [
       "3.141592653589793238462643383279502884197169399375105820974944592307816406286208998628034825342117067982148086513282306647093844609550582231725359408128481117450284102701938521105559644622948954930381964428810975665933446128475648233786783165271201909145648566923460348610454326648213393607260249141273724586997"
      ]
     },
     "execution_count": 121,
     "metadata": {},
     "output_type": "execute_result"
    }
   ],
   "source": [
    "setprecision(1024)     # change to BigFloats to 1024 bits\n",
    "π_big = BigFloat(π)"
   ]
  },
  {
   "cell_type": "code",
   "execution_count": 120,
   "metadata": {
    "collapsed": false
   },
   "outputs": [
    {
     "name": "stdout",
     "output_type": "stream",
     "text": [
      "exp(π_big * im) = -1.000000000000000000000000000000000000000000000000000000000000000000000000000000000000000000000000000000000000000000000000000000000000000000000000000000000000000000000000000000000000000000000000000000000000000000000000000000000000000000000000000000000000000000000000000000000000000000000000000000000000000000000 + 9.133833352024599180125447717198210546898671161281024272611229443223053781604030291859166872648904775362024742973537644471991734000035832845360935620115603852146149714433229210713707343080592505078336200427722640480861209277927521424947883394313007151900266906161947352678704040638571335512803354533018167991488e-309im\n"
     ]
    },
    {
     "data": {
      "text/plain": [
       "-1.000000000000000000000000000000000000000000000000000000000000000000000000000000000000000000000000000000000000000000000000000000000000000000000000000000000000000000000000000000000000000000000000000000000000000000000000000000000000000000000000000000000000000000000000000000000000000000000000000000000000000000000 + 9.133833352024599180125447717198210546898671161281024272611229443223053781604030291859166872648904775362024742973537644471991734000035832845360935620115603852146149714433229210713707343080592505078336200427722640480861209277927521424947883394313007151900266906161947352678704040638571335512803354533018167991488e-309im"
      ]
     },
     "execution_count": 120,
     "metadata": {},
     "output_type": "execute_result"
    }
   ],
   "source": [
    "@show exp(π_big*im)"
   ]
  },
  {
   "cell_type": "code",
   "execution_count": 36,
   "metadata": {
    "collapsed": false
   },
   "outputs": [
    {
     "data": {
      "text/plain": [
       "3.333333333333333333333333333333333333333333333333333333333333333333333333333333333333333333333333333333333333333333333333333333333333333333333333333333333333333333333333333333333333333333333333333333333333333333333333333333333333333333333333333333333333333333333333333333333333333333333333333333333333333333343e-01"
      ]
     },
     "execution_count": 36,
     "metadata": {},
     "output_type": "execute_result"
    }
   ],
   "source": [
    "BigFloat(1//3)"
   ]
  },
  {
   "cell_type": "code",
   "execution_count": 65,
   "metadata": {
    "collapsed": false
   },
   "outputs": [
    {
     "data": {
      "text/plain": [
       "19950631168807583848837421626835850838234968318861924548520089498529438830221946631919961684036194597899331129423209124271556491349413781117593785932096323957855730046793794526765246551266059895520550086918193311542508608460618104685509074866089624888090489894838009253941633257850621568309473902556912388065225096643874441046759871626985453222868538161694315775629640762836880760732228535091641476183956381458969463899410840960536267821064621427333394036525565649530603142680234969400335934316651459297773279665775606172582031407994198179607378245683762280037302885487251900834464581454650557929601414833921615734588139257095379769119277800826957735674444123062018757836325502728323789270710373802866393031428133241401624195671690574061419654342324638801248856147305207431992259611796250130992860241708340807605932320161268492288496255841312844061536738951487114256315111089745514203313820202931640957596464756010405845841566072044962867016515061920631004186422275908670900574606417856951911456055068251250406007519842261898059237118054444788072906395242548339221982707404473162376760846613033778706039803413197133493654622700563169937455508241780972810983291314403571877524768509857276937926433221599399876886660808368837838027643282775172273657572744784112294389733810861607423253291974813120197604178281965697475898164531258434135959862784130128185406283476649088690521047580882615823961985770122407044330583075869039319604603404973156583208672105913300903752823415539745394397715257455290510212310947321610753474825740775273986348298498340756937955646638621874569499279016572103701364433135817214311791398222983845847334440270964182851005072927748364550578634501100852987812389473928699540834346158807043959118985815145779177143619698728131459483783202081474982171858011389071228250905826817436220577475921417653715687725614904582904992461028630081535583308130101987675856234343538955409175623400844887526162643568648833519463720377293240094456246923254350400678027273837755376406726898636241037491410966718557050759098100246789880178271925953381282421954028302759408448955014676668389697996886241636313376393903373455801407636741877711055384225739499110186468219696581651485130494222369947714763069155468217682876200362777257723781365331611196811280792669481887201298643660768551639860534602297871557517947385246369446923087894265948217008051120322365496288169035739121368338393591756418733850510970271613915439590991598154654417336311656936031122249937969999226781732358023111862644575299135758175008199839236284615249881088960232244362173771618086357015468484058622329792853875623486556440536962622018963571028812361567512543338303270029097668650568557157505516727518899194129711337690149916181315171544007728650573189557450920330185304847113818315407324053319038462084036421763703911550639789000742853672196280903477974533320468368795868580237952218629120080742819551317948157624448298518461509704888027274721574688131594750409732115080498190455803416826949787141316063210686391511681774304792596709376"
      ]
     },
     "execution_count": 65,
     "metadata": {},
     "output_type": "execute_result"
    }
   ],
   "source": [
    "BigInt(2)^10000"
   ]
  },
  {
   "cell_type": "code",
   "execution_count": 66,
   "metadata": {
    "collapsed": false
   },
   "outputs": [
    {
     "data": {
      "text/plain": [
       "3011"
      ]
     },
     "execution_count": 66,
     "metadata": {},
     "output_type": "execute_result"
    }
   ],
   "source": [
    "sizeof(string(ans))"
   ]
  },
  {
   "cell_type": "markdown",
   "metadata": {},
   "source": [
    "## User-defined operators"
   ]
  },
  {
   "cell_type": "code",
   "execution_count": 107,
   "metadata": {
    "collapsed": false
   },
   "outputs": [
    {
     "data": {
      "text/plain": [
       "(::#11) (generic function with 1 method)"
      ]
     },
     "execution_count": 107,
     "metadata": {},
     "output_type": "execute_result"
    }
   ],
   "source": [
    "⊕ = (x,y) -> 3x+y    # define ⊕ operator"
   ]
  },
  {
   "cell_type": "code",
   "execution_count": 112,
   "metadata": {
    "collapsed": false
   },
   "outputs": [
    {
     "data": {
      "text/plain": [
       "11//3 + 6//1*im"
      ]
     },
     "execution_count": 112,
     "metadata": {},
     "output_type": "execute_result"
    }
   ],
   "source": [
    "z = (1+2im) ⊕ 2//3   # evaluate Complex{Int64} ⊕ Rational"
   ]
  },
  {
   "cell_type": "code",
   "execution_count": 109,
   "metadata": {
    "collapsed": false
   },
   "outputs": [
    {
     "data": {
      "text/plain": [
       "Complex{Rational{Int64}}"
      ]
     },
     "execution_count": 109,
     "metadata": {},
     "output_type": "execute_result"
    }
   ],
   "source": [
    "typeof(z)            # x,y automatically promoted to common supertype"
   ]
  },
  {
   "cell_type": "markdown",
   "metadata": {},
   "source": [
    "## Singular values of Hilbert matrix\n",
    "\n",
    "The Hilbert matrix $A_{ij} = (i+j)^{-1}$ is notoriously ill-conditioned."
   ]
  },
  {
   "cell_type": "code",
   "execution_count": 80,
   "metadata": {
    "collapsed": false
   },
   "outputs": [
    {
     "data": {
      "text/plain": [
       "8×8 Array{Rational{Int64},2}:\n",
       " 1//2  1//3   1//4   1//5   1//6   1//7   1//8   1//9 \n",
       " 1//3  1//4   1//5   1//6   1//7   1//8   1//9   1//10\n",
       " 1//4  1//5   1//6   1//7   1//8   1//9   1//10  1//11\n",
       " 1//5  1//6   1//7   1//8   1//9   1//10  1//11  1//12\n",
       " 1//6  1//7   1//8   1//9   1//10  1//11  1//12  1//13\n",
       " 1//7  1//8   1//9   1//10  1//11  1//12  1//13  1//14\n",
       " 1//8  1//9   1//10  1//11  1//12  1//13  1//14  1//15\n",
       " 1//9  1//10  1//11  1//12  1//13  1//14  1//15  1//16"
      ]
     },
     "execution_count": 80,
     "metadata": {},
     "output_type": "execute_result"
    }
   ],
   "source": [
    "m = 8\n",
    "A = [1//(i+j) for i=1:m, j=1:m]    # 8 x 8 Hilbert matrix in Rationals"
   ]
  },
  {
   "cell_type": "code",
   "execution_count": 81,
   "metadata": {
    "collapsed": false
   },
   "outputs": [
    {
     "data": {
      "text/plain": [
       "1.4707555f9"
      ]
     },
     "execution_count": 81,
     "metadata": {},
     "output_type": "execute_result"
    }
   ],
   "source": [
    "cond(A)"
   ]
  },
  {
   "cell_type": "code",
   "execution_count": 82,
   "metadata": {
    "collapsed": false
   },
   "outputs": [
    {
     "data": {
      "text/plain": [
       "16×16 Array{Float64,2}:\n",
       " 0.5        0.333333   0.25       …  0.0666667  0.0625     0.0588235\n",
       " 0.333333   0.25       0.2           0.0625     0.0588235  0.0555556\n",
       " 0.25       0.2        0.166667      0.0588235  0.0555556  0.0526316\n",
       " 0.2        0.166667   0.142857      0.0555556  0.0526316  0.05     \n",
       " 0.166667   0.142857   0.125         0.0526316  0.05       0.047619 \n",
       " 0.142857   0.125      0.111111   …  0.05       0.047619   0.0454545\n",
       " 0.125      0.111111   0.1           0.047619   0.0454545  0.0434783\n",
       " 0.111111   0.1        0.0909091     0.0454545  0.0434783  0.0416667\n",
       " 0.1        0.0909091  0.0833333     0.0434783  0.0416667  0.04     \n",
       " 0.0909091  0.0833333  0.0769231     0.0416667  0.04       0.0384615\n",
       " 0.0833333  0.0769231  0.0714286  …  0.04       0.0384615  0.037037 \n",
       " 0.0769231  0.0714286  0.0666667     0.0384615  0.037037   0.0357143\n",
       " 0.0714286  0.0666667  0.0625        0.037037   0.0357143  0.0344828\n",
       " 0.0666667  0.0625     0.0588235     0.0357143  0.0344828  0.0333333\n",
       " 0.0625     0.0588235  0.0555556     0.0344828  0.0333333  0.0322581\n",
       " 0.0588235  0.0555556  0.0526316  …  0.0333333  0.0322581  0.03125  "
      ]
     },
     "execution_count": 82,
     "metadata": {},
     "output_type": "execute_result"
    }
   ],
   "source": [
    "m = 16\n",
    "A = [1/(i+j) for i=1:m, j=1:m]    # 16 x 16 Hilbert matrix in Float64"
   ]
  },
  {
   "cell_type": "code",
   "execution_count": 83,
   "metadata": {
    "collapsed": false
   },
   "outputs": [
    {
     "data": {
      "text/plain": [
       "3.01759713532018e17"
      ]
     },
     "execution_count": 83,
     "metadata": {},
     "output_type": "execute_result"
    }
   ],
   "source": [
    "cond(A)"
   ]
  },
  {
   "cell_type": "code",
   "execution_count": 72,
   "metadata": {
    "collapsed": false
   },
   "outputs": [
    {
     "data": {
      "text/plain": [
       "16-element Array{Float64,1}:\n",
       " 1.43134    \n",
       " 0.230837   \n",
       " 0.0257046  \n",
       " 0.00229807 \n",
       " 0.000168752\n",
       " 1.02553e-5 \n",
       " 5.16871e-7 \n",
       " 2.15636e-8 \n",
       " 7.40325e-10\n",
       " 2.0702e-11 \n",
       " 4.64026e-13\n",
       " 8.1359e-15 \n",
       " 1.01053e-16\n",
       " 9.09097e-18\n",
       " 7.44178e-18\n",
       " 4.74333e-18"
      ]
     },
     "execution_count": 72,
     "metadata": {},
     "output_type": "execute_result"
    }
   ],
   "source": [
    "σ = svdvals(A)  # sing. vals of 16 x 16 Hilbert with Float64 arithmetic"
   ]
  },
  {
   "cell_type": "code",
   "execution_count": 84,
   "metadata": {
    "collapsed": false
   },
   "outputs": [
    {
     "data": {
      "text/plain": [
       "32×32 Array{BigFloat,2}:\n",
       " 5.000000000000000000000000000000000000000000000000000000000000000000000000000000e-01  …  3.030303030303030303030303030303030303030303030303030303030303030303030303030301e-02\n",
       " 3.333333333333333333333333333333333333333333333333333333333333333333333333333348e-01     2.941176470588235294117647058823529411764705882352941176470588235294117647058825e-02\n",
       " 2.500000000000000000000000000000000000000000000000000000000000000000000000000000e-01     2.857142857142857142857142857142857142857142857142857142857142857142857142857153e-02\n",
       " 2.000000000000000000000000000000000000000000000000000000000000000000000000000004e-01     2.777777777777777777777777777777777777777777777777777777777777777777777777777772e-02\n",
       " 1.666666666666666666666666666666666666666666666666666666666666666666666666666674e-01     2.702702702702702702702702702702702702702702702702702702702702702702702702702707e-02\n",
       " 1.428571428571428571428571428571428571428571428571428571428571428571428571428568e-01  …  2.631578947368421052631578947368421052631578947368421052631578947368421052631566e-02\n",
       " 1.250000000000000000000000000000000000000000000000000000000000000000000000000000e-01     2.564102564102564102564102564102564102564102564102564102564102564102564102564099e-02\n",
       " 1.111111111111111111111111111111111111111111111111111111111111111111111111111109e-01     2.500000000000000000000000000000000000000000000000000000000000000000000000000005e-02\n",
       " 1.000000000000000000000000000000000000000000000000000000000000000000000000000002e-01     2.439024390243902439024390243902439024390243902439024390243902439024390243902438e-02\n",
       " 9.090909090909090909090909090909090909090909090909090909090909090909090909090958e-02     2.380952380952380952380952380952380952380952380952380952380952380952380952380947e-02\n",
       " 8.333333333333333333333333333333333333333333333333333333333333333333333333333369e-02  …  2.32558139534883720930232558139534883720930232558139534883720930232558139534884e-02 \n",
       " 7.692307692307692307692307692307692307692307692307692307692307692307692307692324e-02     2.27272727272727272727272727272727272727272727272727272727272727272727272727274e-02 \n",
       " 7.142857142857142857142857142857142857142857142857142857142857142857142857142842e-02     2.222222222222222222222222222222222222222222222222222222222222222222222222222212e-02\n",
       " ⋮                                                                                     ⋱                                                                                      \n",
       " 4.545454545454545454545454545454545454545454545454545454545454545454545454545479e-02  …  1.886792452830188679245283018867924528301886792452830188679245283018867924528301e-02\n",
       " 4.34782608695652173913043478260869565217391304347826086956521739130434782608698e-02      1.851851851851851851851851851851851851851851851851851851851851851851851851851839e-02\n",
       " 4.166666666666666666666666666666666666666666666666666666666666666666666666666685e-02     1.818181818181818181818181818181818181818181818181818181818181818181818181818181e-02\n",
       " 3.999999999999999999999999999999999999999999999999999999999999999999999999999998e-02     1.78571428571428571428571428571428571428571428571428571428571428571428571428571e-02 \n",
       " 3.846153846153846153846153846153846153846153846153846153846153846153846153846162e-02     1.754385964912280701754385964912280701754385964912280701754385964912280701754386e-02\n",
       " 3.703703703703703703703703703703703703703703703703703703703703703703703703703678e-02  …  1.724137931034482758620689655172413793103448275862068965517241379310344827586212e-02\n",
       " 3.571428571428571428571428571428571428571428571428571428571428571428571428571421e-02     1.69491525423728813559322033898305084745762711864406779661016949152542372881356e-02 \n",
       " 3.448275862068965517241379310344827586206896551724137931034482758620689655172423e-02     1.666666666666666666666666666666666666666666666666666666666666666666666666666679e-02\n",
       " 3.333333333333333333333333333333333333333333333333333333333333333333333333333359e-02     1.63934426229508196721311475409836065573770491803278688524590163934426229508198e-02 \n",
       " 3.225806451612903225806451612903225806451612903225806451612903225806451612903224e-02     1.612903225806451612903225806451612903225806451612903225806451612903225806451612e-02\n",
       " 3.125000000000000000000000000000000000000000000000000000000000000000000000000000e-02  …  1.587301587301587301587301587301587301587301587301587301587301587301587301587298e-02\n",
       " 3.030303030303030303030303030303030303030303030303030303030303030303030303030301e-02     1.562500000000000000000000000000000000000000000000000000000000000000000000000000e-02"
      ]
     },
     "execution_count": 84,
     "metadata": {},
     "output_type": "execute_result"
    }
   ],
   "source": [
    "setprecision(256)\n",
    "m = 32\n",
    "A = [BigFloat(1//(i+j)) for i=1:m, j=1:m]  # 32 x 32 Hilbert matrix of BigFloats"
   ]
  },
  {
   "cell_type": "code",
   "execution_count": 86,
   "metadata": {
    "collapsed": false
   },
   "outputs": [
    {
     "data": {
      "text/plain": [
       "2.177988536256248982724176502736236250615187593069117314154180618696747880495044e+47"
      ]
     },
     "execution_count": 86,
     "metadata": {},
     "output_type": "execute_result"
    }
   ],
   "source": [
    "using GenericSVD\n",
    "cond(A)   # condition number of 32 x 32 Hilbert matrix in 256-bit BigFloat arithmetic"
   ]
  },
  {
   "cell_type": "code",
   "execution_count": 75,
   "metadata": {
    "collapsed": false
   },
   "outputs": [
    {
     "data": {
      "text/plain": [
       "32-element Array{BigFloat,1}:\n",
       " 1.621285348850195490535789906811725920847712216973467998238033279942275918566829    \n",
       " 3.456868707956789891613041213876354179908321698470618951390175507815876021222828e-01\n",
       " 5.407277491128296640365093840241177508410407990952070794308942113082198416774143e-02\n",
       " 7.247892437505897653348261847192496707722795681674677645117909694725849544137392e-03\n",
       " 8.555573260790678206081844535465751651064962858680634979016093310430705471716238e-04\n",
       " 8.990644124463385238106739660580748661579502401006405063554353238251690973865212e-05\n",
       " 8.469113465736466761723559913788225531943334162106602942912661761678765250832817e-06\n",
       " 7.186343031713320548290344408832921755837525301483893305221488793219514957053055e-07\n",
       " 5.512102340080481160972555679834760007138668266975981663850422474639906908831211e-08\n",
       " 3.831179294893107144564865729031941718145968107442769118914039692971499201649468e-09\n",
       " 2.41692077091005439483947787537410516410728195342639860187641526302909391678774e-10 \n",
       " 1.385214026514799384333207696454040129243594070315913733101035163198451439121071e-11\n",
       " 7.215118537016004343658651831087853830274786574560959044935861349274091695629143e-13\n",
       " ⋮                                                                                   \n",
       " 1.084475414530059171569793825492576302941108268798957947501998738178451089727392e-24\n",
       " 2.206162923165380848983593074674952199726885833682423442614758268226203928741027e-26\n",
       " 3.952235154451152917754719254643876612163749706791893205890362586305795852001964e-28\n",
       " 6.178288776503734172142600194054798399618619228741444459105284859195098777222542e-30\n",
       " 8.330880951107681333066341256517462134475588481965658260028544542279086008797679e-32\n",
       " 9.545983649487228094299175203062478531562335529636120210007530813362894160477128e-34\n",
       " 9.112365936796919191953714026018812451744347733140846657333978516806526737483188e-36\n",
       " 7.050139826131511918363111980783083147260720623840746437262578311650227537521416e-38\n",
       " 4.247022722410804419376555988420890478022770677863336874935021672549500015766746e-40\n",
       " 1.86870391683930163643399198381479808406139448685132623537614538376243897610874e-42 \n",
       " 5.341661287329951560833334130682459188695568910938902462881072974537162296849237e-45\n",
       " 7.44395721952250369439638228866461910238118407741278541665828086597604386031205e-48 "
      ]
     },
     "execution_count": 75,
     "metadata": {},
     "output_type": "execute_result"
    }
   ],
   "source": [
    "σ = svdvals(A) # sing. vals of of 32 x 32 Hilbert in 256-bit BigFloats"
   ]
  },
  {
   "cell_type": "markdown",
   "metadata": {},
   "source": [
    "## Linear algebra over rationals"
   ]
  },
  {
   "cell_type": "code",
   "execution_count": 76,
   "metadata": {
    "collapsed": false
   },
   "outputs": [
    {
     "data": {
      "text/plain": [
       "5×5 Array{Rational{Int64},2}:\n",
       " 1//10  3//5   4//5   1//5   4//5 \n",
       " 3//5   4//5   3//10  1//1   7//10\n",
       " 7//10  1//1   1//10  9//10  1//1 \n",
       " 4//5   1//10  1//5   3//10  7//10\n",
       " 4//5   1//5   3//10  9//10  9//10"
      ]
     },
     "execution_count": 76,
     "metadata": {},
     "output_type": "execute_result"
    }
   ],
   "source": [
    "A = convert(Matrix{Rational{Int64}}, rand(1:10,5,5))/10   # matrix of random Rationals"
   ]
  },
  {
   "cell_type": "code",
   "execution_count": 77,
   "metadata": {
    "collapsed": false
   },
   "outputs": [
    {
     "data": {
      "text/plain": [
       "5-element Array{Rational{Int64},1}:\n",
       "  370871//108680\n",
       "  722899//163020\n",
       " 1880971//326040\n",
       "   87289//81510 \n",
       "  104303//81510 "
      ]
     },
     "execution_count": 77,
     "metadata": {},
     "output_type": "execute_result"
    }
   ],
   "source": [
    "# set up Ax=b problem with known solution x\n",
    "x = [3//4; 17//3; -1//13; -7//11 ; 3//19]\n",
    "b = A*x"
   ]
  },
  {
   "cell_type": "code",
   "execution_count": 78,
   "metadata": {
    "collapsed": false
   },
   "outputs": [
    {
     "data": {
      "text/plain": [
       "5-element Array{Rational{Int64},1}:\n",
       "  3//4 \n",
       " 17//3 \n",
       " -1//13\n",
       " -7//11\n",
       "  3//19"
      ]
     },
     "execution_count": 78,
     "metadata": {},
     "output_type": "execute_result"
    }
   ],
   "source": [
    "# find numerical solution x̂ of Ax=b problem using backslash (LU decomposition)\n",
    "x̂= A\\b"
   ]
  },
  {
   "cell_type": "code",
   "execution_count": 79,
   "metadata": {
    "collapsed": false
   },
   "outputs": [
    {
     "data": {
      "text/plain": [
       "5-element Array{Rational{Int64},1}:\n",
       " 0//1\n",
       " 0//1\n",
       " 0//1\n",
       " 0//1\n",
       " 0//1"
      ]
     },
     "execution_count": 79,
     "metadata": {},
     "output_type": "execute_result"
    }
   ],
   "source": [
    "# compute error of numerical solution\n",
    "x - x̂"
   ]
  },
  {
   "cell_type": "markdown",
   "metadata": {},
   "source": [
    "Julia's backslash operator (and LU decomp) works on all rational and floating-point types\n",
    "\n",
    "LU, QR, SVD, etc. for Float32 and Float64 are redirected to LAPACK"
   ]
  },
  {
   "cell_type": "markdown",
   "metadata": {},
   "source": [
    "## User-defined type: scalar finite field GF(p)\n",
    "\n",
    "Galois Field GF(p) is the integers mod p, where p is prime ([example from Andreas Noack, Julia Computing](http://andreasnoack.github.io/talks/2015AprilStanford_AndreasNoack.ipynb))"
   ]
  },
  {
   "cell_type": "code",
   "execution_count": 88,
   "metadata": {
    "collapsed": true
   },
   "outputs": [],
   "source": [
    "# Define scalar finite fields GF(p), \n",
    "# where p is the prime modulus, T is the integer type\n",
    "immutable GF{p,T} <: Number where {p,T<:Integer}\n",
    "    data::T\n",
    "    function GF{p,T}(x::Integer) where {p,T<:Integer}\n",
    "        return new(mod(x, p))\n",
    "    end\n",
    "end\n",
    "GF{p}(x::T) where {p,T<:Integer} = GF{p,T}(x)"
   ]
  },
  {
   "cell_type": "code",
   "execution_count": 90,
   "metadata": {
    "collapsed": false
   },
   "outputs": [],
   "source": [
    "# Define some basic methods for GF(p) that all Julia Numbers must have\n",
    "import Base: convert, inv, one, promote_rule, show, zero\n",
    "\n",
    "function call{p}(::Type{GF{p}}, x::Integer)\n",
    "    if !isprime(p)\n",
    "        throw(ArgumentError(\"p must be prime\"))\n",
    "    end\n",
    "    return GF{p,typeof(x)}(mod(x, p))\n",
    "end\n",
    "\n",
    "convert{p,T}(::Type{GF{p,T}}, x::Integer) = GF{p}(x)\n",
    "convert{p}(::Type{GF{p}}, x::Integer) = GF{p}(x)\n",
    "convert{p,T}(::Type{GF{p,T}}, x::GF{p}) = GF{p,T}(x.data)\n",
    "promote_rule{p,T1,T2<:Integer}(::Type{GF{p,T1}}, ::Type{T2}) = GF{p,promote_type(T1,T2)}\n",
    "show(io::IO, x::GF) = show(io, x.data);"
   ]
  },
  {
   "cell_type": "code",
   "execution_count": 91,
   "metadata": {
    "collapsed": false
   },
   "outputs": [],
   "source": [
    "# Define arithmetic operations on GF(p)\n",
    "import Base: +, -, *, /\n",
    "\n",
    "for op in (:+, :-, :*)   # loop over ops, defining eachin terms of integer ops mod p\n",
    "    @eval begin\n",
    "        ($op){P,T}(x::GF{P,T}, y::GF{P,T}) = GF{P,T}($(op)(x.data, y.data))\n",
    "    end\n",
    "end"
   ]
  },
  {
   "cell_type": "code",
   "execution_count": 92,
   "metadata": {
    "collapsed": false
   },
   "outputs": [
    {
     "name": "stdout",
     "output_type": "stream",
     "text": [
      "x = 2\n",
      "y = 6\n",
      "x + y = 1\n",
      "x - y = 3\n",
      "x * y = 5\n"
     ]
    }
   ],
   "source": [
    "# Create some GF(7) variables and do arithmetic\n",
    "\n",
    "x = GF{7}(9)   # x = 9 mod 7 = 2\n",
    "y = GF{7}(6)   # y = 6 mod 7 = 6\n",
    "@show x\n",
    "@show y\n",
    "@show x + y    # 2 + 6 mod 7 = 1\n",
    "@show x - y    # 2 - 6 mod 7 = 3\n",
    "@show x * y    # 2 * 6 mod 7 = 5\n",
    ";"
   ]
  },
  {
   "cell_type": "code",
   "execution_count": 93,
   "metadata": {
    "collapsed": true
   },
   "outputs": [],
   "source": [
    "# Define division --this requires more care than +, -, *\n",
    "function inv{P,T}(x::GF{P,T})\n",
    "    if x == zero(x)\n",
    "        throw(DivideError())\n",
    "    end\n",
    "    r, u, v = gcdx(x.data, P)\n",
    "    GF{P,T}(u)\n",
    "end\n",
    "(/){P}(x::GF{P}, y::GF{P}) = x*inv(y)\n",
    ";"
   ]
  },
  {
   "cell_type": "code",
   "execution_count": 94,
   "metadata": {
    "collapsed": false
   },
   "outputs": [
    {
     "name": "stdout",
     "output_type": "stream",
     "text": [
      "x / y = 5\n"
     ]
    },
    {
     "data": {
      "text/plain": [
       "5"
      ]
     },
     "execution_count": 94,
     "metadata": {},
     "output_type": "execute_result"
    }
   ],
   "source": [
    "@show x / y   # 2 ÷ 6 = 5, because 2 = 5*6 mod 7"
   ]
  },
  {
   "cell_type": "markdown",
   "metadata": {},
   "source": [
    "## Linear algebra over Galois field"
   ]
  },
  {
   "cell_type": "code",
   "execution_count": 8,
   "metadata": {
    "collapsed": false
   },
   "outputs": [
    {
     "data": {
      "text/plain": [
       "4×4 Array{GF{7,Int64},2}:\n",
       " 3  5  3  3\n",
       " 6  6  2  0\n",
       " 2  2  6  4\n",
       " 2  6  1  2"
      ]
     },
     "execution_count": 8,
     "metadata": {},
     "output_type": "execute_result"
    }
   ],
   "source": [
    "srand(1234)\n",
    "A = [GF{7}(rand(0:6)) for i = 1:4, j = 1:4] # matrix of random GF(7) elems"
   ]
  },
  {
   "cell_type": "code",
   "execution_count": 9,
   "metadata": {
    "collapsed": false
   },
   "outputs": [
    {
     "data": {
      "text/plain": [
       "4-element Array{GF{7,Int64},1}:\n",
       " 1\n",
       " 4\n",
       " 3\n",
       " 0"
      ]
     },
     "execution_count": 9,
     "metadata": {},
     "output_type": "execute_result"
    }
   ],
   "source": [
    "b = [GF{7}(rand(0:6)) for i = 1:4]    # random vector b for Ax=b problem"
   ]
  },
  {
   "cell_type": "code",
   "execution_count": 10,
   "metadata": {
    "collapsed": false
   },
   "outputs": [
    {
     "data": {
      "text/plain": [
       "4-element Array{GF{7,Int64},1}:\n",
       " 5\n",
       " 5\n",
       " 0\n",
       " 1"
      ]
     },
     "execution_count": 10,
     "metadata": {},
     "output_type": "execute_result"
    }
   ],
   "source": [
    "x = A\\b   # solve Ax=b"
   ]
  },
  {
   "cell_type": "code",
   "execution_count": 11,
   "metadata": {
    "collapsed": false
   },
   "outputs": [
    {
     "data": {
      "text/plain": [
       "4-element Array{GF{7,Int64},1}:\n",
       " 0\n",
       " 0\n",
       " 0\n",
       " 0"
      ]
     },
     "execution_count": 11,
     "metadata": {},
     "output_type": "execute_result"
    }
   ],
   "source": [
    "A*x - b   # check that x satisfies Ax=b"
   ]
  },
  {
   "cell_type": "markdown",
   "metadata": {},
   "source": [
    "##### Whoa! The built-in matrix backslash (LU decomp) works on matrices over user-defined GF(p)"
   ]
  },
  {
   "cell_type": "markdown",
   "metadata": {},
   "source": [
    "### Cost LU of factorization, GF(p) compared to Float64 "
   ]
  },
  {
   "cell_type": "code",
   "execution_count": 37,
   "metadata": {
    "collapsed": false
   },
   "outputs": [
    {
     "name": "stdout",
     "output_type": "stream",
     "text": [
      "Float64 LU factorization   0.001055 seconds (8 allocations: 79.266 KiB)\n",
      "GF(p)   LU factorization   0.004059 seconds (8 allocations: 79.266 KiB)\n"
     ]
    }
   ],
   "source": [
    "lufact(A1)\n",
    "print(\"Float64 LU factorization \")\n",
    "\n",
    "@time lufact(A1) # Promoted to Float64 and calls LAPACK LU decomp routine\n",
    "\n",
    "F = lufact(AF1,Val{false})\n",
    "while F.info != 0\n",
    "    AF1[F.info, F.info] += 1\n",
    "    F = lufact(AF1, Val{false})\n",
    "end\n",
    "\n",
    "lufact(AF1)\n",
    "print(\"GF(p)   LU factorization \")\n",
    "@time lufact(AF1) # Generic LU decomp algorithm implemented in Julia\n",
    ";"
   ]
  },
  {
   "cell_type": "markdown",
   "metadata": {},
   "source": [
    "## Expr: parsing and evaluating Julia expressions"
   ]
  },
  {
   "cell_type": "code",
   "execution_count": 94,
   "metadata": {
    "collapsed": false
   },
   "outputs": [
    {
     "data": {
      "text/plain": [
       "\"for n=1:N begin println(n^2) end end\""
      ]
     },
     "execution_count": 94,
     "metadata": {},
     "output_type": "execute_result"
    }
   ],
   "source": [
    "program = \"for n=1:N begin println(n^2) end end\"\n"
   ]
  },
  {
   "cell_type": "code",
   "execution_count": 95,
   "metadata": {
    "collapsed": false
   },
   "outputs": [
    {
     "data": {
      "text/plain": [
       "String"
      ]
     },
     "execution_count": 95,
     "metadata": {},
     "output_type": "execute_result"
    }
   ],
   "source": [
    "typeof(program)"
   ]
  },
  {
   "cell_type": "code",
   "execution_count": 96,
   "metadata": {
    "collapsed": false
   },
   "outputs": [
    {
     "data": {
      "text/plain": [
       ":(for n = 1:N # none, line 1:\n",
       "        begin  # none, line 1:\n",
       "            println(n ^ 2)\n",
       "        end\n",
       "    end)"
      ]
     },
     "execution_count": 96,
     "metadata": {},
     "output_type": "execute_result"
    }
   ],
   "source": [
    "expression = parse(program)"
   ]
  },
  {
   "cell_type": "code",
   "execution_count": 97,
   "metadata": {
    "collapsed": false
   },
   "outputs": [
    {
     "data": {
      "text/plain": [
       "Expr"
      ]
     },
     "execution_count": 97,
     "metadata": {},
     "output_type": "execute_result"
    }
   ],
   "source": [
    "typeof(expression)"
   ]
  },
  {
   "cell_type": "code",
   "execution_count": 98,
   "metadata": {
    "collapsed": false
   },
   "outputs": [
    {
     "name": "stdout",
     "output_type": "stream",
     "text": [
      "Expr\n",
      "  head: Symbol for\n",
      "  args: Array{Any}((2,))\n",
      "    1: Expr\n",
      "      head: Symbol =\n",
      "      args: Array{Any}((2,))\n",
      "        1: Symbol n\n",
      "        2: Expr\n",
      "          head: Symbol :\n",
      "          args: Array{Any}((2,))\n",
      "            1: Int64 1\n",
      "            2: Symbol N\n",
      "          typ: Any\n",
      "      typ: Any\n",
      "    2: Expr\n",
      "      head: Symbol block\n",
      "      args: Array{Any}((2,))\n",
      "        1: Expr\n",
      "          head: Symbol line\n",
      "          args: Array{Any}((2,))\n",
      "            1: Int64 1\n",
      "            2: Symbol none\n",
      "          typ: Any\n",
      "        2: Expr\n",
      "          head: Symbol block\n",
      "          args: Array{Any}((2,))\n",
      "            1: Expr\n",
      "              head: Symbol line\n",
      "              args: Array{Any}((2,))\n",
      "                1: Int64 1\n",
      "                2: Symbol none\n",
      "              typ: Any\n",
      "            2: Expr\n",
      "              head: Symbol call\n",
      "              args: Array{Any}((2,))\n",
      "                1: Symbol println\n",
      "                2: Expr\n",
      "              typ: Any\n",
      "          typ: Any\n",
      "      typ: Any\n",
      "  typ: Any\n"
     ]
    }
   ],
   "source": [
    "dump(expression)"
   ]
  },
  {
   "cell_type": "code",
   "execution_count": 99,
   "metadata": {
    "collapsed": false
   },
   "outputs": [
    {
     "name": "stdout",
     "output_type": "stream",
     "text": [
      "program = \"for n=1:N begin println(n^2) end end\"\n",
      "expression = :(for n = 1:N # none, line 1:\n",
      "        begin  # none, line 1:\n",
      "            println(n ^ 2)\n",
      "        end\n",
      "    end)\n"
     ]
    }
   ],
   "source": [
    "@show program\n",
    "@show expression;"
   ]
  },
  {
   "cell_type": "code",
   "execution_count": 100,
   "metadata": {
    "collapsed": false
   },
   "outputs": [
    {
     "name": "stdout",
     "output_type": "stream",
     "text": [
      "1\n",
      "4\n",
      "9\n"
     ]
    }
   ],
   "source": [
    "N = 3; eval(expression)"
   ]
  },
  {
   "cell_type": "code",
   "execution_count": 101,
   "metadata": {
    "collapsed": false
   },
   "outputs": [
    {
     "name": "stdout",
     "output_type": "stream",
     "text": [
      "1\n",
      "4\n",
      "9\n",
      "16\n",
      "25\n"
     ]
    }
   ],
   "source": [
    "N = 5; eval(expression)"
   ]
  },
  {
   "cell_type": "markdown",
   "metadata": {},
   "source": [
    "## Integers\n",
    "\n",
    "`Int8, Int16, Int32, Int64, BigInt, UInt8, Uint16, ...`, and `Bool`"
   ]
  },
  {
   "cell_type": "code",
   "execution_count": null,
   "metadata": {
    "collapsed": false
   },
   "outputs": [],
   "source": [
    "@show typeof(2)   # 64-bit int\n",
    "2^62, 2^63        # first is ok, second overflows!"
   ]
  },
  {
   "cell_type": "code",
   "execution_count": null,
   "metadata": {
    "collapsed": false
   },
   "outputs": [],
   "source": [
    "n = BigInt(2)     # arbitrary-precision int\n",
    "@show typeof(n)\n",
    "n^62, n^63        # no overflow here..."
   ]
  },
  {
   "cell_type": "code",
   "execution_count": null,
   "metadata": {
    "collapsed": false
   },
   "outputs": [],
   "source": [
    "n^100000          # ...or here"
   ]
  },
  {
   "cell_type": "code",
   "execution_count": null,
   "metadata": {
    "collapsed": false
   },
   "outputs": [],
   "source": [
    "# how many digits is that?\n",
    "length(string(ans))"
   ]
  },
  {
   "cell_type": "markdown",
   "metadata": {},
   "source": [
    "## Rational numbers\n"
   ]
  },
  {
   "cell_type": "code",
   "execution_count": 64,
   "metadata": {
    "collapsed": false
   },
   "outputs": [
    {
     "data": {
      "text/plain": [
       "41//28"
      ]
     },
     "execution_count": 64,
     "metadata": {},
     "output_type": "execute_result"
    }
   ],
   "source": [
    "3//4 + 5//7                # denote Rationals with double-divide "
   ]
  },
  {
   "cell_type": "code",
   "execution_count": 65,
   "metadata": {
    "collapsed": false
   },
   "outputs": [
    {
     "data": {
      "text/plain": [
       "13176795//4194304"
      ]
     },
     "execution_count": 65,
     "metadata": {},
     "output_type": "execute_result"
    }
   ],
   "source": [
    "p = Rational(Float32(π))   # get Rational approximation to π"
   ]
  },
  {
   "cell_type": "code",
   "execution_count": 66,
   "metadata": {
    "collapsed": false
   },
   "outputs": [
    {
     "name": "stdout",
     "output_type": "stream",
     "text": [
      "Float32(p) = 3.1415927f0\n",
      "Float32(π) = 3.1415927f0\n"
     ]
    }
   ],
   "source": [
    "@show Float32(p);\n",
    "@show Float32(π);"
   ]
  },
  {
   "cell_type": "code",
   "execution_count": 67,
   "metadata": {
    "collapsed": false
   },
   "outputs": [
    {
     "data": {
      "text/plain": [
       "5//3 + 7//9*im"
      ]
     },
     "execution_count": 67,
     "metadata": {},
     "output_type": "execute_result"
    }
   ],
   "source": [
    "z = 5//3 + 7//9*im"
   ]
  },
  {
   "cell_type": "code",
   "execution_count": 68,
   "metadata": {
    "collapsed": false
   },
   "outputs": [
    {
     "data": {
      "text/plain": [
       "Complex{Rational{Int64}}"
      ]
     },
     "execution_count": 68,
     "metadata": {},
     "output_type": "execute_result"
    }
   ],
   "source": [
    "typeof(z)"
   ]
  },
  {
   "cell_type": "markdown",
   "metadata": {},
   "source": [
    "## Real numbers\n",
    "\n",
    "`Float16, Float32, Float64, BigFloat`, `Complex` for each of those, and `Irrational` types"
   ]
  },
  {
   "cell_type": "code",
   "execution_count": 46,
   "metadata": {
    "collapsed": false
   },
   "outputs": [
    {
     "data": {
      "text/plain": [
       "1.5"
      ]
     },
     "execution_count": 46,
     "metadata": {},
     "output_type": "execute_result"
    }
   ],
   "source": [
    "x = 3/2    # Int/Int produces Float. Use div(m,n) or m ÷ n for integer division."
   ]
  },
  {
   "cell_type": "code",
   "execution_count": 47,
   "metadata": {
    "collapsed": false
   },
   "outputs": [
    {
     "data": {
      "text/plain": [
       "Float64"
      ]
     },
     "execution_count": 47,
     "metadata": {},
     "output_type": "execute_result"
    }
   ],
   "source": [
    "typeof(x)  # default floating-point is Float64 (same as C's double precision)"
   ]
  },
  {
   "cell_type": "code",
   "execution_count": 48,
   "metadata": {
    "collapsed": false
   },
   "outputs": [
    {
     "data": {
      "text/plain": [
       "π = 3.1415926535897..."
      ]
     },
     "execution_count": 48,
     "metadata": {},
     "output_type": "execute_result"
    }
   ],
   "source": [
    "π"
   ]
  },
  {
   "cell_type": "code",
   "execution_count": 49,
   "metadata": {
    "collapsed": false
   },
   "outputs": [
    {
     "data": {
      "text/plain": [
       "Irrational{:π}"
      ]
     },
     "execution_count": 49,
     "metadata": {},
     "output_type": "execute_result"
    }
   ],
   "source": [
    "typeof(π)"
   ]
  },
  {
   "cell_type": "code",
   "execution_count": 50,
   "metadata": {
    "collapsed": false
   },
   "outputs": [
    {
     "data": {
      "text/plain": [
       "3.141592653589793"
      ]
     },
     "execution_count": 50,
     "metadata": {},
     "output_type": "execute_result"
    }
   ],
   "source": [
    "Float64(π)"
   ]
  },
  {
   "cell_type": "code",
   "execution_count": 51,
   "metadata": {
    "collapsed": false
   },
   "outputs": [
    {
     "data": {
      "text/plain": [
       "-1.0 + 1.2246467991473532e-16im"
      ]
     },
     "execution_count": 51,
     "metadata": {},
     "output_type": "execute_result"
    }
   ],
   "source": [
    "exp(π*im)"
   ]
  },
  {
   "cell_type": "code",
   "execution_count": 52,
   "metadata": {
    "collapsed": false
   },
   "outputs": [
    {
     "data": {
      "text/plain": [
       "Complex{Float64}"
      ]
     },
     "execution_count": 52,
     "metadata": {},
     "output_type": "execute_result"
    }
   ],
   "source": [
    "typeof(ans)"
   ]
  },
  {
   "cell_type": "code",
   "execution_count": 53,
   "metadata": {
    "collapsed": false
   },
   "outputs": [
    {
     "data": {
      "text/plain": [
       "3.141592653589793238462643383279502884197169399375105820974944592307816406286198"
      ]
     },
     "execution_count": 53,
     "metadata": {},
     "output_type": "execute_result"
    }
   ],
   "source": [
    "pi = BigFloat(π)"
   ]
  },
  {
   "cell_type": "code",
   "execution_count": 54,
   "metadata": {
    "collapsed": false
   },
   "outputs": [
    {
     "data": {
      "text/plain": [
       "-1.000000000000000000000000000000000000000000000000000000000000000000000000000000 + 1.096917440979352076742130626395698021050758236508687951179005716992142688513354e-77im"
      ]
     },
     "execution_count": 54,
     "metadata": {},
     "output_type": "execute_result"
    }
   ],
   "source": [
    "exp(pi*im)"
   ]
  },
  {
   "cell_type": "code",
   "execution_count": 55,
   "metadata": {
    "collapsed": false
   },
   "outputs": [
    {
     "data": {
      "text/plain": [
       "Complex{BigFloat}"
      ]
     },
     "execution_count": 55,
     "metadata": {},
     "output_type": "execute_result"
    }
   ],
   "source": [
    "typeof(ans)"
   ]
  },
  {
   "cell_type": "code",
   "execution_count": 56,
   "metadata": {
    "collapsed": false
   },
   "outputs": [
    {
     "data": {
      "text/plain": [
       "1.727233711018888925077270372560079914223200072887256277004740694033718360632485e-77"
      ]
     },
     "execution_count": 56,
     "metadata": {},
     "output_type": "execute_result"
    }
   ],
   "source": [
    "eps(BigFloat)"
   ]
  },
  {
   "cell_type": "code",
   "execution_count": 57,
   "metadata": {
    "collapsed": false
   },
   "outputs": [
    {
     "data": {
      "text/plain": [
       "1024"
      ]
     },
     "execution_count": 57,
     "metadata": {},
     "output_type": "execute_result"
    }
   ],
   "source": [
    "setprecision(1024)"
   ]
  },
  {
   "cell_type": "code",
   "execution_count": 58,
   "metadata": {
    "collapsed": false
   },
   "outputs": [
    {
     "data": {
      "text/plain": [
       "3.141592653589793238462643383279502884197169399375105820974944592307816406286208998628034825342117067982148086513282306647093844609550582231725359408128481117450284102701938521105559644622948954930381964428810975665933446128475648233786783165271201909145648566923460348610454326648213393607260249141273724586997"
      ]
     },
     "execution_count": 58,
     "metadata": {},
     "output_type": "execute_result"
    }
   ],
   "source": [
    "pi = BigFloat(π)"
   ]
  },
  {
   "cell_type": "code",
   "execution_count": 59,
   "metadata": {
    "collapsed": false
   },
   "outputs": [
    {
     "data": {
      "text/plain": [
       "1.112536929253600691545116358666202032109607990231165915276663708443602217406959097927141579506255510282033669865517905502576217080776730054428006192688859410565388996766001165239805073721291818035960782523471251867104187625403325308329079474360245589984295819824250317954385059152437399890443876874974725790226e-308"
      ]
     },
     "execution_count": 59,
     "metadata": {},
     "output_type": "execute_result"
    }
   ],
   "source": [
    "eps(BigFloat)"
   ]
  },
  {
   "cell_type": "code",
   "execution_count": 60,
   "metadata": {
    "collapsed": false
   },
   "outputs": [
    {
     "data": {
      "text/plain": [
       "2.7 + 5.3im"
      ]
     },
     "execution_count": 60,
     "metadata": {},
     "output_type": "execute_result"
    }
   ],
   "source": [
    "z = 2.7 + 5.3im"
   ]
  },
  {
   "cell_type": "code",
   "execution_count": 61,
   "metadata": {
    "collapsed": false
   },
   "outputs": [
    {
     "data": {
      "text/plain": [
       "Complex{Float64}"
      ]
     },
     "execution_count": 61,
     "metadata": {},
     "output_type": "execute_result"
    }
   ],
   "source": [
    "typeof(z)"
   ]
  },
  {
   "cell_type": "code",
   "execution_count": 62,
   "metadata": {
    "collapsed": false
   },
   "outputs": [
    {
     "data": {
      "text/plain": [
       "2.700000000000000000000000000000000000000000000000000000000000000000000000000000000000000000000000000000000000000000000000000000000000000000000000000000000000000000000000000000000000000000000000000000000000000000000000000000000000000000000000000000000000000000000000000000000000000000000000000000000000000000004 + 5.300000000000000000000000000000000000000000000000000000000000000000000000000000000000000000000000000000000000000000000000000000000000000000000000000000000000000000000000000000000000000000000000000000000000000000000000000000000000000000000000000000000000000000000000000000000000000000000000000000000000000000018im"
      ]
     },
     "execution_count": 62,
     "metadata": {},
     "output_type": "execute_result"
    }
   ],
   "source": [
    "z = BigFloat(\"2.7\") + BigFloat(\"5.3\")im"
   ]
  },
  {
   "cell_type": "code",
   "execution_count": 63,
   "metadata": {
    "collapsed": false
   },
   "outputs": [
    {
     "data": {
      "text/plain": [
       "Complex{BigFloat}"
      ]
     },
     "execution_count": 63,
     "metadata": {},
     "output_type": "execute_result"
    }
   ],
   "source": [
    "typeof(z)"
   ]
  },
  {
   "cell_type": "markdown",
   "metadata": {},
   "source": [
    "## Some built-in general-purpose types\n",
    "\n",
    "### Array"
   ]
  },
  {
   "cell_type": "code",
   "execution_count": null,
   "metadata": {
    "collapsed": false
   },
   "outputs": [],
   "source": [
    "x = Array{Bool}(3,2,4)"
   ]
  },
  {
   "cell_type": "code",
   "execution_count": null,
   "metadata": {
    "collapsed": false
   },
   "outputs": [],
   "source": [
    "x[1,:,3]"
   ]
  },
  {
   "cell_type": "markdown",
   "metadata": {},
   "source": [
    "### Tuple"
   ]
  },
  {
   "cell_type": "code",
   "execution_count": null,
   "metadata": {
    "collapsed": false
   },
   "outputs": [],
   "source": [
    "x = (5.6, π, \"foo\", true, zeros(Rational{Int32},4))"
   ]
  },
  {
   "cell_type": "code",
   "execution_count": null,
   "metadata": {
    "collapsed": false
   },
   "outputs": [],
   "source": [
    "typeof(x)"
   ]
  },
  {
   "cell_type": "code",
   "execution_count": null,
   "metadata": {
    "collapsed": false
   },
   "outputs": [],
   "source": [
    "x[3]"
   ]
  },
  {
   "cell_type": "markdown",
   "metadata": {},
   "source": [
    "### Dict"
   ]
  },
  {
   "cell_type": "code",
   "execution_count": null,
   "metadata": {
    "collapsed": false
   },
   "outputs": [],
   "source": [
    "d = Dict(\"foo\" => 1, \"bar\" => false, \"baz\" => 6.7)"
   ]
  },
  {
   "cell_type": "code",
   "execution_count": null,
   "metadata": {
    "collapsed": false
   },
   "outputs": [],
   "source": [
    "d[\"baz\"]"
   ]
  },
  {
   "cell_type": "markdown",
   "metadata": {},
   "source": [
    "## Introspection on Julia's numeric type hierarchy"
   ]
  },
  {
   "cell_type": "code",
   "execution_count": null,
   "metadata": {
    "collapsed": false
   },
   "outputs": [],
   "source": [
    "subtypes(Number)"
   ]
  },
  {
   "cell_type": "code",
   "execution_count": null,
   "metadata": {
    "collapsed": false
   },
   "outputs": [],
   "source": [
    "subtypes(Real)"
   ]
  },
  {
   "cell_type": "code",
   "execution_count": null,
   "metadata": {
    "collapsed": false
   },
   "outputs": [],
   "source": [
    "subtypes(AbstractFloat)"
   ]
  },
  {
   "cell_type": "code",
   "execution_count": null,
   "metadata": {
    "collapsed": false,
    "scrolled": true
   },
   "outputs": [],
   "source": [
    "subtypes(Integer)"
   ]
  },
  {
   "cell_type": "code",
   "execution_count": null,
   "metadata": {
    "collapsed": false
   },
   "outputs": [],
   "source": [
    "supertype(Bool)"
   ]
  },
  {
   "cell_type": "code",
   "execution_count": null,
   "metadata": {
    "collapsed": false
   },
   "outputs": [],
   "source": [
    "Int32 <: Number    # is Int32 a subtype of Number?"
   ]
  },
  {
   "cell_type": "code",
   "execution_count": null,
   "metadata": {
    "collapsed": false
   },
   "outputs": [],
   "source": [
    "Int64 <: Real      # is Int64 a subtype of the reals?"
   ]
  },
  {
   "cell_type": "code",
   "execution_count": null,
   "metadata": {
    "collapsed": false
   },
   "outputs": [],
   "source": [
    "Int64 <: Float64   # is Int64 a subtype of Float64?"
   ]
  },
  {
   "cell_type": "code",
   "execution_count": null,
   "metadata": {
    "collapsed": false
   },
   "outputs": [],
   "source": [
    "8 ∈ 0:3:15        # is 8 an element of {0,3,6,9,12,15}? (a set operation)"
   ]
  },
  {
   "cell_type": "code",
   "execution_count": null,
   "metadata": {
    "collapsed": false
   },
   "outputs": [],
   "source": [
    "typeof(ans)"
   ]
  },
  {
   "cell_type": "markdown",
   "metadata": {},
   "source": [
    "### Run-time introspection of polymorphism\n",
    "\n",
    "That is, see what code is being executed for a given operation"
   ]
  },
  {
   "cell_type": "code",
   "execution_count": null,
   "metadata": {
    "collapsed": false
   },
   "outputs": [],
   "source": [
    "methods(+)"
   ]
  },
  {
   "cell_type": "code",
   "execution_count": null,
   "metadata": {
    "collapsed": false
   },
   "outputs": [],
   "source": [
    "@which x + y"
   ]
  },
  {
   "cell_type": "code",
   "execution_count": null,
   "metadata": {
    "collapsed": false
   },
   "outputs": [],
   "source": [
    "@which 4+8"
   ]
  }
 ],
 "metadata": {
  "kernelspec": {
   "display_name": "Julia 0.6.0",
   "language": "julia",
   "name": "julia-0.6"
  },
  "language_info": {
   "file_extension": ".jl",
   "mimetype": "application/julia",
   "name": "julia",
   "version": "0.6.0"
  }
 },
 "nbformat": 4,
 "nbformat_minor": 2
}

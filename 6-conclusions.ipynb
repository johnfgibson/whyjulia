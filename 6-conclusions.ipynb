{
 "cells": [
  {
   "cell_type": "markdown",
   "metadata": {},
   "source": [
    "# Conclusions\n",
    "\n",
    "  \n",
    "### *Julia solves the two-language problem*\n",
    "   * from interactive exploration to high-performance computing\n",
    "   \n",
    "### *Julia opens new doors*\n",
    "   * exact and high-precision calculations \n",
    "   * symbolics and numerics together\n",
    "   * higher-level abstraction of parallelism (didn't demo)\n",
    "   * numerics and general-purpose computing\n",
    "   * scientific computing and computer science\n",
    "   \n",
    "### *Openness fosters innovation* \n",
    "\n",
    "#### Didn't cover\n",
    "  * [installation](http://julialang.org/downloads/), [documentation](http://docs.julialang.org/en/stable/)  \n",
    "  * the REPL (shell), large-scale programming, [JuliaBox](https://juliabox.com/) cloud service\n",
    "  * [Juno](http://junolab.org/) integrated development environment, [Gallium](https://github.com/Keno/Gallium.jl) debugger.\n",
    "  * [parallel computing](http://docs.julialang.org/en/stable/manual/parallel-computing/)\n",
    "  * [interoperability](http://docs.julialang.org/en/stable/manual/calling-c-and-fortran-code/) with other languages\n",
    "  * [modules](ocs.julialang.org/en/stable/manual/modules/) and [package manager](http://docs.julialang.org/en/stable/manual/packages/)\n",
    "  * Julia community: [language development](https://github.com/JuliaLang/juliasource), [discussion forum](https://discourse.julialang.org)\n",
    "\n",
    "#### Acknowledgements\n",
    "  * [David Sanders](http://sistemas.fciencias.unam.mx/~dsanders/), Physics, Universidad Nacional Autónoma de México \n",
    "  * [Andreas Noack](http://andreasnoack.github.io/academiccv.html), Julia Computing\n",
    "  * The Julia team\n",
    "  * NSF grant #1554149"
   ]
  }
 ],
 "metadata": {
  "kernelspec": {
   "display_name": "Julia 0.6.0",
   "language": "julia",
   "name": "julia-0.6"
  },
  "language_info": {
   "file_extension": ".jl",
   "mimetype": "application/julia",
   "name": "julia",
   "version": "0.6.0"
  }
 },
 "nbformat": 4,
 "nbformat_minor": 2
}

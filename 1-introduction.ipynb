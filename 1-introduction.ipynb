{
 "cells": [
  {
   "cell_type": "markdown",
   "metadata": {},
   "source": [
    "\n",
    "\n",
    "![Julia logo](figs/julialogo-small.png)\n",
    "\n",
    "# ...the future of scientific computing\n",
    "\n",
    "\n",
    "a talk by John Gibson, Integrated Applied Mathematics, Department of Mathematics & Statistics, University of New Hampshire"
   ]
  },
  {
   "cell_type": "markdown",
   "metadata": {},
   "source": [
    "## Julia \n",
    "\n",
    "  * new open-source scientific programming language\n",
    "  * interactive numerics and graphics like Matlab\n",
    "  * as fast as C, Fortran\n",
    "  * extensible, dynamic, general-purpose like Python\n",
    "  * metaprogramming power of LISP\n",
    "  * opens new frontiers in scientific computing"
   ]
  },
  {
   "cell_type": "markdown",
   "metadata": {},
   "source": [
    "## Julia is for real\n",
    "\n",
    "  * [julia-0.1 2012](https://julialang.org/downloads/oldreleases.html)....[julia-0.6 2017](https://julialang.org/downloads/)....julia-1.0 2018?\n",
    "  * [Julia Computing LLC](https://juliacomputing.com/about-us) founded 2015, currently 20 employees  \n",
    "  * founders: \n",
    "    - [Alan Edelman](https://en.wikipedia.org/wiki/Alan_Edelman) (MIT math/CS)\n",
    "    - [Jeff Bezanson](https://en.wikipedia.org/wiki/Jeff_Bezanson) (PhD MIT CS) \n",
    "    - [Stefan Karpinsky](https://en.wikipedia.org/wiki/Stefan_Karpinski) (PhD UCSB CS)\n",
    "    - [Viral Shah](https://en.wikipedia.org/wiki/Viral_B._Shah) (PhD UCSB CS)\n",
    "  * funding: Moore Foundation, NumFocus, Intel, Microsoft, private equity\n",
    "  * open-source MIT license, [hosted on Github](https://github.com/JuliaLang/julia)  \n",
    "  * $\\sim600$ contributors to [core language and base libraries](https://github.com/JuliaLang/julia)\n",
    "  * $\\sim1500$ [registered add-on packages](https://pkg.julialang.org/)\n",
    "  * [JuliaCon](http://juliacon.org/2018/) annual conference\n",
    "  * fifth language to achieve 1 Petaflop computation, after assembly, Fortran, C, and C++: [Celeste project](https://github.com/jeff-regier/Celeste.jl)."
   ]
  },
  {
   "cell_type": "code",
   "execution_count": null,
   "metadata": {
    "collapsed": true
   },
   "outputs": [],
   "source": []
  }
 ],
 "metadata": {
  "kernelspec": {
   "display_name": "Julia 0.6.0",
   "language": "julia",
   "name": "julia-0.6"
  },
  "language_info": {
   "file_extension": ".jl",
   "mimetype": "application/julia",
   "name": "julia",
   "version": "0.6.0"
  }
 },
 "nbformat": 4,
 "nbformat_minor": 2
}

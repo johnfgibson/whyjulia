{
 "cells": [
  {
   "cell_type": "markdown",
   "metadata": {},
   "source": [
    "# Julia's secret sauce\n",
    "\n",
    "Julia looks/feels like Matlab/Python but runs like C/Fortran. How?\n",
    "\n",
    "  * **Just-in-time compilation** (JIT)\n",
    "    - user-level code is compiled to machine code on-the-fly  \n",
    "      \n",
    "      \n",
    "      \n",
    "  * **Meticulous type system**\n",
    "    - designed to maximize impact of JIT\n",
    "    - type inference\n",
    "    - type stability\n",
    "    - multiple dispatch\n",
    "\n"
   ]
  },
  {
   "cell_type": "markdown",
   "metadata": {},
   "source": [
    "## Just-in-time compilation "
   ]
  },
  {
   "cell_type": "code",
   "execution_count": 3,
   "metadata": {
    "collapsed": false
   },
   "outputs": [
    {
     "name": "stdout",
     "output_type": "stream",
     "text": [
      "  0.012669 seconds (299 allocations: 17.557 KiB)\n",
      "  0.000005 seconds (5 allocations: 176 bytes)\n"
     ]
    }
   ],
   "source": [
    "f(x) = x^3 - 2     # define a simple function\n",
    "@time f(0.3);      # run it once\n",
    "@time f(0.3);      # run it again"
   ]
  },
  {
   "cell_type": "markdown",
   "metadata": {},
   "source": [
    "The second evaluation is thousands of times faster than the first! Why? \n",
    "\n",
    "  * first run includes a compilation of user code to machine code\n",
    "  * second run just executes the machine code\n",
    "\n",
    "### Compilation to machine code, in stages"
   ]
  },
  {
   "cell_type": "code",
   "execution_count": 5,
   "metadata": {
    "collapsed": false
   },
   "outputs": [
    {
     "data": {
      "text/plain": [
       "CodeInfo(:(begin \n",
       "        nothing\n",
       "        return (Base.literal_pow)(Main.^, x, (Core.apply_type)(Base.Val, 3)) - 2\n",
       "    end))"
      ]
     },
     "execution_count": 5,
     "metadata": {},
     "output_type": "execute_result"
    }
   ],
   "source": [
    "@code_lowered f(7.0)   # show f(x) in Julia's abstract syntax tree"
   ]
  },
  {
   "cell_type": "code",
   "execution_count": 6,
   "metadata": {
    "collapsed": false
   },
   "outputs": [
    {
     "data": {
      "text/plain": [
       "CodeInfo(:(begin \n",
       "        return (Base.sub_float)((Base.mul_float)((Base.mul_float)(x, x)::Float64, x)::Float64, (Base.sitofp)(Float64, 2)::Float64)::Float64\n",
       "    end))=>Float64"
      ]
     },
     "execution_count": 6,
     "metadata": {},
     "output_type": "execute_result"
    }
   ],
   "source": [
    "@code_typed f(7.0)     # show f(x) in abstract syntax tree with types determined "
   ]
  },
  {
   "cell_type": "code",
   "execution_count": 7,
   "metadata": {
    "collapsed": false
   },
   "outputs": [
    {
     "name": "stdout",
     "output_type": "stream",
     "text": [
      "\n",
      "define double @julia_f_60969(double) #0 !dbg !5 {\n",
      "top:\n",
      "  %1 = fmul double %0, %0\n",
      "  %2 = fmul double %1, %0\n",
      "  %3 = fadd double %2, -2.000000e+00\n",
      "  ret double %3\n",
      "}\n"
     ]
    }
   ],
   "source": [
    "@code_llvm f(7.0)       # show f(x) in LLVM (compiler) intermediate language"
   ]
  },
  {
   "cell_type": "code",
   "execution_count": 8,
   "metadata": {
    "collapsed": false
   },
   "outputs": [
    {
     "name": "stdout",
     "output_type": "stream",
     "text": [
      "\t.text\n",
      "Filename: In[1]\n",
      "\tpushq\t%rbp\n",
      "\tmovq\t%rsp, %rbp\n",
      "Source line: 1\n",
      "\tmovapd\t%xmm0, %xmm1\n",
      "\tmulsd\t%xmm1, %xmm1\n",
      "\tmulsd\t%xmm0, %xmm1\n",
      "\tmovabsq\t$140452003107272, %rax  # imm = 0x7FBD87C0D1C8\n",
      "\taddsd\t(%rax), %xmm1\n",
      "\tmovapd\t%xmm1, %xmm0\n",
      "\tpopq\t%rbp\n",
      "\tretq\n",
      "\tnopw\t%cs:(%rax,%rax)\n"
     ]
    }
   ],
   "source": [
    "@code_native f(7.0)     # show f(x) in Intel IA-64 assembly language"
   ]
  },
  {
   "cell_type": "markdown",
   "metadata": {},
   "source": [
    "## Type inference\n",
    "\n",
    "Julia infers the types of untyped variables --crucial for compiling to machine code!"
   ]
  },
  {
   "cell_type": "code",
   "execution_count": 4,
   "metadata": {
    "collapsed": false
   },
   "outputs": [
    {
     "name": "stdout",
     "output_type": "stream",
     "text": [
      "\n",
      "define double @julia_f_60989(double) #0 !dbg !5 {\n",
      "top:\n",
      "  %1 = fmul double %0, %0\n",
      "  %2 = fmul double %1, %0\n",
      "  %3 = fadd double %2, -2.000000e+00\n",
      "  ret double %3\n",
      "}\n"
     ]
    }
   ],
   "source": [
    "@code_llvm f(7.0)   # f applied to a Float64 (C's \"double\" type)"
   ]
  },
  {
   "cell_type": "code",
   "execution_count": 5,
   "metadata": {
    "collapsed": false
   },
   "outputs": [
    {
     "name": "stdout",
     "output_type": "stream",
     "text": [
      "\n",
      "define float @julia_f_60993(float) #0 !dbg !5 {\n",
      "top:\n",
      "  %1 = fmul float %0, %0\n",
      "  %2 = fmul float %1, %0\n",
      "  %3 = fadd float %2, -2.000000e+00\n",
      "  ret float %3\n",
      "}\n"
     ]
    }
   ],
   "source": [
    "@code_llvm f(7f0)   # f applied to a Float32  (C's \"float\" type)"
   ]
  },
  {
   "cell_type": "code",
   "execution_count": 6,
   "metadata": {
    "collapsed": false
   },
   "outputs": [
    {
     "name": "stdout",
     "output_type": "stream",
     "text": [
      "\n",
      "define i64 @julia_f_60995(i64) #0 !dbg !5 {\n",
      "top:\n",
      "  %1 = mul i64 %0, %0\n",
      "  %2 = mul i64 %1, %0\n",
      "  %3 = add i64 %2, -2\n",
      "  ret i64 %3\n",
      "}\n"
     ]
    }
   ],
   "source": [
    "@code_llvm f(7)     # f applied to an Int64   (C's \"int\" type)"
   ]
  },
  {
   "cell_type": "code",
   "execution_count": 7,
   "metadata": {
    "collapsed": false
   },
   "outputs": [
    {
     "name": "stdout",
     "output_type": "stream",
     "text": [
      "\n",
      "define void @julia_f_60996(%Complex.62* noalias nocapture sret, %Complex.62* nocapture readonly dereferenceable(16)) #0 !dbg !5 {\n",
      "top:\n",
      "  %2 = getelementptr inbounds %Complex.62, %Complex.62* %1, i64 0, i32 0\n",
      "  %3 = load i64, i64* %2, align 8\n",
      "  %4 = mul i64 %3, %3\n",
      "  %5 = getelementptr inbounds %Complex.62, %Complex.62* %1, i64 0, i32 1\n",
      "  %6 = load i64, i64* %5, align 8\n",
      "  %7 = mul i64 %6, %6\n",
      "  %8 = sub i64 %4, %7\n",
      "  %9 = shl i64 %6, 1\n",
      "  %10 = mul i64 %3, %9\n",
      "  %11 = mul i64 %8, %3\n",
      "  %12 = mul i64 %10, %6\n",
      "  %13 = mul i64 %8, %6\n",
      "  %14 = mul i64 %3, %10\n",
      "  %15 = add i64 %14, %13\n",
      "  %16 = add i64 %11, -2\n",
      "  %17 = sub i64 %16, %12\n",
      "  %.sroa.0.0..sroa_idx = getelementptr inbounds %Complex.62, %Complex.62* %0, i64 0, i32 0\n",
      "  store i64 %17, i64* %.sroa.0.0..sroa_idx, align 8\n",
      "  %.sroa.2.0..sroa_idx1 = getelementptr inbounds %Complex.62, %Complex.62* %0, i64 0, i32 1\n",
      "  store i64 %15, i64* %.sroa.2.0..sroa_idx1, align 8\n",
      "  ret void\n",
      "}\n"
     ]
    }
   ],
   "source": [
    "@code_llvm f(7 + 2im) # f applied to a Complex is more complex"
   ]
  },
  {
   "cell_type": "markdown",
   "metadata": {},
   "source": [
    "## Type stability"
   ]
  },
  {
   "cell_type": "markdown",
   "metadata": {},
   "source": [
    "Just-in-time compilation produces most efficient machine code when types of temporaries and return values can be determined at compile-time. \n",
    "\n",
    "In Julia, `sqrt` is real-to-real, and `sqrt(-1)` is an error! Matlab avoids this problem by \n",
    "making all numbers complex, and thus doubling the cost and size of all real-valued mathematics --in Matlab, a real-valued scalar is a 1 x 1 complex matrix!"
   ]
  },
  {
   "cell_type": "code",
   "execution_count": 13,
   "metadata": {
    "collapsed": false
   },
   "outputs": [
    {
     "data": {
      "text/plain": [
       "1.0"
      ]
     },
     "execution_count": 13,
     "metadata": {},
     "output_type": "execute_result"
    }
   ],
   "source": [
    "sqrt(1.0)      "
   ]
  },
  {
   "cell_type": "code",
   "execution_count": 14,
   "metadata": {
    "collapsed": false
   },
   "outputs": [
    {
     "ename": "LoadError",
     "evalue": "DomainError:\nsqrt will only return a complex result if called with a complex argument. Try sqrt(complex(x)).",
     "output_type": "error",
     "traceback": [
      "DomainError:\nsqrt will only return a complex result if called with a complex argument. Try sqrt(complex(x)).",
      "",
      "Stacktrace:",
      " [1] \u001b[1msqrt\u001b[22m\u001b[22m\u001b[1m(\u001b[22m\u001b[22m::Float64\u001b[1m)\u001b[22m\u001b[22m at \u001b[1m./math.jl:425\u001b[22m\u001b[22m",
      " [2] \u001b[1minclude_string\u001b[22m\u001b[22m\u001b[1m(\u001b[22m\u001b[22m::String, ::String\u001b[1m)\u001b[22m\u001b[22m at \u001b[1m./loading.jl:515\u001b[22m\u001b[22m"
     ]
    }
   ],
   "source": [
    "sqrt(-1.0)"
   ]
  },
  {
   "cell_type": "code",
   "execution_count": 27,
   "metadata": {
    "collapsed": false
   },
   "outputs": [
    {
     "data": {
      "text/plain": [
       "0.0 + 1.0im"
      ]
     },
     "execution_count": 27,
     "metadata": {},
     "output_type": "execute_result"
    }
   ],
   "source": [
    "sqrt(-1.0 + 0.0im)   # In Julia, if you want a complex sqrt result, use the complex sqrt function"
   ]
  },
  {
   "cell_type": "markdown",
   "metadata": {},
   "source": [
    "## Multiple dispatch\n",
    "\n",
    "Many built-in functions have multiple versions specialized for particular input types. Selection is done at compile time if types can be inferred, run time if they can't."
   ]
  },
  {
   "cell_type": "code",
   "execution_count": 15,
   "metadata": {
    "collapsed": false
   },
   "outputs": [
    {
     "data": {
      "text/html": [
       "92 methods for generic function <b>\\</b>:<ul><li> \\(a::<b>Float16</b>, b::<b>Float16</b>) at <a href=\"https://github.com/JuliaLang/julia/tree/903644385b91ed8d95e5e3a5716c089dd1f1b08a/base/float.jl#L372\" target=\"_blank\">float.jl:372</a></li> <li> \\(F::<b>Base.SparseArrays.SPQR.Factorization{Float64}</b>, B::<b>Union{Array{Complex{Float64},1}, Array{Complex{Float64},2}}</b>) at <a href=\"https://github.com/JuliaLang/julia/tree/903644385b91ed8d95e5e3a5716c089dd1f1b08a/base/sparse/spqr.jl#L167\" target=\"_blank\">sparse/spqr.jl:167</a></li> <li> \\(x::<b>Number</b>, A::<b>UpperTriangular</b>) at <a href=\"https://github.com/JuliaLang/julia/tree/903644385b91ed8d95e5e3a5716c089dd1f1b08a/base/linalg/triangular.jl#L562\" target=\"_blank\">linalg/triangular.jl:562</a></li> <li> \\(x::<b>Number</b>, A::<b>Base.LinAlg.UnitUpperTriangular</b>) at <a href=\"https://github.com/JuliaLang/julia/tree/903644385b91ed8d95e5e3a5716c089dd1f1b08a/base/linalg/triangular.jl#L565\" target=\"_blank\">linalg/triangular.jl:565</a></li> <li> \\(x::<b>Number</b>, A::<b>LowerTriangular</b>) at <a href=\"https://github.com/JuliaLang/julia/tree/903644385b91ed8d95e5e3a5716c089dd1f1b08a/base/linalg/triangular.jl#L562\" target=\"_blank\">linalg/triangular.jl:562</a></li> <li> \\(x::<b>Number</b>, A::<b>Base.LinAlg.UnitLowerTriangular</b>) at <a href=\"https://github.com/JuliaLang/julia/tree/903644385b91ed8d95e5e3a5716c089dd1f1b08a/base/linalg/triangular.jl#L565\" target=\"_blank\">linalg/triangular.jl:565</a></li> <li> \\(A::<b>Number</b>, B::<b>AbstractArray</b>) at <a href=\"https://github.com/JuliaLang/julia/tree/903644385b91ed8d95e5e3a5716c089dd1f1b08a/base/arraymath.jl#L44\" target=\"_blank\">arraymath.jl:44</a></li> <li> \\(A::<b>Union{BitArray{1}, BitArray{2}}</b>, B::<b>Union{BitArray{1}, BitArray{2}}</b>) at <a href=\"https://github.com/JuliaLang/julia/tree/903644385b91ed8d95e5e3a5716c089dd1f1b08a/base/bitarray.jl#L1192\" target=\"_blank\">bitarray.jl:1192</a></li> <li> \\(::<b>Union{LowerTriangular, UpperTriangular}</b>, ::<b>RowVector</b>) at <a href=\"https://github.com/JuliaLang/julia/tree/903644385b91ed8d95e5e3a5716c089dd1f1b08a/base/linalg/triangular.jl#L1656\" target=\"_blank\">linalg/triangular.jl:1656</a></li> <li> \\(::<b>Union{Base.LinAlg.UnitLowerTriangular, Base.LinAlg.UnitUpperTriangular}</b>, ::<b>RowVector</b>) at <a href=\"https://github.com/JuliaLang/julia/tree/903644385b91ed8d95e5e3a5716c089dd1f1b08a/base/linalg/triangular.jl#L1657\" target=\"_blank\">linalg/triangular.jl:1657</a></li> <li> \\(::<b>Diagonal</b>, ::<b>RowVector</b>) at <a href=\"https://github.com/JuliaLang/julia/tree/903644385b91ed8d95e5e3a5716c089dd1f1b08a/base/linalg/bidiag.jl#L362\" target=\"_blank\">linalg/bidiag.jl:362</a></li> <li> \\(::<b>Bidiagonal{#s267} where #s267<:Number</b>, ::<b>RowVector{#s266,V} where V<:(AbstractArray{T,1} where T) where #s266<:Number</b>) at <a href=\"https://github.com/JuliaLang/julia/tree/903644385b91ed8d95e5e3a5716c089dd1f1b08a/base/linalg/bidiag.jl#L364\" target=\"_blank\">linalg/bidiag.jl:364</a></li> <li> \\(::<b>Bidiagonal</b>, ::<b>RowVector</b>) at <a href=\"https://github.com/JuliaLang/julia/tree/903644385b91ed8d95e5e3a5716c089dd1f1b08a/base/linalg/bidiag.jl#L363\" target=\"_blank\">linalg/bidiag.jl:363</a></li> <li> \\(::<b>SparseMatrixCSC</b>, ::<b>RowVector</b>) at <a href=\"https://github.com/JuliaLang/julia/tree/903644385b91ed8d95e5e3a5716c089dd1f1b08a/base/sparse/linalg.jl#L876\" target=\"_blank\">sparse/linalg.jl:876</a></li> <li> \\(mat::<b>AbstractArray{T,2} where T</b>, rowvec::<b>RowVector</b>) at <a href=\"https://github.com/JuliaLang/julia/tree/903644385b91ed8d95e5e3a5716c089dd1f1b08a/base/linalg/rowvector.jl#L234\" target=\"_blank\">linalg/rowvector.jl:234</a></li> <li> \\(T::<b>SymTridiagonal</b>, B::<b>Union{Union{Base.ReshapedArray{T,1,A,MI} where MI<:Tuple{Vararg{Base.MultiplicativeInverses.SignedMultiplicativeInverse{Int64},N} where N} where A<:DenseArray, DenseArray{T,1}, SubArray{T,1,A,I,L} where L} where I<:Tuple{Vararg{Union{Base.AbstractCartesianIndex, Int64, Range{Int64}},N} where N} where A<:Union{Base.ReshapedArray{T,N,A,MI} where MI<:Tuple{Vararg{Base.MultiplicativeInverses.SignedMultiplicativeInverse{Int64},N} where N} where A<:DenseArray where N where T, DenseArray}, Union{Base.ReshapedArray{T,2,A,MI} where MI<:Tuple{Vararg{Base.MultiplicativeInverses.SignedMultiplicativeInverse{Int64},N} where N} where A<:DenseArray, DenseArray{T,2}, SubArray{T,2,A,I,L} where L} where I<:Tuple{Vararg{Union{Base.AbstractCartesianIndex, Int64, Range{Int64}},N} where N} where A<:Union{Base.ReshapedArray{T,N,A,MI} where MI<:Tuple{Vararg{Base.MultiplicativeInverses.SignedMultiplicativeInverse{Int64},N} where N} where A<:DenseArray where N where T, DenseArray}} where T</b>) at <a href=\"https://github.com/JuliaLang/julia/tree/903644385b91ed8d95e5e3a5716c089dd1f1b08a/base/linalg/tridiag.jl#L163\" target=\"_blank\">linalg/tridiag.jl:163</a></li> <li> \\(A::<b>LowerTriangular</b>, B::<b>LowerTriangular</b>) at <a href=\"https://github.com/JuliaLang/julia/tree/903644385b91ed8d95e5e3a5716c089dd1f1b08a/base/linalg/triangular.jl#L1392\" target=\"_blank\">linalg/triangular.jl:1392</a></li> <li> \\(A::<b>Base.LinAlg.UnitLowerTriangular</b>, B::<b>LowerTriangular</b>) at <a href=\"https://github.com/JuliaLang/julia/tree/903644385b91ed8d95e5e3a5716c089dd1f1b08a/base/linalg/triangular.jl#L1400\" target=\"_blank\">linalg/triangular.jl:1400</a></li> <li> \\(A::<b>UpperTriangular</b>, B::<b>UpperTriangular</b>) at <a href=\"https://github.com/JuliaLang/julia/tree/903644385b91ed8d95e5e3a5716c089dd1f1b08a/base/linalg/triangular.jl#L1408\" target=\"_blank\">linalg/triangular.jl:1408</a></li> <li> \\(A::<b>Base.LinAlg.UnitUpperTriangular</b>, B::<b>UpperTriangular</b>) at <a href=\"https://github.com/JuliaLang/julia/tree/903644385b91ed8d95e5e3a5716c089dd1f1b08a/base/linalg/triangular.jl#L1416\" target=\"_blank\">linalg/triangular.jl:1416</a></li> <li> \\<i>{TA<:Number, Tb<:Number}</i>(A::<b>Base.LinAlg.UnitLowerTriangular{TA,#s267} where #s267<:(Union{Base.ReshapedArray{T,2,A,MI} where MI<:Tuple{Vararg{Base.MultiplicativeInverses.SignedMultiplicativeInverse{Int64},N} where N} where A<:DenseArray, DenseArray{T,2}, SubArray{T,2,A,I,L} where L} where I<:Tuple{Vararg{Union{Base.AbstractCartesianIndex, Int64, Range{Int64}},N} where N} where A<:Union{Base.ReshapedArray{T,N,A,MI} where MI<:Tuple{Vararg{Base.MultiplicativeInverses.SignedMultiplicativeInverse{Int64},N} where N} where A<:DenseArray where N where T, DenseArray} where T)</b>, b::<b>SparseVector{Tb,Ti} where Ti<:Integer</b>) at <a href=\"https://github.com/JuliaLang/julia/tree/903644385b91ed8d95e5e3a5716c089dd1f1b08a/base/sparse/sparsevector.jl#L1764\" target=\"_blank\">sparse/sparsevector.jl:1764</a></li> <li> \\<i>{TA<:Number, Tb<:Number}</i>(A::<b>Base.LinAlg.UnitLowerTriangular{TA,#s267} where #s267<:(AbstractArray{T,2} where T)</b>, b::<b>SparseVector{Tb,Ti} where Ti<:Integer</b>) at <a href=\"https://github.com/JuliaLang/julia/tree/903644385b91ed8d95e5e3a5716c089dd1f1b08a/base/sparse/sparsevector.jl#L1755\" target=\"_blank\">sparse/sparsevector.jl:1755</a></li> <li> \\(A::<b>Base.LinAlg.UnitLowerTriangular</b>, b::<b>SparseVector</b>) at <a href=\"https://github.com/JuliaLang/julia/tree/903644385b91ed8d95e5e3a5716c089dd1f1b08a/base/sparse/sparsevector.jl#L1783\" target=\"_blank\">sparse/sparsevector.jl:1783</a></li> <li> \\<i>{TA<:Number, Tb<:Number}</i>(A::<b>Base.LinAlg.UnitUpperTriangular{TA,#s267} where #s267<:(Union{Base.ReshapedArray{T,2,A,MI} where MI<:Tuple{Vararg{Base.MultiplicativeInverses.SignedMultiplicativeInverse{Int64},N} where N} where A<:DenseArray, DenseArray{T,2}, SubArray{T,2,A,I,L} where L} where I<:Tuple{Vararg{Union{Base.AbstractCartesianIndex, Int64, Range{Int64}},N} where N} where A<:Union{Base.ReshapedArray{T,N,A,MI} where MI<:Tuple{Vararg{Base.MultiplicativeInverses.SignedMultiplicativeInverse{Int64},N} where N} where A<:DenseArray where N where T, DenseArray} where T)</b>, b::<b>SparseVector{Tb,Ti} where Ti<:Integer</b>) at <a href=\"https://github.com/JuliaLang/julia/tree/903644385b91ed8d95e5e3a5716c089dd1f1b08a/base/sparse/sparsevector.jl#L1764\" target=\"_blank\">sparse/sparsevector.jl:1764</a></li> <li> \\<i>{TA<:Number, Tb<:Number}</i>(A::<b>Base.LinAlg.UnitUpperTriangular{TA,#s267} where #s267<:(AbstractArray{T,2} where T)</b>, b::<b>SparseVector{Tb,Ti} where Ti<:Integer</b>) at <a href=\"https://github.com/JuliaLang/julia/tree/903644385b91ed8d95e5e3a5716c089dd1f1b08a/base/sparse/sparsevector.jl#L1755\" target=\"_blank\">sparse/sparsevector.jl:1755</a></li> <li> \\(A::<b>Base.LinAlg.UnitUpperTriangular</b>, b::<b>SparseVector</b>) at <a href=\"https://github.com/JuliaLang/julia/tree/903644385b91ed8d95e5e3a5716c089dd1f1b08a/base/sparse/sparsevector.jl#L1783\" target=\"_blank\">sparse/sparsevector.jl:1783</a></li> <li> \\(A::<b>Union{Base.LinAlg.UnitLowerTriangular, Base.LinAlg.UnitUpperTriangular}</b>, B::<b>AbstractArray{T,1} where T</b>) at <a href=\"https://github.com/JuliaLang/julia/tree/903644385b91ed8d95e5e3a5716c089dd1f1b08a/base/linalg/triangular.jl#L1568\" target=\"_blank\">linalg/triangular.jl:1568</a></li> <li> \\<i>{TA<:Number, Tb<:Number}</i>(A::<b>LowerTriangular{TA,#s267} where #s267<:(Union{Base.ReshapedArray{T,2,A,MI} where MI<:Tuple{Vararg{Base.MultiplicativeInverses.SignedMultiplicativeInverse{Int64},N} where N} where A<:DenseArray, DenseArray{T,2}, SubArray{T,2,A,I,L} where L} where I<:Tuple{Vararg{Union{Base.AbstractCartesianIndex, Int64, Range{Int64}},N} where N} where A<:Union{Base.ReshapedArray{T,N,A,MI} where MI<:Tuple{Vararg{Base.MultiplicativeInverses.SignedMultiplicativeInverse{Int64},N} where N} where A<:DenseArray where N where T, DenseArray} where T)</b>, b::<b>SparseVector{Tb,Ti} where Ti<:Integer</b>) at <a href=\"https://github.com/JuliaLang/julia/tree/903644385b91ed8d95e5e3a5716c089dd1f1b08a/base/sparse/sparsevector.jl#L1764\" target=\"_blank\">sparse/sparsevector.jl:1764</a></li> <li> \\<i>{TA<:Number, Tb<:Number}</i>(A::<b>LowerTriangular{TA,#s267} where #s267<:(AbstractArray{T,2} where T)</b>, b::<b>SparseVector{Tb,Ti} where Ti<:Integer</b>) at <a href=\"https://github.com/JuliaLang/julia/tree/903644385b91ed8d95e5e3a5716c089dd1f1b08a/base/sparse/sparsevector.jl#L1755\" target=\"_blank\">sparse/sparsevector.jl:1755</a></li> <li> \\(A::<b>LowerTriangular</b>, b::<b>SparseVector</b>) at <a href=\"https://github.com/JuliaLang/julia/tree/903644385b91ed8d95e5e3a5716c089dd1f1b08a/base/sparse/sparsevector.jl#L1783\" target=\"_blank\">sparse/sparsevector.jl:1783</a></li> <li> \\<i>{TA<:Number, Tb<:Number}</i>(A::<b>UpperTriangular{TA,#s267} where #s267<:(Union{Base.ReshapedArray{T,2,A,MI} where MI<:Tuple{Vararg{Base.MultiplicativeInverses.SignedMultiplicativeInverse{Int64},N} where N} where A<:DenseArray, DenseArray{T,2}, SubArray{T,2,A,I,L} where L} where I<:Tuple{Vararg{Union{Base.AbstractCartesianIndex, Int64, Range{Int64}},N} where N} where A<:Union{Base.ReshapedArray{T,N,A,MI} where MI<:Tuple{Vararg{Base.MultiplicativeInverses.SignedMultiplicativeInverse{Int64},N} where N} where A<:DenseArray where N where T, DenseArray} where T)</b>, b::<b>SparseVector{Tb,Ti} where Ti<:Integer</b>) at <a href=\"https://github.com/JuliaLang/julia/tree/903644385b91ed8d95e5e3a5716c089dd1f1b08a/base/sparse/sparsevector.jl#L1764\" target=\"_blank\">sparse/sparsevector.jl:1764</a></li> <li> \\<i>{TA<:Number, Tb<:Number}</i>(A::<b>UpperTriangular{TA,#s267} where #s267<:(AbstractArray{T,2} where T)</b>, b::<b>SparseVector{Tb,Ti} where Ti<:Integer</b>) at <a href=\"https://github.com/JuliaLang/julia/tree/903644385b91ed8d95e5e3a5716c089dd1f1b08a/base/sparse/sparsevector.jl#L1755\" target=\"_blank\">sparse/sparsevector.jl:1755</a></li> <li> \\(A::<b>UpperTriangular</b>, b::<b>SparseVector</b>) at <a href=\"https://github.com/JuliaLang/julia/tree/903644385b91ed8d95e5e3a5716c089dd1f1b08a/base/sparse/sparsevector.jl#L1783\" target=\"_blank\">sparse/sparsevector.jl:1783</a></li> <li> \\<i>{T}</i>(L::<b>LowerTriangular{T,#s267} where #s267<:(SparseMatrixCSC{T,Ti} where Ti<:Integer)</b>, B::<b>SparseMatrixCSC</b>) at <a href=\"https://github.com/JuliaLang/julia/tree/903644385b91ed8d95e5e3a5716c089dd1f1b08a/base/sparse/linalg.jl#L290\" target=\"_blank\">sparse/linalg.jl:290</a></li> <li> \\<i>{T}</i>(U::<b>UpperTriangular{T,#s267} where #s267<:(SparseMatrixCSC{T,Ti} where Ti<:Integer)</b>, B::<b>SparseMatrixCSC</b>) at <a href=\"https://github.com/JuliaLang/julia/tree/903644385b91ed8d95e5e3a5716c089dd1f1b08a/base/sparse/linalg.jl#L291\" target=\"_blank\">sparse/linalg.jl:291</a></li> <li> \\(A::<b>Union{LowerTriangular, UpperTriangular}</b>, B::<b>AbstractArray{T,1} where T</b>) at <a href=\"https://github.com/JuliaLang/julia/tree/903644385b91ed8d95e5e3a5716c089dd1f1b08a/base/linalg/triangular.jl#L1579\" target=\"_blank\">linalg/triangular.jl:1579</a></li> <li> \\(A::<b>Union{Base.LinAlg.UnitLowerTriangular, Base.LinAlg.UnitUpperTriangular}</b>, B::<b>AbstractArray{T,2} where T</b>) at <a href=\"https://github.com/JuliaLang/julia/tree/903644385b91ed8d95e5e3a5716c089dd1f1b08a/base/linalg/triangular.jl#L1568\" target=\"_blank\">linalg/triangular.jl:1568</a></li> <li> \\(A::<b>Union{LowerTriangular, UpperTriangular}</b>, B::<b>AbstractArray{T,2} where T</b>) at <a href=\"https://github.com/JuliaLang/julia/tree/903644385b91ed8d95e5e3a5716c089dd1f1b08a/base/linalg/triangular.jl#L1579\" target=\"_blank\">linalg/triangular.jl:1579</a></li> <li> \\(A::<b>Union{Hermitian{Complex{Float64},SparseMatrixCSC{Complex{Float64},Int64}}, Hermitian{Float64,SparseMatrixCSC{Float64,Int64}}, Symmetric{Float64,SparseMatrixCSC{Float64,Int64}}}</b>, B::<b>Union{Union{Base.ReshapedArray{T,1,A,MI} where MI<:Tuple{Vararg{Base.MultiplicativeInverses.SignedMultiplicativeInverse{Int64},N} where N} where A<:DenseArray, DenseArray{T,1}, SubArray{T,1,A,I,L} where L} where I<:Tuple{Vararg{Union{Base.AbstractCartesianIndex, Int64, Range{Int64}},N} where N} where A<:Union{Base.ReshapedArray{T,N,A,MI} where MI<:Tuple{Vararg{Base.MultiplicativeInverses.SignedMultiplicativeInverse{Int64},N} where N} where A<:DenseArray where N where T, DenseArray}, Union{Base.ReshapedArray{T,2,A,MI} where MI<:Tuple{Vararg{Base.MultiplicativeInverses.SignedMultiplicativeInverse{Int64},N} where N} where A<:DenseArray, DenseArray{T,2}, SubArray{T,2,A,I,L} where L} where I<:Tuple{Vararg{Union{Base.AbstractCartesianIndex, Int64, Range{Int64}},N} where N} where A<:Union{Base.ReshapedArray{T,N,A,MI} where MI<:Tuple{Vararg{Base.MultiplicativeInverses.SignedMultiplicativeInverse{Int64},N} where N} where A<:DenseArray where N where T, DenseArray}} where T</b>) at <a href=\"https://github.com/JuliaLang/julia/tree/903644385b91ed8d95e5e3a5716c089dd1f1b08a/base/sparse/cholmod.jl#L1620\" target=\"_blank\">sparse/cholmod.jl:1620</a></li> <li> \\(A::<b>Union{Hermitian{#s267,#s266}, Symmetric{#s267,#s266}} where #s266<:(Union{Base.ReshapedArray{T,2,A,MI} where MI<:Tuple{Vararg{Base.MultiplicativeInverses.SignedMultiplicativeInverse{Int64},N} where N} where A<:DenseArray, DenseArray{T,2}, SubArray{T,2,A,I,L} where L} where I<:Tuple{Vararg{Union{Base.AbstractCartesianIndex, Int64, Range{Int64}},N} where N} where A<:Union{Base.ReshapedArray{T,N,A,MI} where MI<:Tuple{Vararg{Base.MultiplicativeInverses.SignedMultiplicativeInverse{Int64},N} where N} where A<:DenseArray where N where T, DenseArray} where T) where #s267</b>, B::<b>Union{Union{Base.ReshapedArray{T,1,A,MI} where MI<:Tuple{Vararg{Base.MultiplicativeInverses.SignedMultiplicativeInverse{Int64},N} where N} where A<:DenseArray, DenseArray{T,1}, SubArray{T,1,A,I,L} where L} where I<:Tuple{Vararg{Union{Base.AbstractCartesianIndex, Int64, Range{Int64}},N} where N} where A<:Union{Base.ReshapedArray{T,N,A,MI} where MI<:Tuple{Vararg{Base.MultiplicativeInverses.SignedMultiplicativeInverse{Int64},N} where N} where A<:DenseArray where N where T, DenseArray}, Union{Base.ReshapedArray{T,2,A,MI} where MI<:Tuple{Vararg{Base.MultiplicativeInverses.SignedMultiplicativeInverse{Int64},N} where N} where A<:DenseArray, DenseArray{T,2}, SubArray{T,2,A,I,L} where L} where I<:Tuple{Vararg{Union{Base.AbstractCartesianIndex, Int64, Range{Int64}},N} where N} where A<:Union{Base.ReshapedArray{T,N,A,MI} where MI<:Tuple{Vararg{Base.MultiplicativeInverses.SignedMultiplicativeInverse{Int64},N} where N} where A<:DenseArray where N where T, DenseArray}} where T</b>) at <a href=\"https://github.com/JuliaLang/julia/tree/903644385b91ed8d95e5e3a5716c089dd1f1b08a/base/linalg/symmetric.jl#L284\" target=\"_blank\">linalg/symmetric.jl:284</a></li> <li> \\(Da::<b>Diagonal</b>, Db::<b>Diagonal</b>) at <a href=\"https://github.com/JuliaLang/julia/tree/903644385b91ed8d95e5e3a5716c089dd1f1b08a/base/linalg/diagonal.jl#L319\" target=\"_blank\">linalg/diagonal.jl:319</a></li> <li> \\(D::<b>Diagonal</b>, A::<b>AbstractArray{T,2} where T</b>) at <a href=\"https://github.com/JuliaLang/julia/tree/903644385b91ed8d95e5e3a5716c089dd1f1b08a/base/linalg/diagonal.jl#L317\" target=\"_blank\">linalg/diagonal.jl:317</a></li> <li> \\(D::<b>Diagonal</b>, b::<b>AbstractArray{T,1} where T</b>) at <a href=\"https://github.com/JuliaLang/julia/tree/903644385b91ed8d95e5e3a5716c089dd1f1b08a/base/linalg/diagonal.jl#L318\" target=\"_blank\">linalg/diagonal.jl:318</a></li> <li> \\<i>{TA<:Number, TB<:Number}</i>(A::<b>Bidiagonal{TA}</b>, B::<b>Union{AbstractArray{TB,1}, AbstractArray{TB,2}}</b>) at <a href=\"https://github.com/JuliaLang/julia/tree/903644385b91ed8d95e5e3a5716c089dd1f1b08a/base/linalg/bidiag.jl#L566\" target=\"_blank\">linalg/bidiag.jl:566</a></li> <li> \\(A::<b>Bidiagonal</b>, B::<b>Union{AbstractArray{T,1}, AbstractArray{T,2}} where T</b>) at <a href=\"https://github.com/JuliaLang/julia/tree/903644385b91ed8d95e5e3a5716c089dd1f1b08a/base/linalg/bidiag.jl#L569\" target=\"_blank\">linalg/bidiag.jl:569</a></li> <li> \\(A::<b>SparseMatrixCSC</b>, B::<b>Union{AbstractArray{T,1}, AbstractArray{T,2}} where T</b>) at <a href=\"https://github.com/JuliaLang/julia/tree/903644385b91ed8d95e5e3a5716c089dd1f1b08a/base/sparse/linalg.jl#L857\" target=\"_blank\">sparse/linalg.jl:857</a></li> <li> \\<i>{T}</i>(L::<b>Base.SparseArrays.CHOLMOD.FactorComponent{T,:L}</b>, B::<b>Base.SparseArrays.CHOLMOD.Dense</b>) at <a href=\"https://github.com/JuliaLang/julia/tree/903644385b91ed8d95e5e3a5716c089dd1f1b08a/base/sparse/cholmod.jl#L1550\" target=\"_blank\">sparse/cholmod.jl:1550</a></li> <li> \\<i>{T}</i>(L::<b>Base.SparseArrays.CHOLMOD.FactorComponent{T,:U}</b>, B::<b>Base.SparseArrays.CHOLMOD.Dense</b>) at <a href=\"https://github.com/JuliaLang/julia/tree/903644385b91ed8d95e5e3a5716c089dd1f1b08a/base/sparse/cholmod.jl#L1553\" target=\"_blank\">sparse/cholmod.jl:1553</a></li> <li> \\<i>{T}</i>(L::<b>Base.SparseArrays.CHOLMOD.FactorComponent{T,:PtL}</b>, B::<b>Base.SparseArrays.CHOLMOD.Dense</b>) at <a href=\"https://github.com/JuliaLang/julia/tree/903644385b91ed8d95e5e3a5716c089dd1f1b08a/base/sparse/cholmod.jl#L1557\" target=\"_blank\">sparse/cholmod.jl:1557</a></li> <li> \\<i>{T}</i>(L::<b>Base.SparseArrays.CHOLMOD.FactorComponent{T,:UP}</b>, B::<b>Base.SparseArrays.CHOLMOD.Dense</b>) at <a href=\"https://github.com/JuliaLang/julia/tree/903644385b91ed8d95e5e3a5716c089dd1f1b08a/base/sparse/cholmod.jl#L1561\" target=\"_blank\">sparse/cholmod.jl:1561</a></li> <li> \\<i>{T}</i>(L::<b>Base.SparseArrays.CHOLMOD.FactorComponent{T,:D}</b>, B::<b>Base.SparseArrays.CHOLMOD.Dense</b>) at <a href=\"https://github.com/JuliaLang/julia/tree/903644385b91ed8d95e5e3a5716c089dd1f1b08a/base/sparse/cholmod.jl#L1566\" target=\"_blank\">sparse/cholmod.jl:1566</a></li> <li> \\<i>{T}</i>(L::<b>Base.SparseArrays.CHOLMOD.FactorComponent{T,:LD}</b>, B::<b>Base.SparseArrays.CHOLMOD.Dense</b>) at <a href=\"https://github.com/JuliaLang/julia/tree/903644385b91ed8d95e5e3a5716c089dd1f1b08a/base/sparse/cholmod.jl#L1569\" target=\"_blank\">sparse/cholmod.jl:1569</a></li> <li> \\<i>{T}</i>(L::<b>Base.SparseArrays.CHOLMOD.FactorComponent{T,:DU}</b>, B::<b>Base.SparseArrays.CHOLMOD.Dense</b>) at <a href=\"https://github.com/JuliaLang/julia/tree/903644385b91ed8d95e5e3a5716c089dd1f1b08a/base/sparse/cholmod.jl#L1572\" target=\"_blank\">sparse/cholmod.jl:1572</a></li> <li> \\<i>{T}</i>(L::<b>Base.SparseArrays.CHOLMOD.FactorComponent{T,:PtLD}</b>, B::<b>Base.SparseArrays.CHOLMOD.Dense</b>) at <a href=\"https://github.com/JuliaLang/julia/tree/903644385b91ed8d95e5e3a5716c089dd1f1b08a/base/sparse/cholmod.jl#L1575\" target=\"_blank\">sparse/cholmod.jl:1575</a></li> <li> \\<i>{T}</i>(L::<b>Base.SparseArrays.CHOLMOD.FactorComponent{T,:DUP}</b>, B::<b>Base.SparseArrays.CHOLMOD.Dense</b>) at <a href=\"https://github.com/JuliaLang/julia/tree/903644385b91ed8d95e5e3a5716c089dd1f1b08a/base/sparse/cholmod.jl#L1579\" target=\"_blank\">sparse/cholmod.jl:1579</a></li> <li> \\<i>{T}</i>(L::<b>Base.SparseArrays.CHOLMOD.FactorComponent{T,:L}</b>, B::<b>Base.SparseArrays.CHOLMOD.Sparse</b>) at <a href=\"https://github.com/JuliaLang/julia/tree/903644385b91ed8d95e5e3a5716c089dd1f1b08a/base/sparse/cholmod.jl#L1550\" target=\"_blank\">sparse/cholmod.jl:1550</a></li> <li> \\<i>{T}</i>(L::<b>Base.SparseArrays.CHOLMOD.FactorComponent{T,:U}</b>, B::<b>Base.SparseArrays.CHOLMOD.Sparse</b>) at <a href=\"https://github.com/JuliaLang/julia/tree/903644385b91ed8d95e5e3a5716c089dd1f1b08a/base/sparse/cholmod.jl#L1553\" target=\"_blank\">sparse/cholmod.jl:1553</a></li> <li> \\<i>{T}</i>(L::<b>Base.SparseArrays.CHOLMOD.FactorComponent{T,:PtL}</b>, B::<b>Base.SparseArrays.CHOLMOD.Sparse</b>) at <a href=\"https://github.com/JuliaLang/julia/tree/903644385b91ed8d95e5e3a5716c089dd1f1b08a/base/sparse/cholmod.jl#L1557\" target=\"_blank\">sparse/cholmod.jl:1557</a></li> <li> \\<i>{T}</i>(L::<b>Base.SparseArrays.CHOLMOD.FactorComponent{T,:UP}</b>, B::<b>Base.SparseArrays.CHOLMOD.Sparse</b>) at <a href=\"https://github.com/JuliaLang/julia/tree/903644385b91ed8d95e5e3a5716c089dd1f1b08a/base/sparse/cholmod.jl#L1561\" target=\"_blank\">sparse/cholmod.jl:1561</a></li> <li> \\<i>{T}</i>(L::<b>Base.SparseArrays.CHOLMOD.FactorComponent{T,:D}</b>, B::<b>Base.SparseArrays.CHOLMOD.Sparse</b>) at <a href=\"https://github.com/JuliaLang/julia/tree/903644385b91ed8d95e5e3a5716c089dd1f1b08a/base/sparse/cholmod.jl#L1566\" target=\"_blank\">sparse/cholmod.jl:1566</a></li> <li> \\<i>{T}</i>(L::<b>Base.SparseArrays.CHOLMOD.FactorComponent{T,:LD}</b>, B::<b>Base.SparseArrays.CHOLMOD.Sparse</b>) at <a href=\"https://github.com/JuliaLang/julia/tree/903644385b91ed8d95e5e3a5716c089dd1f1b08a/base/sparse/cholmod.jl#L1569\" target=\"_blank\">sparse/cholmod.jl:1569</a></li> <li> \\<i>{T}</i>(L::<b>Base.SparseArrays.CHOLMOD.FactorComponent{T,:DU}</b>, B::<b>Base.SparseArrays.CHOLMOD.Sparse</b>) at <a href=\"https://github.com/JuliaLang/julia/tree/903644385b91ed8d95e5e3a5716c089dd1f1b08a/base/sparse/cholmod.jl#L1572\" target=\"_blank\">sparse/cholmod.jl:1572</a></li> <li> \\<i>{T}</i>(L::<b>Base.SparseArrays.CHOLMOD.FactorComponent{T,:PtLD}</b>, B::<b>Base.SparseArrays.CHOLMOD.Sparse</b>) at <a href=\"https://github.com/JuliaLang/julia/tree/903644385b91ed8d95e5e3a5716c089dd1f1b08a/base/sparse/cholmod.jl#L1575\" target=\"_blank\">sparse/cholmod.jl:1575</a></li> <li> \\<i>{T}</i>(L::<b>Base.SparseArrays.CHOLMOD.FactorComponent{T,:DUP}</b>, B::<b>Base.SparseArrays.CHOLMOD.Sparse</b>) at <a href=\"https://github.com/JuliaLang/julia/tree/903644385b91ed8d95e5e3a5716c089dd1f1b08a/base/sparse/cholmod.jl#L1579\" target=\"_blank\">sparse/cholmod.jl:1579</a></li> <li> \\(L::<b>Base.SparseArrays.CHOLMOD.FactorComponent</b>, b::<b>Array{T,1} where T</b>) at <a href=\"https://github.com/JuliaLang/julia/tree/903644385b91ed8d95e5e3a5716c089dd1f1b08a/base/sparse/cholmod.jl#L1588\" target=\"_blank\">sparse/cholmod.jl:1588</a></li> <li> \\(L::<b>Base.SparseArrays.CHOLMOD.FactorComponent</b>, B::<b>Array{T,2} where T</b>) at <a href=\"https://github.com/JuliaLang/julia/tree/903644385b91ed8d95e5e3a5716c089dd1f1b08a/base/sparse/cholmod.jl#L1591\" target=\"_blank\">sparse/cholmod.jl:1591</a></li> <li> \\(L::<b>Base.SparseArrays.CHOLMOD.FactorComponent</b>, B::<b>Union{SparseMatrixCSC{Tv,Ti}, SparseVector{Tv,Ti}} where Ti where Tv</b>) at <a href=\"https://github.com/JuliaLang/julia/tree/903644385b91ed8d95e5e3a5716c089dd1f1b08a/base/sparse/cholmod.jl#L1594\" target=\"_blank\">sparse/cholmod.jl:1594</a></li> <li> \\(A::<b>AbstractArray{T,2} where T</b>, B::<b>Union{AbstractArray{T,1}, AbstractArray{T,2}} where T</b>) at <a href=\"https://github.com/JuliaLang/julia/tree/903644385b91ed8d95e5e3a5716c089dd1f1b08a/base/linalg/generic.jl#L805\" target=\"_blank\">linalg/generic.jl:805</a></li> <li> \\(a::<b>AbstractArray{T,1} where T</b>, b::<b>AbstractArray</b>) at <a href=\"https://github.com/JuliaLang/julia/tree/903644385b91ed8d95e5e3a5716c089dd1f1b08a/base/linalg/generic.jl#L822\" target=\"_blank\">linalg/generic.jl:822</a></li> <li> \\<i>{T<:Union{Float32, Float64}}</i>(A::<b>Union{Base.LinAlg.QRCompactWY{T,M} where M<:(AbstractArray{T,2} where T), Base.LinAlg.QRPivoted{T,S} where S<:(AbstractArray{T,2} where T), Base.LinAlg.QR{T,S} where S<:(AbstractArray{T,2} where T)}</b>, BIn::<b>Union{Array{Complex{T},1}, Array{Complex{T},2}}</b>) at <a href=\"https://github.com/JuliaLang/julia/tree/903644385b91ed8d95e5e3a5716c089dd1f1b08a/base/linalg/qr.jl#L828\" target=\"_blank\">linalg/qr.jl:828</a></li> <li> \\<i>{T<:Union{Float32, Float64}}</i>(F::<b>Base.LinAlg.LQ{T,S} where S<:(AbstractArray{T,2} where T)</b>, B::<b>Union{Array{Complex{T},1}, Array{Complex{T},2}}</b>) at <a href=\"https://github.com/JuliaLang/julia/tree/903644385b91ed8d95e5e3a5716c089dd1f1b08a/base/linalg/lq.jl#L226\" target=\"_blank\">linalg/lq.jl:226</a></li> <li> \\<i>{T<:Float64}</i>(L::<b>Base.SparseArrays.CHOLMOD.Factor{T}</b>, B::<b>Array{Complex{T},1}</b>) at <a href=\"https://github.com/JuliaLang/julia/tree/903644385b91ed8d95e5e3a5716c089dd1f1b08a/base/sparse/cholmod.jl#L1603\" target=\"_blank\">sparse/cholmod.jl:1603</a></li> <li> \\<i>{T<:Float64}</i>(L::<b>Base.SparseArrays.CHOLMOD.Factor{T}</b>, B::<b>Array{Complex{T},2}</b>) at <a href=\"https://github.com/JuliaLang/julia/tree/903644385b91ed8d95e5e3a5716c089dd1f1b08a/base/sparse/cholmod.jl#L1604\" target=\"_blank\">sparse/cholmod.jl:1604</a></li> <li> \\<i>{T<:Union{Float32, Float64}}</i>(F::<b>Factorization{T}</b>, B::<b>Union{Array{Complex{T},1}, Array{Complex{T},2}}</b>) at <a href=\"https://github.com/JuliaLang/julia/tree/903644385b91ed8d95e5e3a5716c089dd1f1b08a/base/linalg/factorization.jl#L36\" target=\"_blank\">linalg/factorization.jl:36</a></li> <li> \\<i>{TA, TB}</i>(A::<b>Union{Base.LinAlg.QRCompactWY{TA,M} where M<:(AbstractArray{T,2} where T), Base.LinAlg.QRPivoted{TA,S} where S<:(AbstractArray{T,2} where T), Base.LinAlg.QR{TA,S} where S<:(AbstractArray{T,2} where T)}</b>, B::<b>Union{AbstractArray{TB,1}, AbstractArray{TB,2}}</b>) at <a href=\"https://github.com/JuliaLang/julia/tree/903644385b91ed8d95e5e3a5716c089dd1f1b08a/base/linalg/qr.jl#L809\" target=\"_blank\">linalg/qr.jl:809</a></li> <li> \\<i>{TA, Tb}</i>(A::<b>Base.LinAlg.LQ{TA,S} where S<:(AbstractArray{T,2} where T)</b>, b::<b>Union{Base.ReshapedArray{Tb,1,A,MI} where MI<:Tuple{Vararg{Base.MultiplicativeInverses.SignedMultiplicativeInverse{Int64},N} where N} where A<:DenseArray, DenseArray{Tb,1}, SubArray{Tb,1,A,I,L} where L} where I<:Tuple{Vararg{Union{Base.AbstractCartesianIndex, Int64, Range{Int64}},N} where N} where A<:Union{Base.ReshapedArray{T,N,A,MI} where MI<:Tuple{Vararg{Base.MultiplicativeInverses.SignedMultiplicativeInverse{Int64},N} where N} where A<:DenseArray where N where T, DenseArray}</b>) at <a href=\"https://github.com/JuliaLang/julia/tree/903644385b91ed8d95e5e3a5716c089dd1f1b08a/base/linalg/lq.jl#L208\" target=\"_blank\">linalg/lq.jl:208</a></li> <li> \\<i>{TA, TB}</i>(A::<b>Base.LinAlg.LQ{TA,S} where S<:(AbstractArray{T,2} where T)</b>, B::<b>Union{Base.ReshapedArray{TB,2,A,MI} where MI<:Tuple{Vararg{Base.MultiplicativeInverses.SignedMultiplicativeInverse{Int64},N} where N} where A<:DenseArray, DenseArray{TB,2}, SubArray{TB,2,A,I,L} where L} where I<:Tuple{Vararg{Union{Base.AbstractCartesianIndex, Int64, Range{Int64}},N} where N} where A<:Union{Base.ReshapedArray{T,N,A,MI} where MI<:Tuple{Vararg{Base.MultiplicativeInverses.SignedMultiplicativeInverse{Int64},N} where N} where A<:DenseArray where N where T, DenseArray}</b>) at <a href=\"https://github.com/JuliaLang/julia/tree/903644385b91ed8d95e5e3a5716c089dd1f1b08a/base/linalg/lq.jl#L216\" target=\"_blank\">linalg/lq.jl:216</a></li> <li> \\<i>{T<:Union{Complex{Float64}, Float64}}</i>(L::<b>Base.SparseArrays.CHOLMOD.Factor{T}</b>, B::<b>Base.SparseArrays.CHOLMOD.Dense{T}</b>) at <a href=\"https://github.com/JuliaLang/julia/tree/903644385b91ed8d95e5e3a5716c089dd1f1b08a/base/sparse/cholmod.jl#L1600\" target=\"_blank\">sparse/cholmod.jl:1600</a></li> <li> \\<i>{T<:Union{Complex{Float64}, Float64}}</i>(L::<b>Base.SparseArrays.CHOLMOD.Factor{T}</b>, b::<b>Union{Base.ReshapedArray{T,1,A,MI} where MI<:Tuple{Vararg{Base.MultiplicativeInverses.SignedMultiplicativeInverse{Int64},N} where N} where A<:DenseArray, DenseArray{T,1}, SubArray{T,1,A,I,L} where L} where I<:Tuple{Vararg{Union{Base.AbstractCartesianIndex, Int64, Range{Int64}},N} where N} where A<:Union{Base.ReshapedArray{T,N,A,MI} where MI<:Tuple{Vararg{Base.MultiplicativeInverses.SignedMultiplicativeInverse{Int64},N} where N} where A<:DenseArray where N where T, DenseArray} where T</b>) at <a href=\"https://github.com/JuliaLang/julia/tree/903644385b91ed8d95e5e3a5716c089dd1f1b08a/base/sparse/cholmod.jl#L1605\" target=\"_blank\">sparse/cholmod.jl:1605</a></li> <li> \\<i>{T<:Union{Complex{Float64}, Float64}}</i>(L::<b>Base.SparseArrays.CHOLMOD.Factor{T}</b>, B::<b>Union{Base.ReshapedArray{T,2,A,MI} where MI<:Tuple{Vararg{Base.MultiplicativeInverses.SignedMultiplicativeInverse{Int64},N} where N} where A<:DenseArray, DenseArray{T,2}, SubArray{T,2,A,I,L} where L} where I<:Tuple{Vararg{Union{Base.AbstractCartesianIndex, Int64, Range{Int64}},N} where N} where A<:Union{Base.ReshapedArray{T,N,A,MI} where MI<:Tuple{Vararg{Base.MultiplicativeInverses.SignedMultiplicativeInverse{Int64},N} where N} where A<:DenseArray where N where T, DenseArray} where T</b>) at <a href=\"https://github.com/JuliaLang/julia/tree/903644385b91ed8d95e5e3a5716c089dd1f1b08a/base/sparse/cholmod.jl#L1606\" target=\"_blank\">sparse/cholmod.jl:1606</a></li> <li> \\(L::<b>Base.SparseArrays.CHOLMOD.Factor</b>, B::<b>Base.SparseArrays.CHOLMOD.Sparse</b>) at <a href=\"https://github.com/JuliaLang/julia/tree/903644385b91ed8d95e5e3a5716c089dd1f1b08a/base/sparse/cholmod.jl#L1607\" target=\"_blank\">sparse/cholmod.jl:1607</a></li> <li> \\(L::<b>Base.SparseArrays.CHOLMOD.Factor</b>, B::<b>Union{SparseMatrixCSC{Tv,Ti}, SparseVector{Tv,Ti}} where Ti where Tv</b>) at <a href=\"https://github.com/JuliaLang/julia/tree/903644385b91ed8d95e5e3a5716c089dd1f1b08a/base/sparse/cholmod.jl#L1609\" target=\"_blank\">sparse/cholmod.jl:1609</a></li> <li> \\<i>{T<:Union{Complex{Float64}, Float64}}</i>(F::<b>Base.SparseArrays.SPQR.Factorization{T}</b>, B::<b>Union{Union{Base.ReshapedArray{T,1,A,MI} where MI<:Tuple{Vararg{Base.MultiplicativeInverses.SignedMultiplicativeInverse{Int64},N} where N} where A<:DenseArray, DenseArray{T,1}, SubArray{T,1,A,I,L} where L} where I<:Tuple{Vararg{Union{Base.AbstractCartesianIndex, Int64, Range{Int64}},N} where N} where A<:Union{Base.ReshapedArray{T,N,A,MI} where MI<:Tuple{Vararg{Base.MultiplicativeInverses.SignedMultiplicativeInverse{Int64},N} where N} where A<:DenseArray where N where T, DenseArray}, Union{Base.ReshapedArray{T,2,A,MI} where MI<:Tuple{Vararg{Base.MultiplicativeInverses.SignedMultiplicativeInverse{Int64},N} where N} where A<:DenseArray, DenseArray{T,2}, SubArray{T,2,A,I,L} where L} where I<:Tuple{Vararg{Union{Base.AbstractCartesianIndex, Int64, Range{Int64}},N} where N} where A<:Union{Base.ReshapedArray{T,N,A,MI} where MI<:Tuple{Vararg{Base.MultiplicativeInverses.SignedMultiplicativeInverse{Int64},N} where N} where A<:DenseArray where N where T, DenseArray}}</b>) at <a href=\"https://github.com/JuliaLang/julia/tree/903644385b91ed8d95e5e3a5716c089dd1f1b08a/base/sparse/spqr.jl#L178\" target=\"_blank\">sparse/spqr.jl:178</a></li> <li> \\(F::<b>Base.SparseArrays.SPQR.Factorization</b>, B::<b>Union{Union{Base.ReshapedArray{T,1,A,MI} where MI<:Tuple{Vararg{Base.MultiplicativeInverses.SignedMultiplicativeInverse{Int64},N} where N} where A<:DenseArray, DenseArray{T,1}, SubArray{T,1,A,I,L} where L} where I<:Tuple{Vararg{Union{Base.AbstractCartesianIndex, Int64, Range{Int64}},N} where N} where A<:Union{Base.ReshapedArray{T,N,A,MI} where MI<:Tuple{Vararg{Base.MultiplicativeInverses.SignedMultiplicativeInverse{Int64},N} where N} where A<:DenseArray where N where T, DenseArray}, Union{Base.ReshapedArray{T,2,A,MI} where MI<:Tuple{Vararg{Base.MultiplicativeInverses.SignedMultiplicativeInverse{Int64},N} where N} where A<:DenseArray, DenseArray{T,2}, SubArray{T,2,A,I,L} where L} where I<:Tuple{Vararg{Union{Base.AbstractCartesianIndex, Int64, Range{Int64}},N} where N} where A<:Union{Base.ReshapedArray{T,N,A,MI} where MI<:Tuple{Vararg{Base.MultiplicativeInverses.SignedMultiplicativeInverse{Int64},N} where N} where A<:DenseArray where N where T, DenseArray}} where T</b>) at <a href=\"https://github.com/JuliaLang/julia/tree/903644385b91ed8d95e5e3a5716c089dd1f1b08a/base/sparse/spqr.jl#L182\" target=\"_blank\">sparse/spqr.jl:182</a></li> <li> \\(F::<b>Factorization</b>, B::<b>Union{AbstractArray{T,1}, AbstractArray{T,2}} where T</b>) at <a href=\"https://github.com/JuliaLang/julia/tree/903644385b91ed8d95e5e3a5716c089dd1f1b08a/base/linalg/factorization.jl#L45\" target=\"_blank\">linalg/factorization.jl:45</a></li> <li> \\(J1::<b>UniformScaling</b>, J2::<b>UniformScaling</b>) at <a href=\"https://github.com/JuliaLang/julia/tree/903644385b91ed8d95e5e3a5716c089dd1f1b08a/base/linalg/uniformscaling.jl#L162\" target=\"_blank\">linalg/uniformscaling.jl:162</a></li> <li> \\<i>{T<:Number}</i>(A::<b>Union{Base.LinAlg.AbstractTriangular{T,S} where S<:(AbstractArray{T,2} where T), Bidiagonal{T}}</b>, J::<b>UniformScaling</b>) at <a href=\"https://github.com/JuliaLang/julia/tree/903644385b91ed8d95e5e3a5716c089dd1f1b08a/base/linalg/uniformscaling.jl#L163\" target=\"_blank\">linalg/uniformscaling.jl:163</a></li> <li> \\(J::<b>UniformScaling</b>, A::<b>Union{AbstractArray{T,1}, AbstractArray{T,2}} where T</b>) at <a href=\"https://github.com/JuliaLang/julia/tree/903644385b91ed8d95e5e3a5716c089dd1f1b08a/base/linalg/uniformscaling.jl#L164\" target=\"_blank\">linalg/uniformscaling.jl:164</a></li> <li> \\(A::<b>AbstractArray{T,2} where T</b>, J::<b>UniformScaling</b>) at <a href=\"https://github.com/JuliaLang/julia/tree/903644385b91ed8d95e5e3a5716c089dd1f1b08a/base/linalg/uniformscaling.jl#L165\" target=\"_blank\">linalg/uniformscaling.jl:165</a></li> <li> \\(x::<b>Number</b>, J::<b>UniformScaling</b>) at <a href=\"https://github.com/JuliaLang/julia/tree/903644385b91ed8d95e5e3a5716c089dd1f1b08a/base/linalg/uniformscaling.jl#L167\" target=\"_blank\">linalg/uniformscaling.jl:167</a></li> <li> \\(p::<b>Base.DFT.Plan</b>, x::<b>AbstractArray</b>) at <a href=\"https://github.com/JuliaLang/julia/tree/903644385b91ed8d95e5e3a5716c089dd1f1b08a/base/dft.jl#L233\" target=\"_blank\">dft.jl:233</a></li> <li> \\(x, y) at <a href=\"https://github.com/JuliaLang/julia/tree/903644385b91ed8d95e5e3a5716c089dd1f1b08a/base/operators.jl#L457\" target=\"_blank\">operators.jl:457</a></li> </ul>"
      ],
      "text/plain": [
       "# 92 methods for generic function \"\\\":\n",
       "\\(a::Float16, b::Float16) in Base at float.jl:372\n",
       "\\(F::Base.SparseArrays.SPQR.Factorization{Float64}, B::Union{Array{Complex{Float64},1}, Array{Complex{Float64},2}}) in Base.SparseArrays.SPQR at sparse/spqr.jl:167\n",
       "\\(x::Number, A::UpperTriangular) in Base.LinAlg at linalg/triangular.jl:562\n",
       "\\(x::Number, A::Base.LinAlg.UnitUpperTriangular) in Base.LinAlg at linalg/triangular.jl:565\n",
       "\\(x::Number, A::LowerTriangular) in Base.LinAlg at linalg/triangular.jl:562\n",
       "\\(x::Number, A::Base.LinAlg.UnitLowerTriangular) in Base.LinAlg at linalg/triangular.jl:565\n",
       "\\(A::Number, B::AbstractArray) in Base at arraymath.jl:44\n",
       "\\(A::Union{BitArray{1}, BitArray{2}}, B::Union{BitArray{1}, BitArray{2}}) in Base at bitarray.jl:1192\n",
       "\\(::Union{LowerTriangular, UpperTriangular}, ::RowVector) in Base.LinAlg at linalg/triangular.jl:1656\n",
       "\\(::Union{Base.LinAlg.UnitLowerTriangular, Base.LinAlg.UnitUpperTriangular}, ::RowVector) in Base.LinAlg at linalg/triangular.jl:1657\n",
       "\\(::Diagonal, ::RowVector) in Base.LinAlg at linalg/bidiag.jl:362\n",
       "\\(::Bidiagonal{#s267} where #s267<:Number, ::RowVector{#s266,V} where V<:(AbstractArray{T,1} where T) where #s266<:Number) in Base.LinAlg at linalg/bidiag.jl:364\n",
       "\\(::Bidiagonal, ::RowVector) in Base.LinAlg at linalg/bidiag.jl:363\n",
       "\\(::SparseMatrixCSC, ::RowVector) in Base.SparseArrays at sparse/linalg.jl:876\n",
       "\\(mat::AbstractArray{T,2} where T, rowvec::RowVector) in Base.LinAlg at linalg/rowvector.jl:234\n",
       "\\(T::SymTridiagonal, B::Union{Union{Base.ReshapedArray{T,1,A,MI} where MI<:Tuple{Vararg{Base.MultiplicativeInverses.SignedMultiplicativeInverse{Int64},N} where N} where A<:DenseArray, DenseArray{T,1}, SubArray{T,1,A,I,L} where L} where I<:Tuple{Vararg{Union{Base.AbstractCartesianIndex, Int64, Range{Int64}},N} where N} where A<:Union{Base.ReshapedArray{T,N,A,MI} where MI<:Tuple{Vararg{Base.MultiplicativeInverses.SignedMultiplicativeInverse{Int64},N} where N} where A<:DenseArray where N where T, DenseArray}, Union{Base.ReshapedArray{T,2,A,MI} where MI<:Tuple{Vararg{Base.MultiplicativeInverses.SignedMultiplicativeInverse{Int64},N} where N} where A<:DenseArray, DenseArray{T,2}, SubArray{T,2,A,I,L} where L} where I<:Tuple{Vararg{Union{Base.AbstractCartesianIndex, Int64, Range{Int64}},N} where N} where A<:Union{Base.ReshapedArray{T,N,A,MI} where MI<:Tuple{Vararg{Base.MultiplicativeInverses.SignedMultiplicativeInverse{Int64},N} where N} where A<:DenseArray where N where T, DenseArray}} where T) in Base.LinAlg at linalg/tridiag.jl:163\n",
       "\\(A::LowerTriangular, B::LowerTriangular) in Base.LinAlg at linalg/triangular.jl:1392\n",
       "\\(A::Base.LinAlg.UnitLowerTriangular, B::LowerTriangular) in Base.LinAlg at linalg/triangular.jl:1400\n",
       "\\(A::UpperTriangular, B::UpperTriangular) in Base.LinAlg at linalg/triangular.jl:1408\n",
       "\\(A::Base.LinAlg.UnitUpperTriangular, B::UpperTriangular) in Base.LinAlg at linalg/triangular.jl:1416\n",
       "\\(A::Base.LinAlg.UnitLowerTriangular{TA,#s267} where #s267<:(Union{Base.ReshapedArray{T,2,A,MI} where MI<:Tuple{Vararg{Base.MultiplicativeInverses.SignedMultiplicativeInverse{Int64},N} where N} where A<:DenseArray, DenseArray{T,2}, SubArray{T,2,A,I,L} where L} where I<:Tuple{Vararg{Union{Base.AbstractCartesianIndex, Int64, Range{Int64}},N} where N} where A<:Union{Base.ReshapedArray{T,N,A,MI} where MI<:Tuple{Vararg{Base.MultiplicativeInverses.SignedMultiplicativeInverse{Int64},N} where N} where A<:DenseArray where N where T, DenseArray} where T), b::SparseVector{Tb,Ti} where Ti<:Integer) where {TA<:Number, Tb<:Number} in Base.SparseArrays at sparse/sparsevector.jl:1764\n",
       "\\(A::Base.LinAlg.UnitLowerTriangular{TA,#s267} where #s267<:(AbstractArray{T,2} where T), b::SparseVector{Tb,Ti} where Ti<:Integer) where {TA<:Number, Tb<:Number} in Base.SparseArrays at sparse/sparsevector.jl:1755\n",
       "\\(A::Base.LinAlg.UnitLowerTriangular, b::SparseVector) in Base.SparseArrays at sparse/sparsevector.jl:1783\n",
       "\\(A::Base.LinAlg.UnitUpperTriangular{TA,#s267} where #s267<:(Union{Base.ReshapedArray{T,2,A,MI} where MI<:Tuple{Vararg{Base.MultiplicativeInverses.SignedMultiplicativeInverse{Int64},N} where N} where A<:DenseArray, DenseArray{T,2}, SubArray{T,2,A,I,L} where L} where I<:Tuple{Vararg{Union{Base.AbstractCartesianIndex, Int64, Range{Int64}},N} where N} where A<:Union{Base.ReshapedArray{T,N,A,MI} where MI<:Tuple{Vararg{Base.MultiplicativeInverses.SignedMultiplicativeInverse{Int64},N} where N} where A<:DenseArray where N where T, DenseArray} where T), b::SparseVector{Tb,Ti} where Ti<:Integer) where {TA<:Number, Tb<:Number} in Base.SparseArrays at sparse/sparsevector.jl:1764\n",
       "\\(A::Base.LinAlg.UnitUpperTriangular{TA,#s267} where #s267<:(AbstractArray{T,2} where T), b::SparseVector{Tb,Ti} where Ti<:Integer) where {TA<:Number, Tb<:Number} in Base.SparseArrays at sparse/sparsevector.jl:1755\n",
       "\\(A::Base.LinAlg.UnitUpperTriangular, b::SparseVector) in Base.SparseArrays at sparse/sparsevector.jl:1783\n",
       "\\(A::Union{Base.LinAlg.UnitLowerTriangular, Base.LinAlg.UnitUpperTriangular}, B::AbstractArray{T,1} where T) in Base.LinAlg at linalg/triangular.jl:1568\n",
       "\\(A::LowerTriangular{TA,#s267} where #s267<:(Union{Base.ReshapedArray{T,2,A,MI} where MI<:Tuple{Vararg{Base.MultiplicativeInverses.SignedMultiplicativeInverse{Int64},N} where N} where A<:DenseArray, DenseArray{T,2}, SubArray{T,2,A,I,L} where L} where I<:Tuple{Vararg{Union{Base.AbstractCartesianIndex, Int64, Range{Int64}},N} where N} where A<:Union{Base.ReshapedArray{T,N,A,MI} where MI<:Tuple{Vararg{Base.MultiplicativeInverses.SignedMultiplicativeInverse{Int64},N} where N} where A<:DenseArray where N where T, DenseArray} where T), b::SparseVector{Tb,Ti} where Ti<:Integer) where {TA<:Number, Tb<:Number} in Base.SparseArrays at sparse/sparsevector.jl:1764\n",
       "\\(A::LowerTriangular{TA,#s267} where #s267<:(AbstractArray{T,2} where T), b::SparseVector{Tb,Ti} where Ti<:Integer) where {TA<:Number, Tb<:Number} in Base.SparseArrays at sparse/sparsevector.jl:1755\n",
       "\\(A::LowerTriangular, b::SparseVector) in Base.SparseArrays at sparse/sparsevector.jl:1783\n",
       "\\(A::UpperTriangular{TA,#s267} where #s267<:(Union{Base.ReshapedArray{T,2,A,MI} where MI<:Tuple{Vararg{Base.MultiplicativeInverses.SignedMultiplicativeInverse{Int64},N} where N} where A<:DenseArray, DenseArray{T,2}, SubArray{T,2,A,I,L} where L} where I<:Tuple{Vararg{Union{Base.AbstractCartesianIndex, Int64, Range{Int64}},N} where N} where A<:Union{Base.ReshapedArray{T,N,A,MI} where MI<:Tuple{Vararg{Base.MultiplicativeInverses.SignedMultiplicativeInverse{Int64},N} where N} where A<:DenseArray where N where T, DenseArray} where T), b::SparseVector{Tb,Ti} where Ti<:Integer) where {TA<:Number, Tb<:Number} in Base.SparseArrays at sparse/sparsevector.jl:1764\n",
       "\\(A::UpperTriangular{TA,#s267} where #s267<:(AbstractArray{T,2} where T), b::SparseVector{Tb,Ti} where Ti<:Integer) where {TA<:Number, Tb<:Number} in Base.SparseArrays at sparse/sparsevector.jl:1755\n",
       "\\(A::UpperTriangular, b::SparseVector) in Base.SparseArrays at sparse/sparsevector.jl:1783\n",
       "\\(L::LowerTriangular{T,#s267} where #s267<:(SparseMatrixCSC{T,Ti} where Ti<:Integer), B::SparseMatrixCSC) where T in Base.SparseArrays at sparse/linalg.jl:290\n",
       "\\(U::UpperTriangular{T,#s267} where #s267<:(SparseMatrixCSC{T,Ti} where Ti<:Integer), B::SparseMatrixCSC) where T in Base.SparseArrays at sparse/linalg.jl:291\n",
       "\\(A::Union{LowerTriangular, UpperTriangular}, B::AbstractArray{T,1} where T) in Base.LinAlg at linalg/triangular.jl:1579\n",
       "\\(A::Union{Base.LinAlg.UnitLowerTriangular, Base.LinAlg.UnitUpperTriangular}, B::AbstractArray{T,2} where T) in Base.LinAlg at linalg/triangular.jl:1568\n",
       "\\(A::Union{LowerTriangular, UpperTriangular}, B::AbstractArray{T,2} where T) in Base.LinAlg at linalg/triangular.jl:1579\n",
       "\\(A::Union{Hermitian{Complex{Float64},SparseMatrixCSC{Complex{Float64},Int64}}, Hermitian{Float64,SparseMatrixCSC{Float64,Int64}}, Symmetric{Float64,SparseMatrixCSC{Float64,Int64}}}, B::Union{Union{Base.ReshapedArray{T,1,A,MI} where MI<:Tuple{Vararg{Base.MultiplicativeInverses.SignedMultiplicativeInverse{Int64},N} where N} where A<:DenseArray, DenseArray{T,1}, SubArray{T,1,A,I,L} where L} where I<:Tuple{Vararg{Union{Base.AbstractCartesianIndex, Int64, Range{Int64}},N} where N} where A<:Union{Base.ReshapedArray{T,N,A,MI} where MI<:Tuple{Vararg{Base.MultiplicativeInverses.SignedMultiplicativeInverse{Int64},N} where N} where A<:DenseArray where N where T, DenseArray}, Union{Base.ReshapedArray{T,2,A,MI} where MI<:Tuple{Vararg{Base.MultiplicativeInverses.SignedMultiplicativeInverse{Int64},N} where N} where A<:DenseArray, DenseArray{T,2}, SubArray{T,2,A,I,L} where L} where I<:Tuple{Vararg{Union{Base.AbstractCartesianIndex, Int64, Range{Int64}},N} where N} where A<:Union{Base.ReshapedArray{T,N,A,MI} where MI<:Tuple{Vararg{Base.MultiplicativeInverses.SignedMultiplicativeInverse{Int64},N} where N} where A<:DenseArray where N where T, DenseArray}} where T) in Base.SparseArrays.CHOLMOD at sparse/cholmod.jl:1620\n",
       "\\(A::Union{Hermitian{#s267,#s266}, Symmetric{#s267,#s266}} where #s266<:(Union{Base.ReshapedArray{T,2,A,MI} where MI<:Tuple{Vararg{Base.MultiplicativeInverses.SignedMultiplicativeInverse{Int64},N} where N} where A<:DenseArray, DenseArray{T,2}, SubArray{T,2,A,I,L} where L} where I<:Tuple{Vararg{Union{Base.AbstractCartesianIndex, Int64, Range{Int64}},N} where N} where A<:Union{Base.ReshapedArray{T,N,A,MI} where MI<:Tuple{Vararg{Base.MultiplicativeInverses.SignedMultiplicativeInverse{Int64},N} where N} where A<:DenseArray where N where T, DenseArray} where T) where #s267, B::Union{Union{Base.ReshapedArray{T,1,A,MI} where MI<:Tuple{Vararg{Base.MultiplicativeInverses.SignedMultiplicativeInverse{Int64},N} where N} where A<:DenseArray, DenseArray{T,1}, SubArray{T,1,A,I,L} where L} where I<:Tuple{Vararg{Union{Base.AbstractCartesianIndex, Int64, Range{Int64}},N} where N} where A<:Union{Base.ReshapedArray{T,N,A,MI} where MI<:Tuple{Vararg{Base.MultiplicativeInverses.SignedMultiplicativeInverse{Int64},N} where N} where A<:DenseArray where N where T, DenseArray}, Union{Base.ReshapedArray{T,2,A,MI} where MI<:Tuple{Vararg{Base.MultiplicativeInverses.SignedMultiplicativeInverse{Int64},N} where N} where A<:DenseArray, DenseArray{T,2}, SubArray{T,2,A,I,L} where L} where I<:Tuple{Vararg{Union{Base.AbstractCartesianIndex, Int64, Range{Int64}},N} where N} where A<:Union{Base.ReshapedArray{T,N,A,MI} where MI<:Tuple{Vararg{Base.MultiplicativeInverses.SignedMultiplicativeInverse{Int64},N} where N} where A<:DenseArray where N where T, DenseArray}} where T) in Base.LinAlg at linalg/symmetric.jl:284\n",
       "\\(Da::Diagonal, Db::Diagonal) in Base.LinAlg at linalg/diagonal.jl:319\n",
       "\\(D::Diagonal, A::AbstractArray{T,2} where T) in Base.LinAlg at linalg/diagonal.jl:317\n",
       "\\(D::Diagonal, b::AbstractArray{T,1} where T) in Base.LinAlg at linalg/diagonal.jl:318\n",
       "\\(A::Bidiagonal{TA}, B::Union{AbstractArray{TB,1}, AbstractArray{TB,2}}) where {TA<:Number, TB<:Number} in Base.LinAlg at linalg/bidiag.jl:566\n",
       "\\(A::Bidiagonal, B::Union{AbstractArray{T,1}, AbstractArray{T,2}} where T) in Base.LinAlg at linalg/bidiag.jl:569\n",
       "\\(A::SparseMatrixCSC, B::Union{AbstractArray{T,1}, AbstractArray{T,2}} where T) in Base.SparseArrays at sparse/linalg.jl:857\n",
       "\\(L::Base.SparseArrays.CHOLMOD.FactorComponent{T,:L}, B::Base.SparseArrays.CHOLMOD.Dense) where T in Base.SparseArrays.CHOLMOD at sparse/cholmod.jl:1550\n",
       "\\(L::Base.SparseArrays.CHOLMOD.FactorComponent{T,:U}, B::Base.SparseArrays.CHOLMOD.Dense) where T in Base.SparseArrays.CHOLMOD at sparse/cholmod.jl:1553\n",
       "\\(L::Base.SparseArrays.CHOLMOD.FactorComponent{T,:PtL}, B::Base.SparseArrays.CHOLMOD.Dense) where T in Base.SparseArrays.CHOLMOD at sparse/cholmod.jl:1557\n",
       "\\(L::Base.SparseArrays.CHOLMOD.FactorComponent{T,:UP}, B::Base.SparseArrays.CHOLMOD.Dense) where T in Base.SparseArrays.CHOLMOD at sparse/cholmod.jl:1561\n",
       "\\(L::Base.SparseArrays.CHOLMOD.FactorComponent{T,:D}, B::Base.SparseArrays.CHOLMOD.Dense) where T in Base.SparseArrays.CHOLMOD at sparse/cholmod.jl:1566\n",
       "\\(L::Base.SparseArrays.CHOLMOD.FactorComponent{T,:LD}, B::Base.SparseArrays.CHOLMOD.Dense) where T in Base.SparseArrays.CHOLMOD at sparse/cholmod.jl:1569\n",
       "\\(L::Base.SparseArrays.CHOLMOD.FactorComponent{T,:DU}, B::Base.SparseArrays.CHOLMOD.Dense) where T in Base.SparseArrays.CHOLMOD at sparse/cholmod.jl:1572\n",
       "\\(L::Base.SparseArrays.CHOLMOD.FactorComponent{T,:PtLD}, B::Base.SparseArrays.CHOLMOD.Dense) where T in Base.SparseArrays.CHOLMOD at sparse/cholmod.jl:1575\n",
       "\\(L::Base.SparseArrays.CHOLMOD.FactorComponent{T,:DUP}, B::Base.SparseArrays.CHOLMOD.Dense) where T in Base.SparseArrays.CHOLMOD at sparse/cholmod.jl:1579\n",
       "\\(L::Base.SparseArrays.CHOLMOD.FactorComponent{T,:L}, B::Base.SparseArrays.CHOLMOD.Sparse) where T in Base.SparseArrays.CHOLMOD at sparse/cholmod.jl:1550\n",
       "\\(L::Base.SparseArrays.CHOLMOD.FactorComponent{T,:U}, B::Base.SparseArrays.CHOLMOD.Sparse) where T in Base.SparseArrays.CHOLMOD at sparse/cholmod.jl:1553\n",
       "\\(L::Base.SparseArrays.CHOLMOD.FactorComponent{T,:PtL}, B::Base.SparseArrays.CHOLMOD.Sparse) where T in Base.SparseArrays.CHOLMOD at sparse/cholmod.jl:1557\n",
       "\\(L::Base.SparseArrays.CHOLMOD.FactorComponent{T,:UP}, B::Base.SparseArrays.CHOLMOD.Sparse) where T in Base.SparseArrays.CHOLMOD at sparse/cholmod.jl:1561\n",
       "\\(L::Base.SparseArrays.CHOLMOD.FactorComponent{T,:D}, B::Base.SparseArrays.CHOLMOD.Sparse) where T in Base.SparseArrays.CHOLMOD at sparse/cholmod.jl:1566\n",
       "\\(L::Base.SparseArrays.CHOLMOD.FactorComponent{T,:LD}, B::Base.SparseArrays.CHOLMOD.Sparse) where T in Base.SparseArrays.CHOLMOD at sparse/cholmod.jl:1569\n",
       "\\(L::Base.SparseArrays.CHOLMOD.FactorComponent{T,:DU}, B::Base.SparseArrays.CHOLMOD.Sparse) where T in Base.SparseArrays.CHOLMOD at sparse/cholmod.jl:1572\n",
       "\\(L::Base.SparseArrays.CHOLMOD.FactorComponent{T,:PtLD}, B::Base.SparseArrays.CHOLMOD.Sparse) where T in Base.SparseArrays.CHOLMOD at sparse/cholmod.jl:1575\n",
       "\\(L::Base.SparseArrays.CHOLMOD.FactorComponent{T,:DUP}, B::Base.SparseArrays.CHOLMOD.Sparse) where T in Base.SparseArrays.CHOLMOD at sparse/cholmod.jl:1579\n",
       "\\(L::Base.SparseArrays.CHOLMOD.FactorComponent, b::Array{T,1} where T) in Base.SparseArrays.CHOLMOD at sparse/cholmod.jl:1588\n",
       "\\(L::Base.SparseArrays.CHOLMOD.FactorComponent, B::Array{T,2} where T) in Base.SparseArrays.CHOLMOD at sparse/cholmod.jl:1591\n",
       "\\(L::Base.SparseArrays.CHOLMOD.FactorComponent, B::Union{SparseMatrixCSC{Tv,Ti}, SparseVector{Tv,Ti}} where Ti where Tv) in Base.SparseArrays.CHOLMOD at sparse/cholmod.jl:1594\n",
       "\\(A::AbstractArray{T,2} where T, B::Union{AbstractArray{T,1}, AbstractArray{T,2}} where T) in Base.LinAlg at linalg/generic.jl:805\n",
       "\\(a::AbstractArray{T,1} where T, b::AbstractArray) in Base.LinAlg at linalg/generic.jl:822\n",
       "\\(A::Union{Base.LinAlg.QRCompactWY{T,M} where M<:(AbstractArray{T,2} where T), Base.LinAlg.QRPivoted{T,S} where S<:(AbstractArray{T,2} where T), Base.LinAlg.QR{T,S} where S<:(AbstractArray{T,2} where T)}, BIn::Union{Array{Complex{T},1}, Array{Complex{T},2}}) where T<:Union{Float32, Float64} in Base.LinAlg at linalg/qr.jl:828\n",
       "\\(F::Base.LinAlg.LQ{T,S} where S<:(AbstractArray{T,2} where T), B::Union{Array{Complex{T},1}, Array{Complex{T},2}}) where T<:Union{Float32, Float64} in Base.LinAlg at linalg/lq.jl:226\n",
       "\\(L::Base.SparseArrays.CHOLMOD.Factor{T}, B::Array{Complex{T},1}) where T<:Float64 in Base.SparseArrays.CHOLMOD at sparse/cholmod.jl:1603\n",
       "\\(L::Base.SparseArrays.CHOLMOD.Factor{T}, B::Array{Complex{T},2}) where T<:Float64 in Base.SparseArrays.CHOLMOD at sparse/cholmod.jl:1604\n",
       "\\(F::Factorization{T}, B::Union{Array{Complex{T},1}, Array{Complex{T},2}}) where T<:Union{Float32, Float64} in Base.LinAlg at linalg/factorization.jl:36\n",
       "\\(A::Union{Base.LinAlg.QRCompactWY{TA,M} where M<:(AbstractArray{T,2} where T), Base.LinAlg.QRPivoted{TA,S} where S<:(AbstractArray{T,2} where T), Base.LinAlg.QR{TA,S} where S<:(AbstractArray{T,2} where T)}, B::Union{AbstractArray{TB,1}, AbstractArray{TB,2}}) where {TA, TB} in Base.LinAlg at linalg/qr.jl:809\n",
       "\\(A::Base.LinAlg.LQ{TA,S} where S<:(AbstractArray{T,2} where T), b::Union{Base.ReshapedArray{Tb,1,A,MI} where MI<:Tuple{Vararg{Base.MultiplicativeInverses.SignedMultiplicativeInverse{Int64},N} where N} where A<:DenseArray, DenseArray{Tb,1}, SubArray{Tb,1,A,I,L} where L} where I<:Tuple{Vararg{Union{Base.AbstractCartesianIndex, Int64, Range{Int64}},N} where N} where A<:Union{Base.ReshapedArray{T,N,A,MI} where MI<:Tuple{Vararg{Base.MultiplicativeInverses.SignedMultiplicativeInverse{Int64},N} where N} where A<:DenseArray where N where T, DenseArray}) where {TA, Tb} in Base.LinAlg at linalg/lq.jl:208\n",
       "\\(A::Base.LinAlg.LQ{TA,S} where S<:(AbstractArray{T,2} where T), B::Union{Base.ReshapedArray{TB,2,A,MI} where MI<:Tuple{Vararg{Base.MultiplicativeInverses.SignedMultiplicativeInverse{Int64},N} where N} where A<:DenseArray, DenseArray{TB,2}, SubArray{TB,2,A,I,L} where L} where I<:Tuple{Vararg{Union{Base.AbstractCartesianIndex, Int64, Range{Int64}},N} where N} where A<:Union{Base.ReshapedArray{T,N,A,MI} where MI<:Tuple{Vararg{Base.MultiplicativeInverses.SignedMultiplicativeInverse{Int64},N} where N} where A<:DenseArray where N where T, DenseArray}) where {TA, TB} in Base.LinAlg at linalg/lq.jl:216\n",
       "\\(L::Base.SparseArrays.CHOLMOD.Factor{T}, B::Base.SparseArrays.CHOLMOD.Dense{T}) where T<:Union{Complex{Float64}, Float64} in Base.SparseArrays.CHOLMOD at sparse/cholmod.jl:1600\n",
       "\\(L::Base.SparseArrays.CHOLMOD.Factor{T}, b::Union{Base.ReshapedArray{T,1,A,MI} where MI<:Tuple{Vararg{Base.MultiplicativeInverses.SignedMultiplicativeInverse{Int64},N} where N} where A<:DenseArray, DenseArray{T,1}, SubArray{T,1,A,I,L} where L} where I<:Tuple{Vararg{Union{Base.AbstractCartesianIndex, Int64, Range{Int64}},N} where N} where A<:Union{Base.ReshapedArray{T,N,A,MI} where MI<:Tuple{Vararg{Base.MultiplicativeInverses.SignedMultiplicativeInverse{Int64},N} where N} where A<:DenseArray where N where T, DenseArray} where T) where T<:Union{Complex{Float64}, Float64} in Base.SparseArrays.CHOLMOD at sparse/cholmod.jl:1605\n",
       "\\(L::Base.SparseArrays.CHOLMOD.Factor{T}, B::Union{Base.ReshapedArray{T,2,A,MI} where MI<:Tuple{Vararg{Base.MultiplicativeInverses.SignedMultiplicativeInverse{Int64},N} where N} where A<:DenseArray, DenseArray{T,2}, SubArray{T,2,A,I,L} where L} where I<:Tuple{Vararg{Union{Base.AbstractCartesianIndex, Int64, Range{Int64}},N} where N} where A<:Union{Base.ReshapedArray{T,N,A,MI} where MI<:Tuple{Vararg{Base.MultiplicativeInverses.SignedMultiplicativeInverse{Int64},N} where N} where A<:DenseArray where N where T, DenseArray} where T) where T<:Union{Complex{Float64}, Float64} in Base.SparseArrays.CHOLMOD at sparse/cholmod.jl:1606\n",
       "\\(L::Base.SparseArrays.CHOLMOD.Factor, B::Base.SparseArrays.CHOLMOD.Sparse) in Base.SparseArrays.CHOLMOD at sparse/cholmod.jl:1607\n",
       "\\(L::Base.SparseArrays.CHOLMOD.Factor, B::Union{SparseMatrixCSC{Tv,Ti}, SparseVector{Tv,Ti}} where Ti where Tv) in Base.SparseArrays.CHOLMOD at sparse/cholmod.jl:1609\n",
       "\\(F::Base.SparseArrays.SPQR.Factorization{T}, B::Union{Union{Base.ReshapedArray{T,1,A,MI} where MI<:Tuple{Vararg{Base.MultiplicativeInverses.SignedMultiplicativeInverse{Int64},N} where N} where A<:DenseArray, DenseArray{T,1}, SubArray{T,1,A,I,L} where L} where I<:Tuple{Vararg{Union{Base.AbstractCartesianIndex, Int64, Range{Int64}},N} where N} where A<:Union{Base.ReshapedArray{T,N,A,MI} where MI<:Tuple{Vararg{Base.MultiplicativeInverses.SignedMultiplicativeInverse{Int64},N} where N} where A<:DenseArray where N where T, DenseArray}, Union{Base.ReshapedArray{T,2,A,MI} where MI<:Tuple{Vararg{Base.MultiplicativeInverses.SignedMultiplicativeInverse{Int64},N} where N} where A<:DenseArray, DenseArray{T,2}, SubArray{T,2,A,I,L} where L} where I<:Tuple{Vararg{Union{Base.AbstractCartesianIndex, Int64, Range{Int64}},N} where N} where A<:Union{Base.ReshapedArray{T,N,A,MI} where MI<:Tuple{Vararg{Base.MultiplicativeInverses.SignedMultiplicativeInverse{Int64},N} where N} where A<:DenseArray where N where T, DenseArray}}) where T<:Union{Complex{Float64}, Float64} in Base.SparseArrays.SPQR at sparse/spqr.jl:178\n",
       "\\(F::Base.SparseArrays.SPQR.Factorization, B::Union{Union{Base.ReshapedArray{T,1,A,MI} where MI<:Tuple{Vararg{Base.MultiplicativeInverses.SignedMultiplicativeInverse{Int64},N} where N} where A<:DenseArray, DenseArray{T,1}, SubArray{T,1,A,I,L} where L} where I<:Tuple{Vararg{Union{Base.AbstractCartesianIndex, Int64, Range{Int64}},N} where N} where A<:Union{Base.ReshapedArray{T,N,A,MI} where MI<:Tuple{Vararg{Base.MultiplicativeInverses.SignedMultiplicativeInverse{Int64},N} where N} where A<:DenseArray where N where T, DenseArray}, Union{Base.ReshapedArray{T,2,A,MI} where MI<:Tuple{Vararg{Base.MultiplicativeInverses.SignedMultiplicativeInverse{Int64},N} where N} where A<:DenseArray, DenseArray{T,2}, SubArray{T,2,A,I,L} where L} where I<:Tuple{Vararg{Union{Base.AbstractCartesianIndex, Int64, Range{Int64}},N} where N} where A<:Union{Base.ReshapedArray{T,N,A,MI} where MI<:Tuple{Vararg{Base.MultiplicativeInverses.SignedMultiplicativeInverse{Int64},N} where N} where A<:DenseArray where N where T, DenseArray}} where T) in Base.SparseArrays.SPQR at sparse/spqr.jl:182\n",
       "\\(F::Factorization, B::Union{AbstractArray{T,1}, AbstractArray{T,2}} where T) in Base.LinAlg at linalg/factorization.jl:45\n",
       "\\(J1::UniformScaling, J2::UniformScaling) in Base.LinAlg at linalg/uniformscaling.jl:162\n",
       "\\(A::Union{Base.LinAlg.AbstractTriangular{T,S} where S<:(AbstractArray{T,2} where T), Bidiagonal{T}}, J::UniformScaling) where T<:Number in Base.LinAlg at linalg/uniformscaling.jl:163\n",
       "\\(J::UniformScaling, A::Union{AbstractArray{T,1}, AbstractArray{T,2}} where T) in Base.LinAlg at linalg/uniformscaling.jl:164\n",
       "\\(A::AbstractArray{T,2} where T, J::UniformScaling) in Base.LinAlg at linalg/uniformscaling.jl:165\n",
       "\\(x::Number, J::UniformScaling) in Base.LinAlg at linalg/uniformscaling.jl:167\n",
       "\\(p::Base.DFT.Plan, x::AbstractArray) in Base.DFT at dft.jl:233\n",
       "\\(x, y) in Base at operators.jl:457"
      ]
     },
     "execution_count": 15,
     "metadata": {},
     "output_type": "execute_result"
    }
   ],
   "source": [
    "methods(\\)"
   ]
  },
  {
   "cell_type": "markdown",
   "metadata": {},
   "source": [
    " Type inference and multiple dispatch allow the just-in-time compiler to translate complex chains of type-stable Julia code into efficient machine code."
   ]
  },
  {
   "cell_type": "markdown",
   "metadata": {},
   "source": [
    "## Iterated logistic map in Julia, C++, and Matlab\n",
    "\n",
    "Define $f(x) = 4x(1-x)$, generate millionth iterate function $f^N(x)$"
   ]
  },
  {
   "cell_type": "code",
   "execution_count": 1,
   "metadata": {
    "collapsed": false
   },
   "outputs": [
    {
     "data": {
      "text/plain": [
       "(::fN) (generic function with 1 method)"
      ]
     },
     "execution_count": 1,
     "metadata": {},
     "output_type": "execute_result"
    }
   ],
   "source": [
    "# define function that, given an f, returns iterated function f^N\n",
    "function iterator(f, N)\n",
    "    \n",
    "    # construct f^N\n",
    "    function fN(x)\n",
    "      for i ∈ 1:N             \n",
    "        x = f(x)\n",
    "      end\n",
    "      x\n",
    "    end    \n",
    "    \n",
    "    fN     # return f^N\n",
    "end\n",
    "\n",
    "# define logistic map function\n",
    "f(x) = 4*x*(1-x)\n",
    "\n",
    "# use iterator function to constuct millionth iterate of logistic map\n",
    "fᴺ = iterator(f, 10^6)  "
   ]
  },
  {
   "cell_type": "code",
   "execution_count": 4,
   "metadata": {
    "collapsed": false
   },
   "outputs": [
    {
     "name": "stdout",
     "output_type": "stream",
     "text": [
      "  0.003977 seconds (5 allocations: 176 bytes)\n",
      "  0.003629 seconds (5 allocations: 176 bytes)\n"
     ]
    },
    {
     "data": {
      "text/plain": [
       "0.10116885334547539"
      ]
     },
     "execution_count": 4,
     "metadata": {},
     "output_type": "execute_result"
    }
   ],
   "source": [
    "@time fᴺ(0.67);\n",
    "@time fᴺ(0.67);"
   ]
  },
  {
   "cell_type": "markdown",
   "metadata": {},
   "source": [
    "### Equivalent C++ code\n",
    "\n",
    "note: starting semicolon tells Julia to execute Unix shell code"
   ]
  },
  {
   "cell_type": "code",
   "execution_count": 16,
   "metadata": {
    "collapsed": false
   },
   "outputs": [
    {
     "name": "stdout",
     "output_type": "stream",
     "text": [
      "/home/gibson/gitworking/whyjulia\n"
     ]
    }
   ],
   "source": [
    "; pwd"
   ]
  },
  {
   "cell_type": "code",
   "execution_count": 18,
   "metadata": {
    "collapsed": false,
    "scrolled": false
   },
   "outputs": [
    {
     "name": "stdout",
     "output_type": "stream",
     "text": [
      "#include <stdlib.h>\n",
      "#include <iostream>\n",
      "#include <iomanip>\n",
      "#include <ctime>\n",
      "\n",
      "using namespace std;\n",
      "\n",
      "double f(double x) {\n",
      "  return 4*x*(1-x);\n",
      "}\n",
      "\n",
      "int main(int argc, char* argv[]) {\n",
      "  double x = argc > 1 ? atof(argv[1]) : 0.0;\n",
      "\n",
      "  double t0 = clock();\n",
      "  for (int n=0; n<1000000; ++n)\n",
      "    x = f(x);\n",
      "  double t1 = clock();\n",
      "\n",
      "  cout << \"t = \" << (t1-t0)/CLOCKS_PER_SEC << \" seconds\" << endl;\n",
      "  cout << setprecision(17);\n",
      "  cout << \"x = \" << x << endl;\n",
      "  \n",
      "  return 0;\n",
      "}\n",
      "  \n"
     ]
    }
   ],
   "source": [
    "; cat fmillion.cpp"
   ]
  },
  {
   "cell_type": "code",
   "execution_count": 19,
   "metadata": {
    "collapsed": true
   },
   "outputs": [],
   "source": [
    "; g++ -O3 -o fmillion fmillion.cpp"
   ]
  },
  {
   "cell_type": "markdown",
   "metadata": {},
   "source": [
    "### Execution time for C++"
   ]
  },
  {
   "cell_type": "code",
   "execution_count": 5,
   "metadata": {
    "collapsed": false,
    "scrolled": true
   },
   "outputs": [
    {
     "name": "stdout",
     "output_type": "stream",
     "text": [
      "t = 0.003234 seconds\n",
      "x = 0.10116885334547539\n"
     ]
    }
   ],
   "source": [
    "; fmillion 0.67"
   ]
  },
  {
   "cell_type": "markdown",
   "metadata": {},
   "source": [
    "### Execution time for Julia"
   ]
  },
  {
   "cell_type": "code",
   "execution_count": 7,
   "metadata": {
    "collapsed": false,
    "scrolled": true
   },
   "outputs": [
    {
     "name": "stdout",
     "output_type": "stream",
     "text": [
      "t=  0.003590 seconds (5 allocations: 176 bytes)\n",
      "x = 0.10116885334547539\n"
     ]
    }
   ],
   "source": [
    "print(\"t=\"); \n",
    "@time x = fᴺ(0.67);\n",
    "@show x;"
   ]
  },
  {
   "cell_type": "markdown",
   "metadata": {},
   "source": [
    "Execution times $t$ are comparable. Sometimes Julia is faster, sometimes C. Millionth iterates $x$ are the same, indicate same sequence of floating-point operations. "
   ]
  },
  {
   "cell_type": "markdown",
   "metadata": {},
   "source": [
    "### Execution time in Matlab\n",
    "\n",
    "```\n",
    ">> tic(); x=fN(0.67); t=toc();\n",
    ">> t,x\n",
    "t = 0.048889000000000\n",
    "x = 0.101168853345475\n",
    "```\n",
    "Same number, but about five to ten times slower than Julia or C++."
   ]
  }
 ],
 "metadata": {
  "kernelspec": {
   "display_name": "Julia 0.6.0",
   "language": "julia",
   "name": "julia-0.6"
  },
  "language_info": {
   "file_extension": ".jl",
   "mimetype": "application/julia",
   "name": "julia",
   "version": "0.6.0"
  }
 },
 "nbformat": 4,
 "nbformat_minor": 2
}

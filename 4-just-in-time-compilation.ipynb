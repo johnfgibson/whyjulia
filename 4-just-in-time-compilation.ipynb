{
 "cells": [
  {
   "cell_type": "markdown",
   "metadata": {},
   "source": [
    "# How does Julia look like Matlab but run like C?\n",
    "\n",
    "  * Just-in-time compilation (JIT)\n",
    "      * user-level code is compiled to machine code on-the-fly\n",
    "      \n",
    "      \n",
    "      \n",
    "  * Meticulous type system designed to maximize impact of JIT\n",
    "      * type inference\n",
    "      * type stability\n",
    "      * multiple dispatch\n",
    "\n"
   ]
  },
  {
   "cell_type": "markdown",
   "metadata": {},
   "source": [
    "## Just-in-time compilation \n",
    "\n",
    "Define a simple function and run it twice"
   ]
  },
  {
   "cell_type": "code",
   "execution_count": 7,
   "metadata": {
    "collapsed": false
   },
   "outputs": [
    {
     "data": {
      "text/plain": [
       "f (generic function with 1 method)"
      ]
     },
     "execution_count": 7,
     "metadata": {},
     "output_type": "execute_result"
    }
   ],
   "source": [
    "f(x) = x^3 - 2"
   ]
  },
  {
   "cell_type": "code",
   "execution_count": 8,
   "metadata": {
    "collapsed": false
   },
   "outputs": [
    {
     "name": "stdout",
     "output_type": "stream",
     "text": [
      "  0.005786 seconds (1.19 k allocations: 74.612 KiB)\n",
      "  0.000002 seconds (5 allocations: 176 bytes)\n"
     ]
    }
   ],
   "source": [
    "@time f(0.3);\n",
    "@time f(0.3);"
   ]
  },
  {
   "cell_type": "markdown",
   "metadata": {},
   "source": [
    "The second evaluation is thousands of times faster than the first! Why? \n",
    "\n",
    "The first run includes a compilation of user code to machine code.\n",
    "\n",
    "The second run just executes the machine code. \n",
    "\n",
    "### Compilation to machine code, in stages"
   ]
  },
  {
   "cell_type": "code",
   "execution_count": 5,
   "metadata": {
    "collapsed": false
   },
   "outputs": [
    {
     "data": {
      "text/plain": [
       "CodeInfo(:(begin \n",
       "        nothing\n",
       "        return (Base.literal_pow)(Main.^, x, (Core.apply_type)(Base.Val, 3)) - 2\n",
       "    end))"
      ]
     },
     "execution_count": 5,
     "metadata": {},
     "output_type": "execute_result"
    }
   ],
   "source": [
    "@code_lowered f(7.0)   # show f(x) in Julia's abstract syntax tree"
   ]
  },
  {
   "cell_type": "code",
   "execution_count": 6,
   "metadata": {
    "collapsed": false
   },
   "outputs": [
    {
     "data": {
      "text/plain": [
       "CodeInfo(:(begin \n",
       "        return (Base.sub_float)((Base.mul_float)((Base.mul_float)(x, x)::Float64, x)::Float64, (Base.sitofp)(Float64, 2)::Float64)::Float64\n",
       "    end))=>Float64"
      ]
     },
     "execution_count": 6,
     "metadata": {},
     "output_type": "execute_result"
    }
   ],
   "source": [
    "@code_typed f(7.0)     # show f(x) in abstract syntax tree with types determined "
   ]
  },
  {
   "cell_type": "code",
   "execution_count": 7,
   "metadata": {
    "collapsed": false
   },
   "outputs": [
    {
     "name": "stdout",
     "output_type": "stream",
     "text": [
      "\n",
      "define double @julia_f_60969(double) #0 !dbg !5 {\n",
      "top:\n",
      "  %1 = fmul double %0, %0\n",
      "  %2 = fmul double %1, %0\n",
      "  %3 = fadd double %2, -2.000000e+00\n",
      "  ret double %3\n",
      "}\n"
     ]
    }
   ],
   "source": [
    "@code_llvm f(7.0)       # show f(x) in LLVM (compiler) intermediate language"
   ]
  },
  {
   "cell_type": "code",
   "execution_count": 8,
   "metadata": {
    "collapsed": false
   },
   "outputs": [
    {
     "name": "stdout",
     "output_type": "stream",
     "text": [
      "\t.text\n",
      "Filename: In[1]\n",
      "\tpushq\t%rbp\n",
      "\tmovq\t%rsp, %rbp\n",
      "Source line: 1\n",
      "\tmovapd\t%xmm0, %xmm1\n",
      "\tmulsd\t%xmm1, %xmm1\n",
      "\tmulsd\t%xmm0, %xmm1\n",
      "\tmovabsq\t$140452003107272, %rax  # imm = 0x7FBD87C0D1C8\n",
      "\taddsd\t(%rax), %xmm1\n",
      "\tmovapd\t%xmm1, %xmm0\n",
      "\tpopq\t%rbp\n",
      "\tretq\n",
      "\tnopw\t%cs:(%rax,%rax)\n"
     ]
    }
   ],
   "source": [
    "@code_native f(7.0)     # show f(x) in Intel IA-64 assembly language"
   ]
  },
  {
   "cell_type": "markdown",
   "metadata": {},
   "source": [
    "## Type inference\n",
    "\n",
    "Julia figures out the types of untyped variables --crucial for compiling to machine code!"
   ]
  },
  {
   "cell_type": "code",
   "execution_count": 9,
   "metadata": {
    "collapsed": false
   },
   "outputs": [
    {
     "name": "stdout",
     "output_type": "stream",
     "text": [
      "\n",
      "define double @julia_f_60969(double) #0 !dbg !5 {\n",
      "top:\n",
      "  %1 = fmul double %0, %0\n",
      "  %2 = fmul double %1, %0\n",
      "  %3 = fadd double %2, -2.000000e+00\n",
      "  ret double %3\n",
      "}\n"
     ]
    }
   ],
   "source": [
    "@code_llvm f(7.0)   # f applied to a Float64 (C's \"double\" type)"
   ]
  },
  {
   "cell_type": "code",
   "execution_count": 9,
   "metadata": {
    "collapsed": false
   },
   "outputs": [
    {
     "name": "stdout",
     "output_type": "stream",
     "text": [
      "\n",
      "define float @julia_f_61165(float) #0 !dbg !5 {\n",
      "top:\n",
      "  %1 = fmul float %0, %0\n",
      "  %2 = fmul float %1, %0\n",
      "  %3 = fadd float %2, -2.000000e+00\n",
      "  ret float %3\n",
      "}\n"
     ]
    }
   ],
   "source": [
    "@code_llvm f(7f0)   # f applied to a Float32  (C's \"float\" type)"
   ]
  },
  {
   "cell_type": "code",
   "execution_count": 10,
   "metadata": {
    "collapsed": false
   },
   "outputs": [
    {
     "name": "stdout",
     "output_type": "stream",
     "text": [
      "\n",
      "define i64 @julia_f_61125(i64) #0 !dbg !5 {\n",
      "top:\n",
      "  %1 = mul i64 %0, %0\n",
      "  %2 = mul i64 %1, %0\n",
      "  %3 = add i64 %2, -2\n",
      "  ret i64 %3\n",
      "}\n"
     ]
    }
   ],
   "source": [
    "@code_llvm f(7)     # f applied to an Int64   (C's \"int\" type)"
   ]
  },
  {
   "cell_type": "code",
   "execution_count": 5,
   "metadata": {
    "collapsed": false
   },
   "outputs": [
    {
     "name": "stdout",
     "output_type": "stream",
     "text": [
      "\n",
      "define void @julia_f_61027(%Rational* noalias nocapture sret, %Rational* nocapture readonly dereferenceable(16)) #0 !dbg !5 {\n",
      "top:\n",
      "  %2 = alloca %Rational, align 8\n",
      "  %3 = alloca %Rational, align 8\n",
      "  %4 = alloca %Rational, align 8\n",
      "  %5 = alloca %Rational, align 8\n",
      "  %6 = alloca %Rational, align 8\n",
      "  call void @\"julia_*_61025\"(%Rational* noalias nocapture nonnull sret %3, %Rational* nocapture nonnull readonly %1, %Rational* nocapture nonnull readonly %1)\n",
      "  call void @\"julia_*_61025\"(%Rational* noalias nocapture nonnull sret %2, %Rational* nocapture nonnull readonly %3, %Rational* nocapture nonnull readonly %1)\n",
      "  %7 = getelementptr inbounds %Rational, %Rational* %2, i64 0, i32 0\n",
      "  %8 = load i64, i64* %7, align 8\n",
      "  %9 = getelementptr inbounds %Rational, %Rational* %2, i64 0, i32 1\n",
      "  %10 = load i64, i64* %9, align 8\n",
      "  call void @julia_Type_61013(%Rational* noalias nocapture nonnull sret %5, i8** inttoptr (i64 140039431844048 to i8**), i64 %8, i64 %10)\n",
      "  call void @julia_Type_61013(%Rational* noalias nocapture nonnull sret %6, i8** inttoptr (i64 140039431844048 to i8**), i64 2, i64 1)\n",
      "  call void @julia_-_61026(%Rational* noalias nocapture nonnull sret %4, %Rational* nocapture nonnull readonly %5, %Rational* nocapture nonnull readonly %6)\n",
      "  %11 = bitcast %Rational* %4 to i8*\n",
      "  %12 = bitcast %Rational* %0 to i8*\n",
      "  call void @llvm.memcpy.p0i8.p0i8.i32(i8* %12, i8* %11, i32 16, i32 8, i1 false)\n",
      "  ret void\n",
      "}\n"
     ]
    }
   ],
   "source": [
    "@code_llvm f(7//1) # f applied to a Rational, much more complex"
   ]
  },
  {
   "cell_type": "markdown",
   "metadata": {},
   "source": [
    "## Type stability"
   ]
  },
  {
   "cell_type": "markdown",
   "metadata": {},
   "source": [
    "Just-in-time compilation produces most efficient machine code when types of temporaries and return values can be determined at compile-time. \n",
    "\n",
    "In Julia, `sqrt` is real-to-real, and `sqrt(-1)` is an error! Matlab avoids this problem by \n",
    "making all numbers complex, and thus doubling the cost and size of all real-valued mathematics --in Matlab, a real-valued scalar is a 1 x 1 complex matrix!"
   ]
  },
  {
   "cell_type": "code",
   "execution_count": 13,
   "metadata": {
    "collapsed": false
   },
   "outputs": [
    {
     "data": {
      "text/plain": [
       "1.0"
      ]
     },
     "execution_count": 13,
     "metadata": {},
     "output_type": "execute_result"
    }
   ],
   "source": [
    "sqrt(1.0)      "
   ]
  },
  {
   "cell_type": "code",
   "execution_count": 14,
   "metadata": {
    "collapsed": false
   },
   "outputs": [
    {
     "ename": "LoadError",
     "evalue": "DomainError:\nsqrt will only return a complex result if called with a complex argument. Try sqrt(complex(x)).",
     "output_type": "error",
     "traceback": [
      "DomainError:\nsqrt will only return a complex result if called with a complex argument. Try sqrt(complex(x)).",
      "",
      "Stacktrace:",
      " [1] \u001b[1msqrt\u001b[22m\u001b[22m\u001b[1m(\u001b[22m\u001b[22m::Float64\u001b[1m)\u001b[22m\u001b[22m at \u001b[1m./math.jl:425\u001b[22m\u001b[22m",
      " [2] \u001b[1minclude_string\u001b[22m\u001b[22m\u001b[1m(\u001b[22m\u001b[22m::String, ::String\u001b[1m)\u001b[22m\u001b[22m at \u001b[1m./loading.jl:515\u001b[22m\u001b[22m"
     ]
    }
   ],
   "source": [
    "sqrt(-1.0)"
   ]
  },
  {
   "cell_type": "code",
   "execution_count": 27,
   "metadata": {
    "collapsed": false
   },
   "outputs": [
    {
     "data": {
      "text/plain": [
       "0.0 + 1.0im"
      ]
     },
     "execution_count": 27,
     "metadata": {},
     "output_type": "execute_result"
    }
   ],
   "source": [
    "sqrt(-1.0 + 0.0im)   # In Julia, if you want a complex sqrt result, use the complex sqrt function"
   ]
  },
  {
   "cell_type": "markdown",
   "metadata": {},
   "source": [
    "## Multiple dispatch\n",
    "\n",
    "Most functions have multiple versions optimized for their particular input types. Selection is done at compile time\n",
    "if types can be inferred, run time if they can't."
   ]
  },
  {
   "cell_type": "code",
   "execution_count": 1,
   "metadata": {
    "collapsed": false
   },
   "outputs": [
    {
     "data": {
      "text/html": [
       "52 methods for generic function <b>^</b>:<ul><li> ^(x::<b>Bool</b>, y::<b>BigInt</b>) at <a href=\"https://github.com/JuliaLang/julia/tree/903644385b91ed8d95e5e3a5716c089dd1f1b08a/base/gmp.jl#L484\" target=\"_blank\">gmp.jl:484</a></li> <li> ^(x::<b>Bool</b>, y::<b>Bool</b>) at <a href=\"https://github.com/JuliaLang/julia/tree/903644385b91ed8d95e5e3a5716c089dd1f1b08a/base/bool.jl#L92\" target=\"_blank\">bool.jl:92</a></li> <li> ^(a::<b>Float16</b>, b::<b>Float16</b>) at <a href=\"https://github.com/JuliaLang/julia/tree/903644385b91ed8d95e5e3a5716c089dd1f1b08a/base/float.jl#L372\" target=\"_blank\">float.jl:372</a></li> <li> ^(x::<b>Float16</b>, y::<b>Integer</b>) at <a href=\"https://github.com/JuliaLang/julia/tree/903644385b91ed8d95e5e3a5716c089dd1f1b08a/base/math.jl#L703\" target=\"_blank\">math.jl:703</a></li> <li> ^(x::<b>Float64</b>, y::<b>Float64</b>) at <a href=\"https://github.com/JuliaLang/julia/tree/903644385b91ed8d95e5e3a5716c089dd1f1b08a/base/math.jl#L699\" target=\"_blank\">math.jl:699</a></li> <li> ^(x::<b>Float64</b>, y::<b>Integer</b>) at <a href=\"https://github.com/JuliaLang/julia/tree/903644385b91ed8d95e5e3a5716c089dd1f1b08a/base/math.jl#L701\" target=\"_blank\">math.jl:701</a></li> <li> ^(x::<b>Float32</b>, y::<b>Float32</b>) at <a href=\"https://github.com/JuliaLang/julia/tree/903644385b91ed8d95e5e3a5716c089dd1f1b08a/base/math.jl#L700\" target=\"_blank\">math.jl:700</a></li> <li> ^(x::<b>Float32</b>, y::<b>Integer</b>) at <a href=\"https://github.com/JuliaLang/julia/tree/903644385b91ed8d95e5e3a5716c089dd1f1b08a/base/math.jl#L702\" target=\"_blank\">math.jl:702</a></li> <li> ^(x::<b>BigInt</b>, y::<b>Bool</b>) at <a href=\"https://github.com/JuliaLang/julia/tree/903644385b91ed8d95e5e3a5716c089dd1f1b08a/base/gmp.jl#L481\" target=\"_blank\">gmp.jl:481</a></li> <li> ^(x::<b>BigInt</b>, y::<b>BigInt</b>) at <a href=\"https://github.com/JuliaLang/julia/tree/903644385b91ed8d95e5e3a5716c089dd1f1b08a/base/gmp.jl#L480\" target=\"_blank\">gmp.jl:480</a></li> <li> ^(x::<b>BigInt</b>, y::<b>UInt64</b>) at <a href=\"https://github.com/JuliaLang/julia/tree/903644385b91ed8d95e5e3a5716c089dd1f1b08a/base/gmp.jl#L455\" target=\"_blank\">gmp.jl:455</a></li> <li> ^(x::<b>BigInt</b>, y::<b>Integer</b>) at <a href=\"https://github.com/JuliaLang/julia/tree/903644385b91ed8d95e5e3a5716c089dd1f1b08a/base/gmp.jl#L482\" target=\"_blank\">gmp.jl:482</a></li> <li> ^(x::<b>BigFloat</b>, y::<b>BigInt</b>) at <a href=\"https://github.com/JuliaLang/julia/tree/903644385b91ed8d95e5e3a5716c089dd1f1b08a/base/mpfr.jl#L507\" target=\"_blank\">mpfr.jl:507</a></li> <li> ^(x::<b>BigFloat</b>, y::<b>BigFloat</b>) at <a href=\"https://github.com/JuliaLang/julia/tree/903644385b91ed8d95e5e3a5716c089dd1f1b08a/base/mpfr.jl#L489\" target=\"_blank\">mpfr.jl:489</a></li> <li> ^(x::<b>BigFloat</b>, y::<b>Union{UInt16, UInt32, UInt64, UInt8}</b>) at <a href=\"https://github.com/JuliaLang/julia/tree/903644385b91ed8d95e5e3a5716c089dd1f1b08a/base/mpfr.jl#L495\" target=\"_blank\">mpfr.jl:495</a></li> <li> ^(x::<b>BigFloat</b>, y::<b>Union{Int16, Int32, Int64, Int8}</b>) at <a href=\"https://github.com/JuliaLang/julia/tree/903644385b91ed8d95e5e3a5716c089dd1f1b08a/base/mpfr.jl#L501\" target=\"_blank\">mpfr.jl:501</a></li> <li> ^(x::<b>BigFloat</b>, y::<b>Unsigned</b>) at <a href=\"https://github.com/JuliaLang/julia/tree/903644385b91ed8d95e5e3a5716c089dd1f1b08a/base/mpfr.jl#L513\" target=\"_blank\">mpfr.jl:513</a></li> <li> ^(x::<b>BigFloat</b>, y::<b>Integer</b>) at <a href=\"https://github.com/JuliaLang/julia/tree/903644385b91ed8d95e5e3a5716c089dd1f1b08a/base/mpfr.jl#L512\" target=\"_blank\">mpfr.jl:512</a></li> <li> ^(::<b>Irrational{:e}</b>, x::<b>Irrational</b>) at <a href=\"https://github.com/JuliaLang/julia/tree/903644385b91ed8d95e5e3a5716c089dd1f1b08a/base/irrationals.jl#L219\" target=\"_blank\">irrationals.jl:219</a></li> <li> ^(::<b>Irrational{:e}</b>, x::<b>Rational</b>) at <a href=\"https://github.com/JuliaLang/julia/tree/903644385b91ed8d95e5e3a5716c089dd1f1b08a/base/irrationals.jl#L219\" target=\"_blank\">irrationals.jl:219</a></li> <li> ^(::<b>Irrational{:e}</b>, x::<b>Integer</b>) at <a href=\"https://github.com/JuliaLang/julia/tree/903644385b91ed8d95e5e3a5716c089dd1f1b08a/base/irrationals.jl#L219\" target=\"_blank\">irrationals.jl:219</a></li> <li> ^(::<b>Irrational{:e}</b>, x::<b>Number</b>) at <a href=\"https://github.com/JuliaLang/julia/tree/903644385b91ed8d95e5e3a5716c089dd1f1b08a/base/irrationals.jl#L219\" target=\"_blank\">irrationals.jl:219</a></li> <li> ^(x::<b>Integer</b>, y::<b>Bool</b>) at <a href=\"https://github.com/JuliaLang/julia/tree/903644385b91ed8d95e5e3a5716c089dd1f1b08a/base/bool.jl#L93\" target=\"_blank\">bool.jl:93</a></li> <li> ^<i>{T<:AbstractFloat}</i>(z::<b>Complex{T}</b>, p::<b>Complex{T}</b>) at <a href=\"https://github.com/JuliaLang/julia/tree/903644385b91ed8d95e5e3a5716c089dd1f1b08a/base/complex.jl#L571\" target=\"_blank\">complex.jl:571</a></li> <li> ^<i>{T<:Complex}</i>(z::<b>T</b>, p::<b>T</b>) at <a href=\"https://github.com/JuliaLang/julia/tree/903644385b91ed8d95e5e3a5716c089dd1f1b08a/base/complex.jl#L620\" target=\"_blank\">complex.jl:620</a></li> <li> ^(z::<b>Complex{#s45} where #s45<:AbstractFloat</b>, n::<b>Bool</b>) at <a href=\"https://github.com/JuliaLang/julia/tree/903644385b91ed8d95e5e3a5716c089dd1f1b08a/base/complex.jl#L680\" target=\"_blank\">complex.jl:680</a></li> <li> ^(z::<b>Complex{#s45} where #s45<:Integer</b>, n::<b>Bool</b>) at <a href=\"https://github.com/JuliaLang/julia/tree/903644385b91ed8d95e5e3a5716c089dd1f1b08a/base/complex.jl#L681\" target=\"_blank\">complex.jl:681</a></li> <li> ^(z::<b>Complex{#s45} where #s45<:Rational</b>, n::<b>Bool</b>) at <a href=\"https://github.com/JuliaLang/julia/tree/903644385b91ed8d95e5e3a5716c089dd1f1b08a/base/rational.jl#L427\" target=\"_blank\">rational.jl:427</a></li> <li> ^(z::<b>Complex</b>, n::<b>Bool</b>) at <a href=\"https://github.com/JuliaLang/julia/tree/903644385b91ed8d95e5e3a5716c089dd1f1b08a/base/complex.jl#L677\" target=\"_blank\">complex.jl:677</a></li> <li> ^(z::<b>Complex{#s45} where #s45<:AbstractFloat</b>, n::<b>Integer</b>) at <a href=\"https://github.com/JuliaLang/julia/tree/903644385b91ed8d95e5e3a5716c089dd1f1b08a/base/complex.jl#L683\" target=\"_blank\">complex.jl:683</a></li> <li> ^(z::<b>Complex{#s45} where #s45<:Integer</b>, n::<b>Integer</b>) at <a href=\"https://github.com/JuliaLang/julia/tree/903644385b91ed8d95e5e3a5716c089dd1f1b08a/base/complex.jl#L685\" target=\"_blank\">complex.jl:685</a></li> <li> ^(z::<b>Complex{#s45} where #s45<:Rational</b>, n::<b>Integer</b>) at <a href=\"https://github.com/JuliaLang/julia/tree/903644385b91ed8d95e5e3a5716c089dd1f1b08a/base/rational.jl#L429\" target=\"_blank\">rational.jl:429</a></li> <li> ^(z::<b>Complex</b>, n::<b>Integer</b>) at <a href=\"https://github.com/JuliaLang/julia/tree/903644385b91ed8d95e5e3a5716c089dd1f1b08a/base/complex.jl#L678\" target=\"_blank\">complex.jl:678</a></li> <li> ^(x::<b>Rational</b>, n::<b>Integer</b>) at <a href=\"https://github.com/JuliaLang/julia/tree/903644385b91ed8d95e5e3a5716c089dd1f1b08a/base/rational.jl#L420\" target=\"_blank\">rational.jl:420</a></li> <li> ^<i>{T<:AbstractFloat}</i>(x::<b>T</b>, y::<b>Rational</b>) at <a href=\"https://github.com/JuliaLang/julia/tree/903644385b91ed8d95e5e3a5716c089dd1f1b08a/base/rational.jl#L424\" target=\"_blank\">rational.jl:424</a></li> <li> ^<i>{T<:AbstractFloat}</i>(x::<b>Complex{T}</b>, y::<b>Rational</b>) at <a href=\"https://github.com/JuliaLang/julia/tree/903644385b91ed8d95e5e3a5716c089dd1f1b08a/base/rational.jl#L425\" target=\"_blank\">rational.jl:425</a></li> <li> ^(x::<b>Number</b>, y::<b>Rational</b>) at <a href=\"https://github.com/JuliaLang/julia/tree/903644385b91ed8d95e5e3a5716c089dd1f1b08a/base/rational.jl#L423\" target=\"_blank\">rational.jl:423</a></li> <li> ^(x::<b>Integer</b>, y::<b>BigInt</b>) at <a href=\"https://github.com/JuliaLang/julia/tree/903644385b91ed8d95e5e3a5716c089dd1f1b08a/base/gmp.jl#L483\" target=\"_blank\">gmp.jl:483</a></li> <li> ^<i>{T<:Integer}</i>(x::<b>T</b>, p::<b>T</b>) at <a href=\"https://github.com/JuliaLang/julia/tree/903644385b91ed8d95e5e3a5716c089dd1f1b08a/base/intfuncs.jl#L194\" target=\"_blank\">intfuncs.jl:194</a></li> <li> ^(x::<b>Number</b>, p::<b>Integer</b>) at <a href=\"https://github.com/JuliaLang/julia/tree/903644385b91ed8d95e5e3a5716c089dd1f1b08a/base/intfuncs.jl#L195\" target=\"_blank\">intfuncs.jl:195</a></li> <li> ^(x::<b>Irrational</b>, y::<b>Irrational</b>) at <a href=\"https://github.com/JuliaLang/julia/tree/903644385b91ed8d95e5e3a5716c089dd1f1b08a/base/irrationals.jl#L109\" target=\"_blank\">irrationals.jl:109</a></li> <li> ^<i>{T<:Number}</i>(x::<b>T</b>, y::<b>T</b>) at <a href=\"https://github.com/JuliaLang/julia/tree/903644385b91ed8d95e5e3a5716c089dd1f1b08a/base/promotion.jl#L339\" target=\"_blank\">promotion.jl:339</a></li> <li> ^(x::<b>Number</b>, y::<b>Number</b>) at <a href=\"https://github.com/JuliaLang/julia/tree/903644385b91ed8d95e5e3a5716c089dd1f1b08a/base/promotion.jl#L281\" target=\"_blank\">promotion.jl:281</a></li> <li> ^(s::<b>AbstractString</b>, r::<b>Integer</b>) at <a href=\"https://github.com/JuliaLang/julia/tree/903644385b91ed8d95e5e3a5716c089dd1f1b08a/base/strings/types.jl#L154\" target=\"_blank\">strings/types.jl:154</a></li> <li> ^<i>{T<:Real}</i>(A::<b>Symmetric{T,S} where S<:(AbstractArray{T,2} where T)</b>, p::<b>Integer</b>) at <a href=\"https://github.com/JuliaLang/julia/tree/903644385b91ed8d95e5e3a5716c089dd1f1b08a/base/linalg/symmetric.jl#L461\" target=\"_blank\">linalg/symmetric.jl:461</a></li> <li> ^(A::<b>Hermitian</b>, p::<b>Integer</b>) at <a href=\"https://github.com/JuliaLang/julia/tree/903644385b91ed8d95e5e3a5716c089dd1f1b08a/base/linalg/symmetric.jl#L477\" target=\"_blank\">linalg/symmetric.jl:477</a></li> <li> ^<i>{T}</i>(A::<b>AbstractArray{T,2}</b>, p::<b>Integer</b>) at <a href=\"https://github.com/JuliaLang/julia/tree/903644385b91ed8d95e5e3a5716c089dd1f1b08a/base/linalg/dense.jl#L332\" target=\"_blank\">linalg/dense.jl:332</a></li> <li> ^<i>{T<:Real}</i>(A::<b>Symmetric{T,S} where S<:(AbstractArray{T,2} where T)</b>, p::<b>Real</b>) at <a href=\"https://github.com/JuliaLang/julia/tree/903644385b91ed8d95e5e3a5716c089dd1f1b08a/base/linalg/symmetric.jl#L468\" target=\"_blank\">linalg/symmetric.jl:468</a></li> <li> ^<i>{T}</i>(A::<b>Hermitian{T,S} where S<:(AbstractArray{T,2} where T)</b>, p::<b>Real</b>) at <a href=\"https://github.com/JuliaLang/julia/tree/903644385b91ed8d95e5e3a5716c089dd1f1b08a/base/linalg/symmetric.jl#L489\" target=\"_blank\">linalg/symmetric.jl:489</a></li> <li> ^<i>{T}</i>(A::<b>AbstractArray{T,2}</b>, p::<b>Real</b>) at <a href=\"https://github.com/JuliaLang/julia/tree/903644385b91ed8d95e5e3a5716c089dd1f1b08a/base/linalg/dense.jl#L335\" target=\"_blank\">linalg/dense.jl:335</a></li> <li> ^(A::<b>AbstractArray{T,2} where T</b>, p::<b>Number</b>) at <a href=\"https://github.com/JuliaLang/julia/tree/903644385b91ed8d95e5e3a5716c089dd1f1b08a/base/linalg/dense.jl#L391\" target=\"_blank\">linalg/dense.jl:391</a></li> <li> ^(x, p::<b>Integer</b>) at <a href=\"https://github.com/JuliaLang/julia/tree/903644385b91ed8d95e5e3a5716c089dd1f1b08a/base/intfuncs.jl#L196\" target=\"_blank\">intfuncs.jl:196</a></li> </ul>"
      ],
      "text/plain": [
       "# 52 methods for generic function \"^\":\n",
       "^(x::Bool, y::BigInt) in Base.GMP at gmp.jl:484\n",
       "^(x::Bool, y::Bool) in Base at bool.jl:92\n",
       "^(a::Float16, b::Float16) in Base at float.jl:372\n",
       "^(x::Float16, y::Integer) in Base.Math at math.jl:703\n",
       "^(x::Float64, y::Float64) in Base.Math at math.jl:699\n",
       "^(x::Float64, y::Integer) in Base.Math at math.jl:701\n",
       "^(x::Float32, y::Float32) in Base.Math at math.jl:700\n",
       "^(x::Float32, y::Integer) in Base.Math at math.jl:702\n",
       "^(x::BigInt, y::Bool) in Base.GMP at gmp.jl:481\n",
       "^(x::BigInt, y::BigInt) in Base.GMP at gmp.jl:480\n",
       "^(x::BigInt, y::UInt64) in Base.GMP at gmp.jl:455\n",
       "^(x::BigInt, y::Integer) in Base.GMP at gmp.jl:482\n",
       "^(x::BigFloat, y::BigInt) in Base.MPFR at mpfr.jl:507\n",
       "^(x::BigFloat, y::BigFloat) in Base.MPFR at mpfr.jl:489\n",
       "^(x::BigFloat, y::Union{UInt16, UInt32, UInt64, UInt8}) in Base.MPFR at mpfr.jl:495\n",
       "^(x::BigFloat, y::Union{Int16, Int32, Int64, Int8}) in Base.MPFR at mpfr.jl:501\n",
       "^(x::BigFloat, y::Unsigned) in Base.MPFR at mpfr.jl:513\n",
       "^(x::BigFloat, y::Integer) in Base.MPFR at mpfr.jl:512\n",
       "^(::Irrational{:e}, x::Irrational) in Base at irrationals.jl:219\n",
       "^(::Irrational{:e}, x::Rational) in Base at irrationals.jl:219\n",
       "^(::Irrational{:e}, x::Integer) in Base at irrationals.jl:219\n",
       "^(::Irrational{:e}, x::Number) in Base at irrationals.jl:219\n",
       "^(x::Integer, y::Bool) in Base at bool.jl:93\n",
       "^(z::Complex{T}, p::Complex{T}) where T<:AbstractFloat in Base at complex.jl:571\n",
       "^(z::T, p::T) where T<:Complex in Base at complex.jl:620\n",
       "^(z::Complex{#s45} where #s45<:AbstractFloat, n::Bool) in Base at complex.jl:680\n",
       "^(z::Complex{#s45} where #s45<:Integer, n::Bool) in Base at complex.jl:681\n",
       "^(z::Complex{#s45} where #s45<:Rational, n::Bool) in Base at rational.jl:427\n",
       "^(z::Complex, n::Bool) in Base at complex.jl:677\n",
       "^(z::Complex{#s45} where #s45<:AbstractFloat, n::Integer) in Base at complex.jl:683\n",
       "^(z::Complex{#s45} where #s45<:Integer, n::Integer) in Base at complex.jl:685\n",
       "^(z::Complex{#s45} where #s45<:Rational, n::Integer) in Base at rational.jl:429\n",
       "^(z::Complex, n::Integer) in Base at complex.jl:678\n",
       "^(x::Rational, n::Integer) in Base at rational.jl:420\n",
       "^(x::T, y::Rational) where T<:AbstractFloat in Base at rational.jl:424\n",
       "^(x::Complex{T}, y::Rational) where T<:AbstractFloat in Base at rational.jl:425\n",
       "^(x::Number, y::Rational) in Base at rational.jl:423\n",
       "^(x::Integer, y::BigInt) in Base.GMP at gmp.jl:483\n",
       "^(x::T, p::T) where T<:Integer in Base at intfuncs.jl:194\n",
       "^(x::Number, p::Integer) in Base at intfuncs.jl:195\n",
       "^(x::Irrational, y::Irrational) in Base at irrationals.jl:109\n",
       "^(x::T, y::T) where T<:Number in Base at promotion.jl:339\n",
       "^(x::Number, y::Number) in Base at promotion.jl:281\n",
       "^(s::AbstractString, r::Integer) in Base at strings/types.jl:154\n",
       "^(A::Symmetric{T,S} where S<:(AbstractArray{T,2} where T), p::Integer) where T<:Real in Base.LinAlg at linalg/symmetric.jl:461\n",
       "^(A::Hermitian, p::Integer) in Base.LinAlg at linalg/symmetric.jl:477\n",
       "^(A::AbstractArray{T,2}, p::Integer) where T in Base.LinAlg at linalg/dense.jl:332\n",
       "^(A::Symmetric{T,S} where S<:(AbstractArray{T,2} where T), p::Real) where T<:Real in Base.LinAlg at linalg/symmetric.jl:468\n",
       "^(A::Hermitian{T,S} where S<:(AbstractArray{T,2} where T), p::Real) where T in Base.LinAlg at linalg/symmetric.jl:489\n",
       "^(A::AbstractArray{T,2}, p::Real) where T in Base.LinAlg at linalg/dense.jl:335\n",
       "^(A::AbstractArray{T,2} where T, p::Number) in Base.LinAlg at linalg/dense.jl:391\n",
       "^(x, p::Integer) in Base at intfuncs.jl:196"
      ]
     },
     "execution_count": 1,
     "metadata": {},
     "output_type": "execute_result"
    }
   ],
   "source": [
    "methods(^)"
   ]
  },
  {
   "cell_type": "markdown",
   "metadata": {},
   "source": [
    " Type inference and multiple dispatch allow the just-in-time compiler to translate complex chains of type-stable Julia code into efficient machine code."
   ]
  },
  {
   "cell_type": "markdown",
   "metadata": {},
   "source": [
    "## Comparison: iterated logistic map in Julia, C++, and Matlab\n",
    "\n",
    "Define $f(x) = 4x(1-x)$, generate millionth iterate function $f^N(x)$"
   ]
  },
  {
   "cell_type": "code",
   "execution_count": 1,
   "metadata": {
    "collapsed": false
   },
   "outputs": [
    {
     "data": {
      "text/plain": [
       "(::fN) (generic function with 1 method)"
      ]
     },
     "execution_count": 1,
     "metadata": {},
     "output_type": "execute_result"
    }
   ],
   "source": [
    "# define function that, given an f, returns iterated function f^N\n",
    "function iterator(f, N)\n",
    "    \n",
    "    # construct f^N\n",
    "    function fN(x)\n",
    "      for i ∈ 1:N             \n",
    "        x = f(x)\n",
    "      end\n",
    "      x\n",
    "    end    \n",
    "    \n",
    "    fN     # return f^N\n",
    "end\n",
    "\n",
    "# define logistic map function\n",
    "f(x) = 4*x*(1-x)\n",
    "\n",
    "# use iterator function to constuct millionth iterate of logistic map\n",
    "fᴺ  = iterator(f, 10^6)  "
   ]
  },
  {
   "cell_type": "code",
   "execution_count": 4,
   "metadata": {
    "collapsed": false
   },
   "outputs": [
    {
     "name": "stdout",
     "output_type": "stream",
     "text": [
      "  0.003977 seconds (5 allocations: 176 bytes)\n",
      "  0.003629 seconds (5 allocations: 176 bytes)\n"
     ]
    },
    {
     "data": {
      "text/plain": [
       "0.10116885334547539"
      ]
     },
     "execution_count": 4,
     "metadata": {},
     "output_type": "execute_result"
    }
   ],
   "source": [
    "@time fᴺ(0.67)\n",
    "@time fᴺ(0.67)"
   ]
  },
  {
   "cell_type": "markdown",
   "metadata": {},
   "source": [
    "### Equivalent C++ code\n",
    "\n",
    "note: starting semicolon tells Julia to execute Unix shell code"
   ]
  },
  {
   "cell_type": "code",
   "execution_count": 16,
   "metadata": {
    "collapsed": false
   },
   "outputs": [
    {
     "name": "stdout",
     "output_type": "stream",
     "text": [
      "/home/gibson/gitworking/whyjulia\n"
     ]
    }
   ],
   "source": [
    "; pwd"
   ]
  },
  {
   "cell_type": "code",
   "execution_count": 18,
   "metadata": {
    "collapsed": false,
    "scrolled": false
   },
   "outputs": [
    {
     "name": "stdout",
     "output_type": "stream",
     "text": [
      "#include <stdlib.h>\n",
      "#include <iostream>\n",
      "#include <iomanip>\n",
      "#include <ctime>\n",
      "\n",
      "using namespace std;\n",
      "\n",
      "double f(double x) {\n",
      "  return 4*x*(1-x);\n",
      "}\n",
      "\n",
      "int main(int argc, char* argv[]) {\n",
      "  double x = argc > 1 ? atof(argv[1]) : 0.0;\n",
      "\n",
      "  double t0 = clock();\n",
      "  for (int n=0; n<1000000; ++n)\n",
      "    x = f(x);\n",
      "  double t1 = clock();\n",
      "\n",
      "  cout << \"t = \" << (t1-t0)/CLOCKS_PER_SEC << \" seconds\" << endl;\n",
      "  cout << setprecision(17);\n",
      "  cout << \"x = \" << x << endl;\n",
      "  \n",
      "  return 0;\n",
      "}\n",
      "  \n"
     ]
    }
   ],
   "source": [
    "; cat fmillion.cpp"
   ]
  },
  {
   "cell_type": "code",
   "execution_count": 19,
   "metadata": {
    "collapsed": true
   },
   "outputs": [],
   "source": [
    "; g++ -O3 -o fmillion fmillion.cpp"
   ]
  },
  {
   "cell_type": "markdown",
   "metadata": {},
   "source": [
    "### Execution time for C++"
   ]
  },
  {
   "cell_type": "code",
   "execution_count": 5,
   "metadata": {
    "collapsed": false,
    "scrolled": true
   },
   "outputs": [
    {
     "name": "stdout",
     "output_type": "stream",
     "text": [
      "t = 0.003234 seconds\n",
      "x = 0.10116885334547539\n"
     ]
    }
   ],
   "source": [
    "; fmillion 0.67"
   ]
  },
  {
   "cell_type": "markdown",
   "metadata": {},
   "source": [
    "### Execution time for Julia"
   ]
  },
  {
   "cell_type": "code",
   "execution_count": 7,
   "metadata": {
    "collapsed": false,
    "scrolled": true
   },
   "outputs": [
    {
     "name": "stdout",
     "output_type": "stream",
     "text": [
      "t=  0.003590 seconds (5 allocations: 176 bytes)\n",
      "x = 0.10116885334547539\n"
     ]
    }
   ],
   "source": [
    "print(\"t=\"); \n",
    "@time x = fᴺ(0.67);\n",
    "@show x;"
   ]
  },
  {
   "cell_type": "markdown",
   "metadata": {},
   "source": [
    "Execution times $t$ are comparable. Sometimes Julia is faster, sometimes C. Millionth iterates $x$ are the same, indicate same sequence of floating-point operations. "
   ]
  },
  {
   "cell_type": "markdown",
   "metadata": {},
   "source": [
    "### Execution time in Matlab\n",
    "\n",
    "```\n",
    ">> tic(); x=fN(0.67); t=toc();\n",
    ">> t,x\n",
    "t = 0.048889000000000\n",
    "x = 0.101168853345475\n",
    "```\n",
    "Same number, but about five to ten times slower than Julia or C++."
   ]
  }
 ],
 "metadata": {
  "kernelspec": {
   "display_name": "Julia 0.6.0",
   "language": "julia",
   "name": "julia-0.6"
  },
  "language_info": {
   "file_extension": ".jl",
   "mimetype": "application/julia",
   "name": "julia",
   "version": "0.6.0"
  }
 },
 "nbformat": 4,
 "nbformat_minor": 2
}

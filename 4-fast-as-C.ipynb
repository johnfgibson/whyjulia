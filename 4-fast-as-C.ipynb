{
 "cells": [
  {
   "cell_type": "markdown",
   "metadata": {},
   "source": [
    "# Julia is roughly as fast as C or Fortran\n",
    "\n",
    "Julia's core innovation: language design optimized for just-in-time compilation\n",
    "  1. strict type system\n",
    "  2. type inference\n",
    "  3. type stability\n",
    "  4. multiple dispatch\n",
    "  5. just-in-time compilation\n",
    "\n"
   ]
  },
  {
   "cell_type": "markdown",
   "metadata": {},
   "source": [
    "## Just-in-time compilation \n",
    "\n",
    "Define a simple function and run it twice"
   ]
  },
  {
   "cell_type": "code",
   "execution_count": 1,
   "metadata": {},
   "outputs": [
    {
     "data": {
      "text/plain": [
       "f (generic function with 1 method)"
      ]
     },
     "execution_count": 1,
     "metadata": {},
     "output_type": "execute_result"
    }
   ],
   "source": [
    "f(x) = x^3 - 2"
   ]
  },
  {
   "cell_type": "code",
   "execution_count": 2,
   "metadata": {},
   "outputs": [
    {
     "name": "stdout",
     "output_type": "stream",
     "text": [
      "  0.002877 seconds (1.20 k allocations: 74.862 KiB)\n",
      "  0.000001 seconds (4 allocations: 160 bytes)\n"
     ]
    }
   ],
   "source": [
    "@time f(0.3);\n",
    "@time f(0.4);"
   ]
  },
  {
   "cell_type": "code",
   "execution_count": 3,
   "metadata": {},
   "outputs": [
    {
     "name": "stdout",
     "output_type": "stream",
     "text": [
      "  0.000001 seconds (4 allocations: 160 bytes)\n"
     ]
    },
    {
     "data": {
      "text/plain": [
       "-1.973"
      ]
     },
     "execution_count": 3,
     "metadata": {},
     "output_type": "execute_result"
    }
   ],
   "source": [
    "@time f(0.3)"
   ]
  },
  {
   "cell_type": "markdown",
   "metadata": {},
   "source": [
    "** The second evaluation is 3000 times faster than the first! Why? Just-in-time compilation.**"
   ]
  },
  {
   "cell_type": "code",
   "execution_count": 4,
   "metadata": {},
   "outputs": [
    {
     "data": {
      "text/plain": [
       "CodeInfo(:(begin \n",
       "        nothing\n",
       "        return (Base.literal_pow)(Main.^, x, (Core.apply_type)(Base.Val, 3)) - 2\n",
       "    end))"
      ]
     },
     "execution_count": 4,
     "metadata": {},
     "output_type": "execute_result"
    }
   ],
   "source": [
    "@code_lowered(f(7.0))   # show f(x) in Julia's abstract syntax tree"
   ]
  },
  {
   "cell_type": "code",
   "execution_count": 10,
   "metadata": {},
   "outputs": [
    {
     "data": {
      "text/plain": [
       "CodeInfo(:(begin \n",
       "        return (Base.sub_float)((Base.mul_float)((Base.mul_float)(x, x)::Float64, x)::Float64, (Base.sitofp)(Float64, 2)::Float64)::Float64\n",
       "    end))=>Float64"
      ]
     },
     "execution_count": 10,
     "metadata": {},
     "output_type": "execute_result"
    }
   ],
   "source": [
    "@code_typed(f(7.0))     # show f(x) in abstract syntax tree with types determined "
   ]
  },
  {
   "cell_type": "code",
   "execution_count": 5,
   "metadata": {},
   "outputs": [
    {
     "name": "stdout",
     "output_type": "stream",
     "text": [
      "\n",
      "define double @julia_f_60982(double) #0 !dbg !5 {\n",
      "top:\n",
      "  %1 = fmul double %0, %0\n",
      "  %2 = fmul double %1, %0\n",
      "  %3 = fadd double %2, -2.000000e+00\n",
      "  ret double %3\n",
      "}\n"
     ]
    }
   ],
   "source": [
    "@code_llvm f(7.0)       # show f(x) in LLVM (compiler) intermediate language"
   ]
  },
  {
   "cell_type": "code",
   "execution_count": 6,
   "metadata": {},
   "outputs": [
    {
     "name": "stdout",
     "output_type": "stream",
     "text": [
      "\t.text\n",
      "Filename: In[1]\n",
      "\tpushq\t%rbp\n",
      "\tmovq\t%rsp, %rbp\n",
      "Source line: 1\n",
      "\tmovapd\t%xmm0, %xmm1\n",
      "\tmulsd\t%xmm1, %xmm1\n",
      "\tmulsd\t%xmm0, %xmm1\n",
      "\tmovabsq\t$140320096917288, %rax  # imm = 0x7F9ED1881728\n",
      "\taddsd\t(%rax), %xmm1\n",
      "\tmovapd\t%xmm1, %xmm0\n",
      "\tpopq\t%rbp\n",
      "\tretq\n",
      "\tnopw\t%cs:(%rax,%rax)\n"
     ]
    }
   ],
   "source": [
    "@code_native f(7.0)     # show f(x) in Intel IA-64 assembly language"
   ]
  },
  {
   "cell_type": "markdown",
   "metadata": {},
   "source": [
    "## Type inference\n",
    "\n",
    "Julia figures out the types of untyped variables --crucial for compiling to machine code!"
   ]
  },
  {
   "cell_type": "code",
   "execution_count": 7,
   "metadata": {},
   "outputs": [
    {
     "name": "stdout",
     "output_type": "stream",
     "text": [
      "\n",
      "define double @julia_f_60982(double) #0 !dbg !5 {\n",
      "top:\n",
      "  %1 = fmul double %0, %0\n",
      "  %2 = fmul double %1, %0\n",
      "  %3 = fadd double %2, -2.000000e+00\n",
      "  ret double %3\n",
      "}\n"
     ]
    }
   ],
   "source": [
    "@code_llvm(f(7.0))"
   ]
  },
  {
   "cell_type": "code",
   "execution_count": 8,
   "metadata": {},
   "outputs": [
    {
     "name": "stdout",
     "output_type": "stream",
     "text": [
      "\n",
      "define i64 @julia_f_61094(i64) #0 !dbg !5 {\n",
      "top:\n",
      "  %1 = mul i64 %0, %0\n",
      "  %2 = mul i64 %1, %0\n",
      "  %3 = add i64 %2, -2\n",
      "  ret i64 %3\n",
      "}\n"
     ]
    }
   ],
   "source": [
    "@code_llvm(f(7))"
   ]
  },
  {
   "cell_type": "markdown",
   "metadata": {},
   "source": [
    "## Type stability"
   ]
  },
  {
   "cell_type": "markdown",
   "metadata": {},
   "source": [
    "Just-in-time compilation works best if types of temporaries and return values can be determined at compile-time. So Julia prefers to be strict about types."
   ]
  },
  {
   "cell_type": "code",
   "execution_count": 12,
   "metadata": {},
   "outputs": [
    {
     "ename": "LoadError",
     "evalue": "DomainError:\nsqrt will only return a complex result if called with a complex argument. Try sqrt(complex(x)).",
     "output_type": "error",
     "traceback": [
      "DomainError:\nsqrt will only return a complex result if called with a complex argument. Try sqrt(complex(x)).",
      "",
      "Stacktrace:",
      " [1] \u001b[1msqrt\u001b[22m\u001b[22m\u001b[1m(\u001b[22m\u001b[22m::Float64\u001b[1m)\u001b[22m\u001b[22m at \u001b[1m./math.jl:425\u001b[22m\u001b[22m",
      " [2] \u001b[1minclude_string\u001b[22m\u001b[22m\u001b[1m(\u001b[22m\u001b[22m::String, ::String\u001b[1m)\u001b[22m\u001b[22m at \u001b[1m./loading.jl:515\u001b[22m\u001b[22m"
     ]
    }
   ],
   "source": [
    "sqrt(-1.0)           # no problem in Python or Matlab, but a problem in Julia"
   ]
  },
  {
   "cell_type": "code",
   "execution_count": 27,
   "metadata": {},
   "outputs": [
    {
     "data": {
      "text/plain": [
       "0.0 + 1.0im"
      ]
     },
     "execution_count": 27,
     "metadata": {},
     "output_type": "execute_result"
    }
   ],
   "source": [
    "sqrt(-1.0 + 0.0im)   # In Julia, if you want a complex sqrt result, use the complex sqrt function"
   ]
  },
  {
   "cell_type": "code",
   "execution_count": 15,
   "metadata": {},
   "outputs": [
    {
     "data": {
      "text/html": [
       "10 methods for generic function <b>sqrt</b>:<ul><li> sqrt(x::<b>BigInt</b>) at <a href=\"https://github.com/JuliaLang/julia/tree/903644385b91ed8d95e5e3a5716c089dd1f1b08a/base/mpfr.jl#L486\" target=\"_blank\">mpfr.jl:486</a></li> <li> sqrt(x::<b>BigFloat</b>) at <a href=\"https://github.com/JuliaLang/julia/tree/903644385b91ed8d95e5e3a5716c089dd1f1b08a/base/mpfr.jl#L477\" target=\"_blank\">mpfr.jl:477</a></li> <li> sqrt(a::<b>Complex{Float16}</b>) at <a href=\"https://github.com/JuliaLang/julia/tree/903644385b91ed8d95e5e3a5716c089dd1f1b08a/base/math.jl#L951\" target=\"_blank\">math.jl:951</a></li> <li> sqrt(a::<b>Float16</b>) at <a href=\"https://github.com/JuliaLang/julia/tree/903644385b91ed8d95e5e3a5716c089dd1f1b08a/base/math.jl#L950\" target=\"_blank\">math.jl:950</a></li> <li> sqrt(x::<b>Float32</b>) at <a href=\"https://github.com/JuliaLang/julia/tree/903644385b91ed8d95e5e3a5716c089dd1f1b08a/base/math.jl#L426\" target=\"_blank\">math.jl:426</a></li> <li> sqrt(x::<b>Float64</b>) at <a href=\"https://github.com/JuliaLang/julia/tree/903644385b91ed8d95e5e3a5716c089dd1f1b08a/base/math.jl#L425\" target=\"_blank\">math.jl:425</a></li> <li> sqrt(z::<b>Complex{#s45} where #s45<:AbstractFloat</b>) at <a href=\"https://github.com/JuliaLang/julia/tree/903644385b91ed8d95e5e3a5716c089dd1f1b08a/base/complex.jl#L392\" target=\"_blank\">complex.jl:392</a></li> <li> sqrt(z::<b>Complex</b>) at <a href=\"https://github.com/JuliaLang/julia/tree/903644385b91ed8d95e5e3a5716c089dd1f1b08a/base/complex.jl#L416\" target=\"_blank\">complex.jl:416</a></li> <li> sqrt(x::<b>Real</b>) at <a href=\"https://github.com/JuliaLang/julia/tree/903644385b91ed8d95e5e3a5716c089dd1f1b08a/base/math.jl#L434\" target=\"_blank\">math.jl:434</a></li> <li> sqrt<i>{T<:Number}</i>(x::<b>AbstractArray{T,N} where N</b>) at <a href=\"https://github.com/JuliaLang/julia/tree/903644385b91ed8d95e5e3a5716c089dd1f1b08a/base/deprecated.jl#L56\" target=\"_blank\">deprecated.jl:56</a></li> </ul>"
      ],
      "text/plain": [
       "# 10 methods for generic function \"sqrt\":\n",
       "sqrt(x::BigInt) in Base.MPFR at mpfr.jl:486\n",
       "sqrt(x::BigFloat) in Base.MPFR at mpfr.jl:477\n",
       "sqrt(a::Complex{Float16}) in Base.Math at math.jl:951\n",
       "sqrt(a::Float16) in Base.Math at math.jl:950\n",
       "sqrt(x::Float32) in Base.Math at math.jl:426\n",
       "sqrt(x::Float64) in Base.Math at math.jl:425\n",
       "sqrt(z::Complex{#s45} where #s45<:AbstractFloat) in Base at complex.jl:392\n",
       "sqrt(z::Complex) in Base at complex.jl:416\n",
       "sqrt(x::Real) in Base.Math at math.jl:434\n",
       "sqrt(x::AbstractArray{T,N} where N) where T<:Number in Base at deprecated.jl:56"
      ]
     },
     "execution_count": 15,
     "metadata": {},
     "output_type": "execute_result"
    }
   ],
   "source": [
    "methods(sqrt)"
   ]
  },
  {
   "cell_type": "markdown",
   "metadata": {},
   "source": [
    "## Comparison: millionth iterate of logistic map in Julia and C\n",
    "\n",
    "Define $f(x) = 4x(1-x)$, generate millionth iterate function $f^N(x)$"
   ]
  },
  {
   "cell_type": "code",
   "execution_count": 16,
   "metadata": {},
   "outputs": [
    {
     "data": {
      "text/plain": [
       "(::fN) (generic function with 1 method)"
      ]
     },
     "execution_count": 16,
     "metadata": {},
     "output_type": "execute_result"
    }
   ],
   "source": [
    "# define function that, given an f, returns iterated function f^N\n",
    "function iterator(f, N)\n",
    "    \n",
    "    # construct f^N\n",
    "    function fN(x)\n",
    "      for i ∈ 1:N             \n",
    "        x = f(x)\n",
    "      end\n",
    "      x\n",
    "    end    \n",
    "    \n",
    "    fN     # return f^N\n",
    "end\n",
    "\n",
    "# define logistic map function\n",
    "f(x) = 4*x*(1-x)\n",
    "\n",
    "# use iterator function to constuct millionth iterate of logistic map\n",
    "fᴺ  = iterator(f, 1000000)  "
   ]
  },
  {
   "cell_type": "code",
   "execution_count": 17,
   "metadata": {},
   "outputs": [
    {
     "name": "stdout",
     "output_type": "stream",
     "text": [
      "  0.011285 seconds (1.79 k allocations: 100.256 KiB)\n",
      "  0.003043 seconds (5 allocations: 176 bytes)\n"
     ]
    }
   ],
   "source": [
    "@time x = fᴺ(0.34);\n",
    "@time x = fᴺ(0.67);"
   ]
  },
  {
   "cell_type": "code",
   "execution_count": 18,
   "metadata": {},
   "outputs": [
    {
     "name": "stdout",
     "output_type": "stream",
     "text": [
      "x = 0.10116885334547539\n"
     ]
    }
   ],
   "source": [
    "@show x;"
   ]
  },
  {
   "cell_type": "markdown",
   "metadata": {},
   "source": [
    "### Equivalent C++ code\n",
    "\n",
    "note: starting semicolon tells Julia to execute Unix shell code"
   ]
  },
  {
   "cell_type": "code",
   "execution_count": 19,
   "metadata": {},
   "outputs": [
    {
     "name": "stdout",
     "output_type": "stream",
     "text": [
      "/home/gibson/gitworking/whyjulia\n"
     ]
    }
   ],
   "source": [
    "; pwd"
   ]
  },
  {
   "cell_type": "code",
   "execution_count": 22,
   "metadata": {
    "scrolled": true
   },
   "outputs": [
    {
     "name": "stdout",
     "output_type": "stream",
     "text": [
      "#include <stdlib.h>\n",
      "#include <iostream>\n",
      "#include <iomanip>\n",
      "#include <ctime>\n",
      "\n",
      "using namespace std;\n",
      "\n",
      "double f(double x) {\n",
      "  return 4*x*(1-x);\n",
      "}\n",
      "\n",
      "int main(int argc, char* argv[]) {\n",
      "  double x = argc > 1 ? atof(argv[1]) : 0.0;\n",
      "\n",
      "  double t0 = clock();\n",
      "  for (int n=0; n<1000000; ++n)\n",
      "    x = f(x);\n",
      "  double t1 = clock();\n",
      "\n",
      "  cout << \"t = \" << (t1-t0)/CLOCKS_PER_SEC << \" seconds\" << endl;\n",
      "  cout << setprecision(17);\n",
      "  cout << \"x = \" << x << endl;\n",
      "  \n",
      "  return 0;\n",
      "}\n",
      "  \n"
     ]
    }
   ],
   "source": [
    "; cat fmillion.cpp"
   ]
  },
  {
   "cell_type": "code",
   "execution_count": 23,
   "metadata": {
    "collapsed": true
   },
   "outputs": [],
   "source": [
    "; g++ -O3 -o fmillion fmillion.cpp"
   ]
  },
  {
   "cell_type": "markdown",
   "metadata": {},
   "source": [
    "### Execution time for C++"
   ]
  },
  {
   "cell_type": "code",
   "execution_count": 24,
   "metadata": {
    "scrolled": true
   },
   "outputs": [
    {
     "name": "stdout",
     "output_type": "stream",
     "text": [
      "t = 0.002746 seconds\n",
      "x = 0.10116885334547539\n"
     ]
    }
   ],
   "source": [
    "; fmillion 0.67"
   ]
  },
  {
   "cell_type": "markdown",
   "metadata": {},
   "source": [
    "### Execution time for Julia"
   ]
  },
  {
   "cell_type": "code",
   "execution_count": 25,
   "metadata": {},
   "outputs": [
    {
     "name": "stdout",
     "output_type": "stream",
     "text": [
      "t=  0.002496 seconds (5 allocations: 176 bytes)\n",
      "x = 0.10116885334547539\n"
     ]
    }
   ],
   "source": [
    "print(\"t=\")\n",
    "@time x = fᴺ(0.67);\n",
    "@show x;"
   ]
  },
  {
   "cell_type": "markdown",
   "metadata": {},
   "source": [
    "Execution times $t$ are comparable. Sometimes Julia is faster, sometimes C. Millionth iterates $x$ are the same, indicate same sequence of floating-point operations. "
   ]
  },
  {
   "cell_type": "markdown",
   "metadata": {},
   "source": [
    "## Julia benchmarks versus other languages\n",
    "\n",
    "Execution times are normalized so C=1.\n",
    "\n",
    "![Julia benchmarks](juliabenchmarks.png  \" Julia benchmarks\")\n",
    "\n",
    "http://julialang.org/benchmarks\n"
   ]
  }
 ],
 "metadata": {
  "kernelspec": {
   "display_name": "Julia 0.6.0",
   "language": "julia",
   "name": "julia-0.6"
  },
  "language_info": {
   "file_extension": ".jl",
   "mimetype": "application/julia",
   "name": "julia",
   "version": "0.6.0"
  }
 },
 "nbformat": 4,
 "nbformat_minor": 2
}
